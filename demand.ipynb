{
 "cells": [
  {
   "cell_type": "code",
   "execution_count": 1,
   "metadata": {},
   "outputs": [],
   "source": [
    "import pandas as pd\n",
    "import numpy as np\n",
    "import matplotlib.pyplot as plt\n",
    "import seaborn as sns\n",
    "sns.set()\n",
    "sns.set_style(\"whitegrid\")\n",
    "sns.set_palette(\"GnBu_d\")\n",
    "import folium\n",
    "from folium import plugins\n",
    "from folium.plugins import HeatMap\n",
    "from datetime import datetime\n",
    "from datetime import timedelta\n",
    "import math\n",
    "import random \n",
    "import timeit\n",
    "from haversine import haversine # conda install -c conda-forge haversine ''"
   ]
  },
  {
   "cell_type": "code",
   "execution_count": 2,
   "metadata": {},
   "outputs": [],
   "source": [
    "BRM = pd.read_csv(\"resources/bremen.csv\")\n",
    "FRB = pd.read_csv(\"resources/freiburg.csv\")"
   ]
  },
  {
   "cell_type": "code",
   "execution_count": 3,
   "metadata": {},
   "outputs": [],
   "source": [
    "BRM[\"trip_duration\"] = BRM[\"trip_duration\"].astype(str).str.extract(\"days (.*?)\\.\")\n",
    "FRB[\"trip_duration\"] = FRB[\"trip_duration\"].astype(str).str.extract(\"days (.*?)\\.\")"
   ]
  },
  {
   "cell_type": "markdown",
   "metadata": {},
   "source": [
    "To summarize and work with the duration of the Trips we need to coinvert them to a useful type:"
   ]
  },
  {
   "cell_type": "code",
   "execution_count": 4,
   "metadata": {},
   "outputs": [],
   "source": [
    "BRM[\"trip_duration\"] = BRM[\"trip_duration\"].apply(pd.Timedelta)\n",
    "FRB[\"trip_duration\"] = FRB[\"trip_duration\"].apply(pd.Timedelta)"
   ]
  },
  {
   "cell_type": "markdown",
   "metadata": {},
   "source": [
    "After the convertion we sum the time daily driven:"
   ]
  },
  {
   "cell_type": "code",
   "execution_count": 5,
   "metadata": {},
   "outputs": [],
   "source": [
    "BRM_daily_driven = BRM.groupby(\"day\").agg({\"trip_duration\":\"sum\"})\n",
    "FRB_daily_driven = FRB.groupby(\"day\").agg({\"trip_duration\":\"sum\"})"
   ]
  },
  {
   "cell_type": "markdown",
   "metadata": {},
   "source": [
    "Morgens: 6 - 11 Uhr | Mittags: 11 - 16 | Abends: 16 - 21 | Nachts: 21 - 6"
   ]
  },
  {
   "cell_type": "code",
   "execution_count": 6,
   "metadata": {},
   "outputs": [],
   "source": [
    "BRM[\"daytime\"] = \"null\"\n",
    "FRB[\"daytime\"] = \"null\""
   ]
  },
  {
   "cell_type": "code",
   "execution_count": 7,
   "metadata": {},
   "outputs": [],
   "source": [
    "BRM_morning = BRM[(BRM[\"time\"] > \"06:00:00\") & (BRM[\"time\"] <= \"11:00:00\")]\n",
    "BRM_noon = BRM[(BRM[\"time\"] > \"11:00:00\") & (BRM[\"time\"] <= \"16:00:00\")]\n",
    "BRM_afternoon = BRM[(BRM[\"time\"] > \"16:00:00\") & (BRM[\"time\"] <= \"21:00:00\")]\n",
    "BRM_night = BRM[(BRM[\"time\"] > \"21:00:00\")] + BRM[(BRM[\"time\"] <= \"06:00:00\")]"
   ]
  },
  {
   "cell_type": "code",
   "execution_count": 8,
   "metadata": {},
   "outputs": [],
   "source": [
    "FRB_morning = FRB[(FRB[\"time\"] > \"06:00:00\") & (FRB[\"time\"] <= \"11:00:00\")]\n",
    "FRB_noon = FRB[(FRB[\"time\"] > \"11:00:00\") & (FRB[\"time\"] <= \"16:00:00\")]\n",
    "FRB_afternoon = FRB[(FRB[\"time\"] > \"16:00:00\") & (FRB[\"time\"] <= \"21:00:00\")]\n",
    "FRB_night = FRB[(FRB[\"time\"] > \"21:00:00\")] + FRB[(FRB[\"time\"] <= \"06:00:00\")]"
   ]
  },
  {
   "cell_type": "code",
   "execution_count": 9,
   "metadata": {},
   "outputs": [],
   "source": [
    "for i in BRM_morning.index:\n",
    "   BRM.at[i , \"daytime\"] = 0\n",
    "\n",
    "for i in BRM_noon.index:\n",
    "   BRM.at[i , \"daytime\"] = 1\n",
    "\n",
    "for i in BRM_afternoon.index:\n",
    "   BRM.at[i , \"daytime\"] = 2\n",
    "\n",
    "for i in BRM_night.index:\n",
    "   BRM.at[i , \"daytime\"] = 3"
   ]
  },
  {
   "cell_type": "code",
   "execution_count": 10,
   "metadata": {},
   "outputs": [],
   "source": [
    "for i in FRB_morning.index:\n",
    "   FRB.at[i , \"daytime\"] = 0\n",
    "\n",
    "for i in FRB_noon.index:\n",
    "   FRB.at[i , \"daytime\"] = 1\n",
    "\n",
    "for i in FRB_afternoon.index:\n",
    "   FRB.at[i , \"daytime\"] = 2\n",
    "\n",
    "for i in FRB_night.index:\n",
    "   FRB.at[i , \"daytime\"] = 3"
   ]
  },
  {
   "cell_type": "code",
   "execution_count": 11,
   "metadata": {},
   "outputs": [
    {
     "data": {
      "text/html": [
       "<div>\n",
       "<style scoped>\n",
       "    .dataframe tbody tr th:only-of-type {\n",
       "        vertical-align: middle;\n",
       "    }\n",
       "\n",
       "    .dataframe tbody tr th {\n",
       "        vertical-align: top;\n",
       "    }\n",
       "\n",
       "    .dataframe thead th {\n",
       "        text-align: right;\n",
       "    }\n",
       "</style>\n",
       "<table border=\"1\" class=\"dataframe\">\n",
       "  <thead>\n",
       "    <tr style=\"text-align: right;\">\n",
       "      <th></th>\n",
       "      <th></th>\n",
       "      <th>trip_duration</th>\n",
       "    </tr>\n",
       "    <tr>\n",
       "      <th>day</th>\n",
       "      <th>daytime</th>\n",
       "      <th></th>\n",
       "    </tr>\n",
       "  </thead>\n",
       "  <tbody>\n",
       "    <tr>\n",
       "      <th rowspan=\"4\" valign=\"top\">2019-01-20</th>\n",
       "      <th>0</th>\n",
       "      <td>04:21:00</td>\n",
       "    </tr>\n",
       "    <tr>\n",
       "      <th>1</th>\n",
       "      <td>20:37:00</td>\n",
       "    </tr>\n",
       "    <tr>\n",
       "      <th>2</th>\n",
       "      <td>08:41:00</td>\n",
       "    </tr>\n",
       "    <tr>\n",
       "      <th>3</th>\n",
       "      <td>05:38:00</td>\n",
       "    </tr>\n",
       "    <tr>\n",
       "      <th>2019-01-21</th>\n",
       "      <th>0</th>\n",
       "      <td>16:45:00</td>\n",
       "    </tr>\n",
       "    <tr>\n",
       "      <th>...</th>\n",
       "      <th>...</th>\n",
       "      <td>...</td>\n",
       "    </tr>\n",
       "    <tr>\n",
       "      <th>2020-01-19</th>\n",
       "      <th>3</th>\n",
       "      <td>19:32:00</td>\n",
       "    </tr>\n",
       "    <tr>\n",
       "      <th rowspan=\"4\" valign=\"top\">2020-01-20</th>\n",
       "      <th>0</th>\n",
       "      <td>21:32:00</td>\n",
       "    </tr>\n",
       "    <tr>\n",
       "      <th>1</th>\n",
       "      <td>21:54:00</td>\n",
       "    </tr>\n",
       "    <tr>\n",
       "      <th>2</th>\n",
       "      <td>17:04:00</td>\n",
       "    </tr>\n",
       "    <tr>\n",
       "      <th>3</th>\n",
       "      <td>06:35:00</td>\n",
       "    </tr>\n",
       "  </tbody>\n",
       "</table>\n",
       "<p>1451 rows × 1 columns</p>\n",
       "</div>"
      ],
      "text/plain": [
       "                   trip_duration\n",
       "day        daytime              \n",
       "2019-01-20 0            04:21:00\n",
       "           1            20:37:00\n",
       "           2            08:41:00\n",
       "           3            05:38:00\n",
       "2019-01-21 0            16:45:00\n",
       "...                          ...\n",
       "2020-01-19 3            19:32:00\n",
       "2020-01-20 0            21:32:00\n",
       "           1            21:54:00\n",
       "           2            17:04:00\n",
       "           3            06:35:00\n",
       "\n",
       "[1451 rows x 1 columns]"
      ]
     },
     "execution_count": 11,
     "metadata": {},
     "output_type": "execute_result"
    }
   ],
   "source": [
    "BRM_daytime_driven = BRM.groupby([\"day\",\"daytime\"]).agg({\"trip_duration\":\"sum\"})\n",
    "BRM_daytime_driven[\"trip_duration\"] = BRM_daytime_driven[\"trip_duration\"].astype(str).str.extract(\"days (.*?)\\.\")\n",
    "BRM_daytime_driven "
   ]
  },
  {
   "cell_type": "code",
   "execution_count": 12,
   "metadata": {},
   "outputs": [
    {
     "data": {
      "text/html": [
       "<div>\n",
       "<style scoped>\n",
       "    .dataframe tbody tr th:only-of-type {\n",
       "        vertical-align: middle;\n",
       "    }\n",
       "\n",
       "    .dataframe tbody tr th {\n",
       "        vertical-align: top;\n",
       "    }\n",
       "\n",
       "    .dataframe thead th {\n",
       "        text-align: right;\n",
       "    }\n",
       "</style>\n",
       "<table border=\"1\" class=\"dataframe\">\n",
       "  <thead>\n",
       "    <tr style=\"text-align: right;\">\n",
       "      <th></th>\n",
       "      <th></th>\n",
       "      <th>trip_duration</th>\n",
       "    </tr>\n",
       "    <tr>\n",
       "      <th>day</th>\n",
       "      <th>daytime</th>\n",
       "      <th></th>\n",
       "    </tr>\n",
       "  </thead>\n",
       "  <tbody>\n",
       "    <tr>\n",
       "      <th>2019-05-06</th>\n",
       "      <th>1</th>\n",
       "      <td>00:07:00</td>\n",
       "    </tr>\n",
       "    <tr>\n",
       "      <th rowspan=\"2\" valign=\"top\">2019-05-07</th>\n",
       "      <th>0</th>\n",
       "      <td>00:07:00</td>\n",
       "    </tr>\n",
       "    <tr>\n",
       "      <th>1</th>\n",
       "      <td>00:32:00</td>\n",
       "    </tr>\n",
       "    <tr>\n",
       "      <th rowspan=\"2\" valign=\"top\">2019-05-08</th>\n",
       "      <th>0</th>\n",
       "      <td>00:03:00</td>\n",
       "    </tr>\n",
       "    <tr>\n",
       "      <th>1</th>\n",
       "      <td>00:18:00</td>\n",
       "    </tr>\n",
       "    <tr>\n",
       "      <th>...</th>\n",
       "      <th>...</th>\n",
       "      <td>...</td>\n",
       "    </tr>\n",
       "    <tr>\n",
       "      <th>2020-01-19</th>\n",
       "      <th>3</th>\n",
       "      <td>02:26:00</td>\n",
       "    </tr>\n",
       "    <tr>\n",
       "      <th rowspan=\"4\" valign=\"top\">2020-01-20</th>\n",
       "      <th>0</th>\n",
       "      <td>05:46:00</td>\n",
       "    </tr>\n",
       "    <tr>\n",
       "      <th>1</th>\n",
       "      <td>22:31:00</td>\n",
       "    </tr>\n",
       "    <tr>\n",
       "      <th>2</th>\n",
       "      <td>14:34:00</td>\n",
       "    </tr>\n",
       "    <tr>\n",
       "      <th>3</th>\n",
       "      <td>12:07:00</td>\n",
       "    </tr>\n",
       "  </tbody>\n",
       "</table>\n",
       "<p>1008 rows × 1 columns</p>\n",
       "</div>"
      ],
      "text/plain": [
       "                   trip_duration\n",
       "day        daytime              \n",
       "2019-05-06 1            00:07:00\n",
       "2019-05-07 0            00:07:00\n",
       "           1            00:32:00\n",
       "2019-05-08 0            00:03:00\n",
       "           1            00:18:00\n",
       "...                          ...\n",
       "2020-01-19 3            02:26:00\n",
       "2020-01-20 0            05:46:00\n",
       "           1            22:31:00\n",
       "           2            14:34:00\n",
       "           3            12:07:00\n",
       "\n",
       "[1008 rows x 1 columns]"
      ]
     },
     "execution_count": 12,
     "metadata": {},
     "output_type": "execute_result"
    }
   ],
   "source": [
    "FRB_daytime_driven = FRB.groupby([\"day\",\"daytime\"]).agg({\"trip_duration\":\"sum\"})\n",
    "FRB_daytime_driven[\"trip_duration\"] = FRB_daytime_driven[\"trip_duration\"].astype(str).str.extract(\"days (.*?)\\.\")\n",
    "FRB_daytime_driven "
   ]
  },
  {
   "cell_type": "code",
   "execution_count": 13,
   "metadata": {},
   "outputs": [
    {
     "data": {
      "text/html": [
       "<div>\n",
       "<style scoped>\n",
       "    .dataframe tbody tr th:only-of-type {\n",
       "        vertical-align: middle;\n",
       "    }\n",
       "\n",
       "    .dataframe tbody tr th {\n",
       "        vertical-align: top;\n",
       "    }\n",
       "\n",
       "    .dataframe thead th {\n",
       "        text-align: right;\n",
       "    }\n",
       "</style>\n",
       "<table border=\"1\" class=\"dataframe\">\n",
       "  <thead>\n",
       "    <tr style=\"text-align: right;\">\n",
       "      <th></th>\n",
       "      <th>day</th>\n",
       "      <th>time</th>\n",
       "      <th>b_number</th>\n",
       "      <th>city</th>\n",
       "      <th>trip_duration</th>\n",
       "      <th>orig_lat</th>\n",
       "      <th>orig_lng</th>\n",
       "      <th>dest_lat</th>\n",
       "      <th>dest_lng</th>\n",
       "      <th>daytime</th>\n",
       "    </tr>\n",
       "  </thead>\n",
       "  <tbody>\n",
       "    <tr>\n",
       "      <th>1</th>\n",
       "      <td>2019-05-07</td>\n",
       "      <td>10:42:00</td>\n",
       "      <td>32560</td>\n",
       "      <td>freiburg</td>\n",
       "      <td>00:07:00</td>\n",
       "      <td>47.994191</td>\n",
       "      <td>7.796853</td>\n",
       "      <td>47.991960</td>\n",
       "      <td>7.797405</td>\n",
       "      <td>0</td>\n",
       "    </tr>\n",
       "    <tr>\n",
       "      <th>2</th>\n",
       "      <td>2019-05-07</td>\n",
       "      <td>11:02:00</td>\n",
       "      <td>32560</td>\n",
       "      <td>freiburg</td>\n",
       "      <td>00:09:00</td>\n",
       "      <td>47.992044</td>\n",
       "      <td>7.797352</td>\n",
       "      <td>47.992000</td>\n",
       "      <td>7.797478</td>\n",
       "      <td>1</td>\n",
       "    </tr>\n",
       "    <tr>\n",
       "      <th>3</th>\n",
       "      <td>2019-05-07</td>\n",
       "      <td>12:48:00</td>\n",
       "      <td>32560</td>\n",
       "      <td>freiburg</td>\n",
       "      <td>00:23:00</td>\n",
       "      <td>47.992107</td>\n",
       "      <td>7.797499</td>\n",
       "      <td>47.994271</td>\n",
       "      <td>7.796668</td>\n",
       "      <td>1</td>\n",
       "    </tr>\n",
       "  </tbody>\n",
       "</table>\n",
       "</div>"
      ],
      "text/plain": [
       "          day      time  b_number      city trip_duration   orig_lat  \\\n",
       "1  2019-05-07  10:42:00     32560  freiburg      00:07:00  47.994191   \n",
       "2  2019-05-07  11:02:00     32560  freiburg      00:09:00  47.992044   \n",
       "3  2019-05-07  12:48:00     32560  freiburg      00:23:00  47.992107   \n",
       "\n",
       "   orig_lng   dest_lat  dest_lng daytime  \n",
       "1  7.796853  47.991960  7.797405       0  \n",
       "2  7.797352  47.992000  7.797478       1  \n",
       "3  7.797499  47.994271  7.796668       1  "
      ]
     },
     "execution_count": 13,
     "metadata": {},
     "output_type": "execute_result"
    }
   ],
   "source": [
    "FRB_prove = FRB[FRB[\"day\"] == \"2019-05-07\"]\n",
    "FRB_prove"
   ]
  },
  {
   "cell_type": "code",
   "execution_count": null,
   "metadata": {},
   "outputs": [],
   "source": []
  }
 ],
 "metadata": {
  "kernelspec": {
   "display_name": "Python 3",
   "language": "python",
   "name": "python3"
  },
  "language_info": {
   "codemirror_mode": {
    "name": "ipython",
    "version": 3
   },
   "file_extension": ".py",
   "mimetype": "text/x-python",
   "name": "python",
   "nbconvert_exporter": "python",
   "pygments_lexer": "ipython3",
   "version": "3.7.7"
  }
 },
 "nbformat": 4,
 "nbformat_minor": 4
}
