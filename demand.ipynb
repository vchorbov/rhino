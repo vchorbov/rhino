{
 "cells": [
  {
   "cell_type": "code",
   "execution_count": 1,
   "metadata": {},
   "outputs": [],
   "source": [
    "import pandas as pd\n",
    "import numpy as np\n",
    "import matplotlib.pyplot as plt\n",
    "import seaborn as sns\n",
    "sns.set()\n",
    "sns.set_style(\"whitegrid\")\n",
    "sns.set_palette(\"GnBu_d\")\n",
    "import folium\n",
    "from folium import plugins\n",
    "from folium.plugins import HeatMap\n",
    "from datetime import datetime\n",
    "from datetime import timedelta\n",
    "import math\n",
    "import random \n",
    "import timeit\n",
    "from haversine import haversine # conda install -c conda-forge haversine ''"
   ]
  },
  {
   "cell_type": "code",
   "execution_count": 2,
   "metadata": {},
   "outputs": [],
   "source": [
    "brm = pd.read_csv(\"resources/bremen.csv\")\n",
    "frb = pd.read_csv(\"resources/freiburg.csv\")"
   ]
  },
  {
   "cell_type": "code",
   "execution_count": 3,
   "metadata": {},
   "outputs": [],
   "source": [
    "brm[\"trip_duration\"] = brm[\"trip_duration\"].astype(str).str.extract(\"days (.*?)\\.\")\n",
    "frb[\"trip_duration\"] = frb[\"trip_duration\"].astype(str).str.extract(\"days (.*?)\\.\")"
   ]
  },
  {
   "cell_type": "markdown",
   "metadata": {},
   "source": [
    "Ab hier:"
   ]
  },
  {
   "cell_type": "markdown",
   "metadata": {},
   "source": [
    "To work with the duration of the Trips we need to convert them to a useful type:"
   ]
  },
  {
   "cell_type": "code",
   "execution_count": 4,
   "metadata": {},
   "outputs": [],
   "source": [
    "brm[\"trip_duration\"] = brm[\"trip_duration\"].apply(pd.Timedelta)\n",
    "frb[\"trip_duration\"] = frb[\"trip_duration\"].apply(pd.Timedelta)"
   ]
  },
  {
   "cell_type": "markdown",
   "metadata": {},
   "source": [
    "After the convertion we can sum the time daily driven:"
   ]
  },
  {
   "cell_type": "code",
   "execution_count": 5,
   "metadata": {},
   "outputs": [],
   "source": [
    "brm_daily_driven = brm.groupby(\"day\").agg({\"trip_duration\":\"sum\"})\n",
    "frb_daily_driven = frb.groupby(\"day\").agg({\"trip_duration\":\"sum\"})"
   ]
  },
  {
   "cell_type": "markdown",
   "metadata": {},
   "source": [
    "For a more detailed aggregation we add a daytime to the variables, so we can calculate time driven by daytime. This also allows a better mapping of how weather effects demand."
   ]
  },
  {
   "cell_type": "code",
   "execution_count": 6,
   "metadata": {},
   "outputs": [],
   "source": [
    "brm[\"daytime\"] = \"null\"\n",
    "frb[\"daytime\"] = \"null\""
   ]
  },
  {
   "cell_type": "markdown",
   "metadata": {},
   "source": [
    "Define Daytimes: Morning: 6 - 11 | Noon: 11 - 16 | Evening: 16 - 21 | Night: 21 - 6"
   ]
  },
  {
   "cell_type": "code",
   "execution_count": 7,
   "metadata": {},
   "outputs": [],
   "source": [
    "brm_morning = brm[(brm[\"time\"] > \"06:00:00\") & (brm[\"time\"] <= \"11:00:00\")] #saving rows where time is in defined range to a new df\n",
    "brm_noon = brm[(brm[\"time\"] > \"11:00:00\") & (brm[\"time\"] <= \"16:00:00\")]\n",
    "brm_evening = brm[(brm[\"time\"] > \"16:00:00\") & (brm[\"time\"] <= \"21:00:00\")]\n",
    "brm_night = brm[(brm[\"time\"] > \"21:00:00\")] + brm[(brm[\"time\"] <= \"06:00:00\")]"
   ]
  },
  {
   "cell_type": "code",
   "execution_count": 8,
   "metadata": {},
   "outputs": [],
   "source": [
    "frb_morning = frb[(frb[\"time\"] > \"06:00:00\") & (frb[\"time\"] <= \"11:00:00\")]\n",
    "frb_noon = frb[(frb[\"time\"] > \"11:00:00\") & (frb[\"time\"] <= \"16:00:00\")]\n",
    "frb_evening = frb[(frb[\"time\"] > \"16:00:00\") & (frb[\"time\"] <= \"21:00:00\")]\n",
    "frb_night = frb[(frb[\"time\"] > \"21:00:00\")] + frb[(frb[\"time\"] <= \"06:00:00\")]"
   ]
  },
  {
   "cell_type": "markdown",
   "metadata": {},
   "source": [
    "adding corresponding values to column:"
   ]
  },
  {
   "cell_type": "code",
   "execution_count": 9,
   "metadata": {},
   "outputs": [],
   "source": [
    "for i in brm_morning.index: # using indexes from lists above to cycle through the whole data\n",
    "   brm.at[i , \"daytime\"] = 0 # morning refers to 0\n",
    "for i in brm_noon.index:\n",
    "   brm.at[i , \"daytime\"] = 1 # noon -> 1\n",
    "for i in brm_evening.index:\n",
    "   brm.at[i , \"daytime\"] = 2 # evening -> 2\n",
    "for i in brm_night.index:\n",
    "   brm.at[i , \"daytime\"] = 3 # night -> 3"
   ]
  },
  {
   "cell_type": "code",
   "execution_count": 10,
   "metadata": {},
   "outputs": [],
   "source": [
    "for i in frb_morning.index:\n",
    "   frb.at[i , \"daytime\"] = 0\n",
    "for i in frb_noon.index:\n",
    "   frb.at[i , \"daytime\"] = 1\n",
    "for i in frb_evening.index:\n",
    "   frb.at[i , \"daytime\"] = 2\n",
    "for i in frb_night.index:\n",
    "   frb.at[i , \"daytime\"] = 3"
   ]
  },
  {
   "cell_type": "markdown",
   "metadata": {},
   "source": [
    "Summarizing data over day and daytime via aggregation of the trip durations taken."
   ]
  },
  {
   "cell_type": "code",
   "execution_count": 11,
   "metadata": {},
   "outputs": [],
   "source": [
    "brm_daytime_driven = brm.groupby([\"day\",\"daytime\"]).agg({\"trip_duration\":\"sum\"})\n",
    "brm_daytime_driven[\"trip_duration\"] = brm_daytime_driven[\"trip_duration\"].astype(str).str.extract(\"days (.*?)\\.\")"
   ]
  },
  {
   "cell_type": "code",
   "execution_count": 12,
   "metadata": {},
   "outputs": [],
   "source": [
    "frb_daytime_driven = frb.groupby([\"day\",\"daytime\"]).agg({\"trip_duration\":\"sum\"})\n",
    "frb_daytime_driven[\"trip_duration\"] = frb_daytime_driven[\"trip_duration\"].astype(str).str.extract(\"days (.*?)\\.\")"
   ]
  },
  {
   "cell_type": "code",
   "execution_count": 13,
   "metadata": {},
   "outputs": [
    {
     "name": "stdout",
     "output_type": "stream",
     "text": [
      "                   trip_duration\n",
      "day        daytime              \n",
      "2019-01-20 0            04:21:00\n",
      "           1            20:37:00\n",
      "           2            08:41:00\n",
      "           3            05:38:00\n",
      "2019-01-21 0            16:45:00\n",
      "...                          ...\n",
      "2020-01-19 3            19:32:00\n",
      "2020-01-20 0            21:32:00\n",
      "           1            21:54:00\n",
      "           2            17:04:00\n",
      "           3            06:35:00\n",
      "\n",
      "[1451 rows x 1 columns]\n",
      "                   trip_duration\n",
      "day        daytime              \n",
      "2019-05-06 1            00:07:00\n",
      "2019-05-07 0            00:07:00\n",
      "           1            00:32:00\n",
      "2019-05-08 0            00:03:00\n",
      "           1            00:18:00\n",
      "...                          ...\n",
      "2020-01-19 3            02:26:00\n",
      "2020-01-20 0            05:46:00\n",
      "           1            22:31:00\n",
      "           2            14:34:00\n",
      "           3            12:07:00\n",
      "\n",
      "[1008 rows x 1 columns]\n",
      "          day      time  b_number      city trip_duration   orig_lat  \\\n",
      "1  2019-05-07  10:42:00     32560  freiburg      00:07:00  47.994191   \n",
      "2  2019-05-07  11:02:00     32560  freiburg      00:09:00  47.992044   \n",
      "3  2019-05-07  12:48:00     32560  freiburg      00:23:00  47.992107   \n",
      "\n",
      "   orig_lng   dest_lat  dest_lng daytime  \n",
      "1  7.796853  47.991960  7.797405       0  \n",
      "2  7.797352  47.992000  7.797478       1  \n",
      "3  7.797499  47.994271  7.796668       1  \n"
     ]
    }
   ],
   "source": [
    "# Anzeige von dem ganzen gedöns das ich ausgerechnet hab und ein Auschnitt von einem Tag aus Freiburg zur Überprüfung:\n",
    "print(brm_daytime_driven)# falls jemand weiss wie man daytime als Spalten bekommt sagt bescheid 😄 (hab 1std versucht das hinzubekomme dann wars mir zu blöd 🤣)\n",
    "print(frb_daytime_driven)\n",
    "print(frb[frb[\"day\"] == \"2019-05-07\"])"
   ]
  },
  {
   "cell_type": "code",
   "execution_count": 14,
   "metadata": {},
   "outputs": [],
   "source": [
    "brm[\"hour\"] = brm[\"time\"].str[:-6]"
   ]
  },
  {
   "cell_type": "code",
   "execution_count": 15,
   "metadata": {},
   "outputs": [],
   "source": [
    "brm_hourly_driven = brm.groupby([\"day\",\"hour\"]).agg({\"trip_duration\":\"sum\"})"
   ]
  },
  {
   "cell_type": "code",
   "execution_count": 16,
   "metadata": {},
   "outputs": [
    {
     "data": {
      "text/html": [
       "<div>\n",
       "<style scoped>\n",
       "    .dataframe tbody tr th:only-of-type {\n",
       "        vertical-align: middle;\n",
       "    }\n",
       "\n",
       "    .dataframe tbody tr th {\n",
       "        vertical-align: top;\n",
       "    }\n",
       "\n",
       "    .dataframe thead th {\n",
       "        text-align: right;\n",
       "    }\n",
       "</style>\n",
       "<table border=\"1\" class=\"dataframe\">\n",
       "  <thead>\n",
       "    <tr style=\"text-align: right;\">\n",
       "      <th></th>\n",
       "      <th></th>\n",
       "      <th>trip_duration</th>\n",
       "    </tr>\n",
       "    <tr>\n",
       "      <th>day</th>\n",
       "      <th>hour</th>\n",
       "      <th></th>\n",
       "    </tr>\n",
       "  </thead>\n",
       "  <tbody>\n",
       "    <tr>\n",
       "      <th rowspan=\"5\" valign=\"top\">2019-01-20</th>\n",
       "      <th>00</th>\n",
       "      <td>00:21:00</td>\n",
       "    </tr>\n",
       "    <tr>\n",
       "      <th>01</th>\n",
       "      <td>00:34:00</td>\n",
       "    </tr>\n",
       "    <tr>\n",
       "      <th>02</th>\n",
       "      <td>01:51:00</td>\n",
       "    </tr>\n",
       "    <tr>\n",
       "      <th>03</th>\n",
       "      <td>00:18:00</td>\n",
       "    </tr>\n",
       "    <tr>\n",
       "      <th>05</th>\n",
       "      <td>01:10:00</td>\n",
       "    </tr>\n",
       "    <tr>\n",
       "      <th>...</th>\n",
       "      <th>...</th>\n",
       "      <td>...</td>\n",
       "    </tr>\n",
       "    <tr>\n",
       "      <th rowspan=\"5\" valign=\"top\">2020-01-20</th>\n",
       "      <th>19</th>\n",
       "      <td>06:24:00</td>\n",
       "    </tr>\n",
       "    <tr>\n",
       "      <th>20</th>\n",
       "      <td>05:20:00</td>\n",
       "    </tr>\n",
       "    <tr>\n",
       "      <th>21</th>\n",
       "      <td>01:47:00</td>\n",
       "    </tr>\n",
       "    <tr>\n",
       "      <th>22</th>\n",
       "      <td>02:28:00</td>\n",
       "    </tr>\n",
       "    <tr>\n",
       "      <th>23</th>\n",
       "      <td>00:23:00</td>\n",
       "    </tr>\n",
       "  </tbody>\n",
       "</table>\n",
       "<p>8409 rows × 1 columns</p>\n",
       "</div>"
      ],
      "text/plain": [
       "                trip_duration\n",
       "day        hour              \n",
       "2019-01-20 00        00:21:00\n",
       "           01        00:34:00\n",
       "           02        01:51:00\n",
       "           03        00:18:00\n",
       "           05        01:10:00\n",
       "...                       ...\n",
       "2020-01-20 19        06:24:00\n",
       "           20        05:20:00\n",
       "           21        01:47:00\n",
       "           22        02:28:00\n",
       "           23        00:23:00\n",
       "\n",
       "[8409 rows x 1 columns]"
      ]
     },
     "execution_count": 16,
     "metadata": {},
     "output_type": "execute_result"
    }
   ],
   "source": []
  },
  {
   "cell_type": "code",
   "execution_count": null,
   "metadata": {},
   "outputs": [],
   "source": []
  }
 ],
 "metadata": {
  "kernelspec": {
   "display_name": "Python 3",
   "language": "python",
   "name": "python3"
  },
  "language_info": {
   "codemirror_mode": {
    "name": "ipython",
    "version": 3
   },
   "file_extension": ".py",
   "mimetype": "text/x-python",
   "name": "python",
   "nbconvert_exporter": "python",
   "pygments_lexer": "ipython3",
   "version": "3.7.7"
  }
 },
 "nbformat": 4,
 "nbformat_minor": 4
}
