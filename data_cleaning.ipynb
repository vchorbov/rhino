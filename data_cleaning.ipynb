{
 "cells": [
  {
   "cell_type": "code",
   "execution_count": 1,
   "metadata": {},
   "outputs": [],
   "source": [
    "import pandas as pd\n",
    "import numpy as np\n",
    "import matplotlib.pyplot as plt\n",
    "import seaborn as sns\n",
    "sns.set()\n",
    "sns.set_style(\"whitegrid\")\n",
    "sns.set_palette(\"GnBu_d\")\n",
    "import folium\n",
    "from folium import plugins\n",
    "from folium.plugins import HeatMap\n",
    "from datetime import datetime\n",
    "from datetime import timedelta\n",
    "import math\n",
    "import random \n",
    "import timeit\n",
    "from haversine import haversine # conda install -c conda-forge haversine ''"
   ]
  },
  {
   "cell_type": "code",
   "execution_count": 2,
   "metadata": {},
   "outputs": [],
   "source": [
    "BRM = pd.read_csv(\"bremen.csv\")\n",
    "FRB = pd.read_csv(\"freiburg.csv\")"
   ]
  },
  {
   "cell_type": "code",
   "execution_count": 3,
   "metadata": {},
   "outputs": [],
   "source": [
    "BRM_origin = (BRM[\"orig_lat\"]),(BRM[\"orig_lng\"])\n",
    "BRM_destination = (BRM[\"dest_lat\"]),(BRM[\"dest_lng\"])\n",
    "\n",
    "FRB_origin = (FRB[\"orig_lat\"]),(FRB[\"orig_lng\"])\n",
    "FRB_destination = (FRB[\"dest_lat\"]),(FRB[\"dest_lng\"])"
   ]
  },
  {
   "cell_type": "code",
   "execution_count": null,
   "metadata": {},
   "outputs": [],
   "source": [
    "BRM_distance = []\n",
    "for row in range(len(BRM)):\n",
    "    BRM_distance.append(haversine(\n",
    "        (BRM_origin[0][row],BRM_origin[1][row]),(BRM_destination[0][row],BRM_destination[1][row])\n",
    "    ))\n",
    "    \n",
    "BRM[\"distance\"] = BRM_distance"
   ]
  },
  {
   "cell_type": "code",
   "execution_count": null,
   "metadata": {},
   "outputs": [],
   "source": [
    "FRB_distance = []\n",
    "for row in range(len(FRB)):\n",
    "    FRB_distance.append(haversine(\n",
    "        (FRB_origin[0][row],FRB_origin[1][row]),(FRB_destination[0][row],FRB_destination[1][row])\n",
    "    ))\n",
    "    \n",
    "FRB[\"distance\"] = FRB_distance\n"
   ]
  },
  {
   "cell_type": "code",
   "execution_count": null,
   "metadata": {},
   "outputs": [],
   "source": [
    "BRM.tail(3)"
   ]
  },
  {
   "cell_type": "code",
   "execution_count": null,
   "metadata": {},
   "outputs": [],
   "source": [
    "FRB.tail(3)"
   ]
  },
  {
   "cell_type": "markdown",
   "metadata": {},
   "source": [
    "We cheched the longest trip duration both for the city of Bremen and the city of Freiburg. By doing so we came to the conclusion that both durations are just under 3 hours. So by removing the day-values and the redundant milliseconds we are making the data easier to grasp for the average reader and easier to work with for the data scientist."
   ]
  },
  {
   "cell_type": "code",
   "execution_count": null,
   "metadata": {},
   "outputs": [],
   "source": [
    " BRM[\"trip_duration\"].max()"
   ]
  },
  {
   "cell_type": "code",
   "execution_count": null,
   "metadata": {},
   "outputs": [],
   "source": [
    " FRB[\"trip_duration\"].max()"
   ]
  },
  {
   "cell_type": "code",
   "execution_count": null,
   "metadata": {},
   "outputs": [],
   "source": [
    "BRM[\"trip_duration\"] = BRM[\"trip_duration\"].astype(str).str.extract(\"days (.*?)\\.\")"
   ]
  },
  {
   "cell_type": "code",
   "execution_count": null,
   "metadata": {},
   "outputs": [],
   "source": [
    "FRB[\"trip_duration\"] = FRB[\"trip_duration\"].astype(str).str.extract(\"days (.*?)\\.\")"
   ]
  },
  {
   "cell_type": "code",
   "execution_count": null,
   "metadata": {},
   "outputs": [],
   "source": [
    "FRB.head(3)"
   ]
  },
  {
   "cell_type": "code",
   "execution_count": null,
   "metadata": {},
   "outputs": [],
   "source": [
    "BRM.head(3)"
   ]
  },
  {
   "cell_type": "markdown",
   "metadata": {},
   "source": [
    "As part of the data cleaning we are making the assumption that all the trips whit total distance under 100m are due to some kind of error, such as unintended log-in, hence they are removed from the data set.  "
   ]
  },
  {
   "cell_type": "code",
   "execution_count": null,
   "metadata": {},
   "outputs": [],
   "source": [
    "#dropping the noise-rows\n",
    "indexF = FRB[(FRB[\"distance\"] < 0.1)].index\n",
    "FRB.drop(indexF, inplace=True)\n",
    "indexB = BRM[(BRM[\"distance\"] < 0.1)].index\n",
    "BRM.drop(indexB, inplace=True)\n",
    "\n",
    "#resetting the indices after the cleaning\n",
    "FRB=FRB.reset_index(drop=True)\n",
    "BRM=BRM.reset_index(drop=True)"
   ]
  },
  {
   "cell_type": "markdown",
   "metadata": {},
   "source": [
    "Another assumption made for the purpose of data cleaning is that trips with average speed under 0.5kmh are also of no interest for us."
   ]
  },
  {
   "cell_type": "code",
   "execution_count": null,
   "metadata": {},
   "outputs": [],
   "source": [
    "#creating helper-columns for the calculation of the  average kmh\n",
    "FRB[\"trip_duration_seconds\"] = pd.to_timedelta(FRB['trip_duration'])\n",
    "FRB[\"trip_duration_seconds\"] = FRB[\"trip_duration_seconds\"].dt.seconds\n",
    "FRB[\"trip_duration_hours\"] = (FRB[\"trip_duration_seconds\"]/3600)\n",
    "FRB[\"kmh\"] = (FRB[\"distance\"] / FRB[\"trip_duration_hours\"])\n",
    "\n",
    "BRM[\"trip_duration_seconds\"] = pd.to_timedelta(BRM['trip_duration'])\n",
    "BRM[\"trip_duration_seconds\"] = BRM[\"trip_duration_seconds\"].dt.seconds\n",
    "BRM[\"trip_duration_hours\"] = (BRM[\"trip_duration_seconds\"]/3600)\n",
    "BRM[\"kmh\"] = (BRM[\"distance\"] / BRM[\"trip_duration_hours\"])\n",
    "\n",
    "# applying the condition\n",
    "indexF = FRB[(FRB[\"kmh\"] < 0.5)].index\n",
    "FRB.drop(indexF, inplace=True) \n",
    "indexB = BRM[(BRM[\"kmh\"] < 0.5)].index\n",
    "BRM.drop(indexB, inplace=True) \n",
    "\n",
    "#resetting the indices after the cleaning\n",
    "FRB=FRB.reset_index(drop=True)\n",
    "BRM=BRM.reset_index(drop=True)\n",
    "\n",
    "#removing the helper-columns from the data set\n",
    "FRB = FRB.drop(\"trip_duration_seconds\", 1)\n",
    "FRB = FRB.drop(\"trip_duration_hours\", 1)\n",
    "FRB = FRB.drop(\"kmh\", 1)\n",
    "\n",
    "BRM = BRM.drop(\"trip_duration_seconds\", 1)\n",
    "BRM = BRM.drop(\"trip_duration_hours\", 1)\n",
    "BRM = BRM.drop(\"kmh\", 1)\n",
    "\n"
   ]
  },
  {
   "cell_type": "code",
   "execution_count": null,
   "metadata": {},
   "outputs": [],
   "source": [
    "BRM.tail(3)"
   ]
  },
  {
   "cell_type": "code",
   "execution_count": null,
   "metadata": {},
   "outputs": [],
   "source": [
    "FRB.tail(3)"
   ]
  },
  {
   "cell_type": "markdown",
   "metadata": {},
   "source": [
    "As a conclusion:\n",
    "the data points in the city of Bremen have been reduced from 157 576 (before the cleaning) to 148 514 (after the cleaning);\n",
    "the data points in the city of Freiburg have been reduced from 127 529 (before the cleaning) to 124 763 (after the cleaning);"
   ]
  }
 ],
 "metadata": {
  "kernelspec": {
   "display_name": "Python 3",
   "language": "python",
   "name": "python3"
  },
  "language_info": {
   "codemirror_mode": {
    "name": "ipython",
    "version": 3
   },
   "file_extension": ".py",
   "mimetype": "text/x-python",
   "name": "python",
   "nbconvert_exporter": "python",
   "pygments_lexer": "ipython3",
   "version": "3.7.6"
  }
 },
 "nbformat": 4,
 "nbformat_minor": 4
}
