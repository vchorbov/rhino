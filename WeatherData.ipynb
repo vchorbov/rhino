{
 "cells": [
  {
   "cell_type": "code",
   "execution_count": null,
   "outputs": [],
   "source": [
    "import pandas as pd\n",
    "from datetime import datetime\n",
    "import matplotlib.pyplot as plt\n",
    "%matplotlib inline"
   ],
   "metadata": {
    "collapsed": false,
    "pycharm": {
     "name": "#%%\n"
    }
   }
  },
  {
   "cell_type": "markdown",
   "source": [
    "## Defining methods to join bike_data and weather data"
   ],
   "metadata": {
    "collapsed": false
   }
  },
  {
   "cell_type": "code",
   "execution_count": null,
   "outputs": [],
   "source": [
    "def cut_timestamp(timestamp_col):\n",
    "    return timestamp_col.map(lambda x:int(str(x)[:10]))\n",
    "\n",
    "def assemble_timestamp_cut(day_frame, time_frame):\n",
    "    day_clean = day_frame.map(lambda x: x.replace(\"-\", \"\"))\n",
    "    hour = time_frame.map(lambda x: x.replace(\":\", \"\")[:2])\n",
    "    return (day_clean + hour).astype(\"int64\")\n",
    "\n",
    "def join_by_hour(bike_frame, weather_frame, column_name):\n",
    "    bike_frame[\"timestamp_cut\"] = assemble_timestamp_cut(bike_frame[\"day\"], bike_frame[\"time\"])\n",
    "    weather_frame[\"timestamp_cut\"] = cut_timestamp(weather_frame[\"Zeitstempel\"])\n",
    "    \n",
    "    joined = bike_frame.join(weather_frame[[\"Wert\", \"timestamp_cut\"]].set_index(\"timestamp_cut\"), on=\"timestamp_cut\")\n",
    "    joined[column_name] = joined[\"Wert\"]\n",
    "    \n",
    "    joined = joined.drop(\"Wert\", axis=1)\n",
    "    joined = joined.drop(\"timestamp_cut\", axis=1)\n",
    "    \n",
    "    return joined"
   ],
   "metadata": {
    "collapsed": false,
    "pycharm": {
     "name": "#%%\n"
    }
   }
  },
  {
   "cell_type": "code",
   "execution_count": null,
   "outputs": [],
   "source": [
    "brm = pd.read_csv(\"resources/bremen.csv\")\n",
    "brm_precipitation = pd.read_csv(\"resources/bremen_precipitation.csv\")\n",
    "brm_temperature = pd.read_csv(\"resources/bremen_temperature.csv\")\n",
    "schwarme_precipitation = pd.read_csv(\"resources/schwarme_precipitation.csv\")\n",
    "bassum_precipitation = pd.read_csv(\"resources/bassum_precipitation.csv\")\n",
    "\n",
    "brm_precipitation.info()"
   ],
   "metadata": {
    "collapsed": false,
    "pycharm": {
     "name": "#%%\n"
    }
   }
  },
  {
   "cell_type": "markdown",
   "source": [
    "Identifying missing values"
   ],
   "metadata": {
    "collapsed": false
   }
  },
  {
   "cell_type": "code",
   "execution_count": null,
   "outputs": [],
   "source": [
    "# create a dataframe which contains all dates from 2019-01-20 until 2020-01-20\n",
    "all_dates_frame = pd.DataFrame(pd.date_range(\n",
    "    start = datetime.strptime(\"2019-01-20 00\", \"%Y-%m-%d %H\"), \n",
    "    end = datetime.strptime(\"2020-01-20 00\", \"%Y-%m-%d %H\"),\n",
    "    freq=\"1h\"), columns=[\"date\"])\n",
    "\n",
    "all_dates_frame[\"Zeitstempel\"] = all_dates_frame[\"date\"].map(lambda x: int(x.strftime(\"%Y%m%d%H%M\")))\n",
    "all_dates_frame = all_dates_frame.drop(\"date\", 1)\n",
    "\n",
    "# loading precipitation data of bremen and mark missing values\n",
    "brm_precipitation_full = brm_precipitation.join(all_dates_frame.set_index(\"Zeitstempel\"), on=\"Zeitstempel\", how=\"outer\")\n",
    "brm_precipitation_full = brm_precipitation_full.set_index(\"Zeitstempel\")\n",
    "brm_precipitation_full = brm_precipitation_full.sort_values(\"Zeitstempel\")\n",
    "brm_precipitation_full = brm_precipitation_full.reset_index()\n",
    "\n",
    "brm_precipitation_full[brm_precipitation_full[\"Wert\"].isnull()]"
   ],
   "metadata": {
    "collapsed": false,
    "pycharm": {
     "name": "#%%\n"
    }
   }
  },
  {
   "cell_type": "code",
   "execution_count": null,
   "outputs": [],
   "source": [
    "brm_sub_frame = brm_precipitation_full[(brm_precipitation_full[\"Zeitstempel\"] >= 201902070000) & (brm_precipitation_full[\"Zeitstempel\"] <= 201902080300)]\n",
    "brm_sub_frame"
   ],
   "metadata": {
    "collapsed": false,
    "pycharm": {
     "name": "#%%\n"
    }
   }
  },
  {
   "cell_type": "markdown",
   "source": [
    "## Getting data from station of schwarme and station of bassum"
   ],
   "metadata": {
    "collapsed": false
   }
  },
  {
   "cell_type": "code",
   "execution_count": null,
   "outputs": [],
   "source": [
    "# loading precipitation data of schwarme and mark missing values\n",
    "schwarme_precipitation_full = schwarme_precipitation.join(all_dates_frame.set_index(\"Zeitstempel\"), on=\"Zeitstempel\", how=\"outer\")\n",
    "schwarme_precipitation_full = schwarme_precipitation_full.set_index(\"Zeitstempel\")\n",
    "schwarme_precipitation_full = schwarme_precipitation_full.sort_values(\"Zeitstempel\")\n",
    "schwarme_precipitation_full = schwarme_precipitation_full.reset_index()\n",
    "\n",
    "bassum_precipitation_full = bassum_precipitation.join(all_dates_frame.set_index(\"Zeitstempel\"), on=\"Zeitstempel\", how=\"outer\")\n",
    "bassum_precipitation_full = bassum_precipitation_full.set_index(\"Zeitstempel\")\n",
    "bassum_precipitation_full = bassum_precipitation_full.sort_values(\"Zeitstempel\")\n",
    "bassum_precipitation_full = bassum_precipitation_full.reset_index()"
   ],
   "metadata": {
    "collapsed": false,
    "pycharm": {
     "name": "#%%\n"
    }
   }
  },
  {
   "cell_type": "markdown",
   "source": [
    "## Finding the station which has approximately the same precipitation than the station of bremen"
   ],
   "metadata": {
    "collapsed": false
   }
  },
  {
   "cell_type": "code",
   "execution_count": null,
   "outputs": [],
   "source": [
    "schwarme_sub_frame = schwarme_precipitation_full[(schwarme_precipitation_full[\"Zeitstempel\"] >= 201902070000) & (schwarme_precipitation_full[\"Zeitstempel\"] <= 201902080300)]"
   ],
   "metadata": {
    "collapsed": false,
    "pycharm": {
     "name": "#%%\n"
    }
   }
  },
  {
   "cell_type": "code",
   "execution_count": null,
   "outputs": [],
   "source": [
    "bassum_sub_frame = bassum_precipitation_full[(bassum_precipitation_full[\"Zeitstempel\"] >= 201902070000) & (bassum_precipitation_full[\"Zeitstempel\"] <= 201902080300)]"
   ],
   "metadata": {
    "collapsed": false,
    "pycharm": {
     "name": "#%%\n"
    }
   }
  },
  {
   "cell_type": "code",
   "execution_count": null,
   "outputs": [],
   "source": [
    "\n",
    "plt.plot(bassum_sub_frame[\"Zeitstempel\"], bassum_sub_frame[\"Wert\"], '.-', label=\"bassum\")\n",
    "plt.plot(schwarme_sub_frame[\"Zeitstempel\"], schwarme_sub_frame[\"Wert\"], '-', label=\"schwarme\")\n",
    "plt.plot(brm_sub_frame[\"Zeitstempel\"], brm_sub_frame[\"Wert\"], '+-', label=\"bremen\")\n",
    "\n",
    "\n",
    "plt.legend()\n",
    "\n",
    "plt.show()\n"
   ],
   "metadata": {
    "collapsed": false,
    "pycharm": {
     "name": "#%%\n"
    }
   }
  },
  {
   "cell_type": "markdown",
   "metadata": {},
   "source": [
    "## Since precipitiation of bassum fits more the precipitation of bremen we choose to replace missing values of bremen with values of bassum"
   ]
  },
  {
   "cell_type": "code",
   "execution_count": null,
   "metadata": {
    "pycharm": {
     "name": "#%%\n"
    }
   },
   "outputs": [],
   "source": [
    "brm_precipitation_full[brm_precipitation_full[\"Wert\"].isnull()] = bassum_precipitation_full\n",
    "brm_precipitation_full[brm_precipitation_full[\"Wert\"].isnull()]"
   ]
  },
  {
   "cell_type": "markdown",
   "source": [
    "## combine missing values of brm_precipitation with precipitation values from the city of schwarme"
   ],
   "metadata": {
    "collapsed": false,
    "pycharm": {
     "name": "#%% md\n"
    }
   }
  },
  {
   "cell_type": "code",
   "execution_count": null,
   "outputs": [],
   "source": [
    "brm_precipitation = join_by_hour(brm, brm_precipitation_full, \"precipitation\")\n",
    "brm_precipitation\n",
    "\n",
    "brm_weather = join_by_hour(brm_precipitation, brm_temperature, \"temperature\")\n",
    "\n",
    "brm_weather.info()\n",
    "\n",
    "brm_weather.to_csv(\"generated/bremen_weather.csv\")"
   ],
   "metadata": {
    "collapsed": false,
    "pycharm": {
     "name": "#%%\n"
    }
   }
  },
  {
   "cell_type": "code",
   "execution_count": null,
   "outputs": [],
   "source": [
    "frb = pd.read_csv(\"resources/freiburg.csv\")\n",
    "frb_precipitation = pd.read_csv(\"resources/freiburg_precipitation.csv\")\n",
    "frb_temperature = pd.read_csv(\"resources/freiburg_temperature.csv\")\n",
    "\n",
    "frb_precipitation = join_by_hour(frb, frb_precipitation, \"precipitation\")\n",
    "frb_weather = join_by_hour(frb_precipitation, frb_temperature, \"temperature\")\n",
    "\n",
    "frb_weather.to_csv(\"generated/freiburg_weather.csv\")\n",
    "\n",
    "frb_weather.info()"
   ],
   "metadata": {
    "collapsed": false,
    "pycharm": {
     "name": "#%%\n"
    }
   }
  },
  {
   "cell_type": "code",
   "execution_count": null,
   "outputs": [],
   "source": [
    "frb_weather"
   ],
   "metadata": {
    "collapsed": false,
    "pycharm": {
     "name": "#%%\n"
    }
   }
  }
 ],
 "metadata": {
  "kernelspec": {
   "display_name": "Python 3.7.6 64-bit ('base': conda)",
   "language": "python",
   "name": "python37664bitbaseconda644fbd5b017e47549473535c61dcc2b3"
  },
  "language_info": {
   "codemirror_mode": {
    "name": "ipython",
    "version": 3
   },
   "file_extension": ".py",
   "mimetype": "text/x-python",
   "name": "python",
   "nbconvert_exporter": "python",
   "pygments_lexer": "ipython3",
   "version": "3.7.6-final"
  }
 },
 "nbformat": 4,
 "nbformat_minor": 4
}