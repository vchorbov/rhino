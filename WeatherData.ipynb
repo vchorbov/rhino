{
 "cells": [
  {
   "cell_type": "code",
   "execution_count": 67,
   "metadata": {},
   "outputs": [],
   "source": [
    "import pandas as pd\n",
    "from datetime import datetime\n",
    "import matplotlib.pyplot as plt"
   ]
  },
  {
   "cell_type": "markdown",
   "metadata": {},
   "source": [
    "## Defining methods to join bike_data and weather data"
   ]
  },
  {
   "cell_type": "code",
   "execution_count": 2,
   "metadata": {},
   "outputs": [],
   "source": [
    "def cut_timestamp(timestamp_col):\n",
    "    return timestamp_col.map(lambda x:int(str(x)[:10]))\n",
    "\n",
    "def assemble_timestamp_cut(day_frame, time_frame):\n",
    "    day_clean = day_frame.map(lambda x: x.replace(\"-\", \"\"))\n",
    "    hour = time_frame.map(lambda x: x.replace(\":\", \"\")[:2])\n",
    "    return (day_clean + hour).astype(\"int64\")\n",
    "\n",
    "def join_by_hour(bike_frame, weather_frame, column_name):\n",
    "    bike_frame[\"timestamp_cut\"] = assemble_timestamp_cut(bike_frame[\"day\"], bike_frame[\"time\"])\n",
    "    weather_frame[\"timestamp_cut\"] = cut_timestamp(weather_frame[\"Zeitstempel\"])\n",
    "    \n",
    "    joined = bike_frame.join(weather_frame[[\"Wert\", \"timestamp_cut\"]].set_index(\"timestamp_cut\"), on=\"timestamp_cut\")\n",
    "    joined[column_name] = joined[\"Wert\"]\n",
    "    \n",
    "    joined = joined.drop(\"Wert\", axis=1)\n",
    "    joined = joined.drop(\"timestamp_cut\", axis=1)\n",
    "    \n",
    "    return joined"
   ]
  },
  {
   "cell_type": "code",
   "execution_count": 27,
   "metadata": {},
   "outputs": [
    {
     "output_type": "stream",
     "name": "stdout",
     "text": "<class 'pandas.core.frame.DataFrame'>\nRangeIndex: 8775 entries, 0 to 8774\nData columns (total 6 columns):\n #   Column            Non-Null Count  Dtype  \n---  ------            --------------  -----  \n 0   Produkt_Code      8775 non-null   object \n 1   SDO_ID            8775 non-null   int64  \n 2   Zeitstempel       8775 non-null   int64  \n 3   Wert              8775 non-null   float64\n 4   Qualitaet_Niveau  8775 non-null   int64  \n 5   Qualitaet_Byte    8775 non-null   int64  \ndtypes: float64(1), int64(4), object(1)\nmemory usage: 411.5+ KB\n"
    }
   ],
   "source": [
    "brm_frame = pd.read_csv(\"resources/bremen.csv\")\n",
    "brm_precipitation = pd.read_csv(\"resources/bremen_precipitation.csv\")\n",
    "brm_temperature = pd.read_csv(\"resources/bremen_temperature.csv\")\n",
    "schwarme_precipitation = pd.read_csv(\"resources/schwarme_precipitation.csv\")\n",
    "bassum_precipitation = pd.read_csv(\"resources/bassum_precipitation.csv\")\n",
    "\n",
    "brm_precipitation.info()"
   ]
  },
  {
   "cell_type": "markdown",
   "metadata": {},
   "source": [
    "Identifying missing values"
   ]
  },
  {
   "cell_type": "code",
   "execution_count": 61,
   "metadata": {},
   "outputs": [
    {
     "output_type": "execute_result",
     "data": {
      "text/plain": "      Zeitstempel Produkt_Code  SDO_ID  Wert  Qualitaet_Niveau  Qualitaet_Byte\n439  201902070700          NaN     NaN   NaN               NaN             NaN\n440  201902070800          NaN     NaN   NaN               NaN             NaN\n441  201902070900          NaN     NaN   NaN               NaN             NaN\n442  201902071000          NaN     NaN   NaN               NaN             NaN\n443  201902071100          NaN     NaN   NaN               NaN             NaN\n452  201902072000          NaN     NaN   NaN               NaN             NaN\n453  201902072100          NaN     NaN   NaN               NaN             NaN\n454  201902072200          NaN     NaN   NaN               NaN             NaN\n455  201902072300          NaN     NaN   NaN               NaN             NaN",
      "text/html": "<div>\n<style scoped>\n    .dataframe tbody tr th:only-of-type {\n        vertical-align: middle;\n    }\n\n    .dataframe tbody tr th {\n        vertical-align: top;\n    }\n\n    .dataframe thead th {\n        text-align: right;\n    }\n</style>\n<table border=\"1\" class=\"dataframe\">\n  <thead>\n    <tr style=\"text-align: right;\">\n      <th></th>\n      <th>Zeitstempel</th>\n      <th>Produkt_Code</th>\n      <th>SDO_ID</th>\n      <th>Wert</th>\n      <th>Qualitaet_Niveau</th>\n      <th>Qualitaet_Byte</th>\n    </tr>\n  </thead>\n  <tbody>\n    <tr>\n      <th>439</th>\n      <td>201902070700</td>\n      <td>NaN</td>\n      <td>NaN</td>\n      <td>NaN</td>\n      <td>NaN</td>\n      <td>NaN</td>\n    </tr>\n    <tr>\n      <th>440</th>\n      <td>201902070800</td>\n      <td>NaN</td>\n      <td>NaN</td>\n      <td>NaN</td>\n      <td>NaN</td>\n      <td>NaN</td>\n    </tr>\n    <tr>\n      <th>441</th>\n      <td>201902070900</td>\n      <td>NaN</td>\n      <td>NaN</td>\n      <td>NaN</td>\n      <td>NaN</td>\n      <td>NaN</td>\n    </tr>\n    <tr>\n      <th>442</th>\n      <td>201902071000</td>\n      <td>NaN</td>\n      <td>NaN</td>\n      <td>NaN</td>\n      <td>NaN</td>\n      <td>NaN</td>\n    </tr>\n    <tr>\n      <th>443</th>\n      <td>201902071100</td>\n      <td>NaN</td>\n      <td>NaN</td>\n      <td>NaN</td>\n      <td>NaN</td>\n      <td>NaN</td>\n    </tr>\n    <tr>\n      <th>452</th>\n      <td>201902072000</td>\n      <td>NaN</td>\n      <td>NaN</td>\n      <td>NaN</td>\n      <td>NaN</td>\n      <td>NaN</td>\n    </tr>\n    <tr>\n      <th>453</th>\n      <td>201902072100</td>\n      <td>NaN</td>\n      <td>NaN</td>\n      <td>NaN</td>\n      <td>NaN</td>\n      <td>NaN</td>\n    </tr>\n    <tr>\n      <th>454</th>\n      <td>201902072200</td>\n      <td>NaN</td>\n      <td>NaN</td>\n      <td>NaN</td>\n      <td>NaN</td>\n      <td>NaN</td>\n    </tr>\n    <tr>\n      <th>455</th>\n      <td>201902072300</td>\n      <td>NaN</td>\n      <td>NaN</td>\n      <td>NaN</td>\n      <td>NaN</td>\n      <td>NaN</td>\n    </tr>\n  </tbody>\n</table>\n</div>"
     },
     "metadata": {},
     "execution_count": 61
    }
   ],
   "source": [
    "# loading precipitation data of bremen and mark missing values\n",
    "brm_precipitation_full = brm_precipitation.join(all_dates_frame.set_index(\"Zeitstempel\"), on=\"Zeitstempel\", how=\"outer\")\n",
    "brm_precipitation_full = brm_precipitation_full.set_index(\"Zeitstempel\")\n",
    "brm_precipitation_full = brm_precipitation_full.sort_values(\"Zeitstempel\")\n",
    "brm_precipitation_full = brm_precipitation_full.reset_index()\n",
    "\n",
    "brm_precipitation_full[brm_precipitation_full[\"Wert\"].isnull()]"
   ]
  },
  {
   "cell_type": "code",
   "execution_count": 68,
   "metadata": {},
   "outputs": [
    {
     "output_type": "execute_result",
     "data": {
      "text/plain": "      Zeitstempel Produkt_Code  SDO_ID  Wert  Qualitaet_Niveau  Qualitaet_Byte\n432  201902070000     R1_MN008   691.0   0.6               0.0             3.0\n433  201902070100     R1_MN008   691.0   1.1               0.0             3.0\n434  201902070200     R1_MN008   691.0   1.2               0.0             3.0\n435  201902070300     R1_MN008   691.0   1.3               0.0             3.0\n436  201902070400     R1_MN008   691.0   1.0               0.0             3.0\n437  201902070500     R1_MN008   691.0   0.7               0.0             3.0\n438  201902070600     R1_MN008   691.0   0.1               0.0             3.0\n439  201902070700          NaN     NaN   NaN               NaN             NaN\n440  201902070800          NaN     NaN   NaN               NaN             NaN\n441  201902070900          NaN     NaN   NaN               NaN             NaN\n442  201902071000          NaN     NaN   NaN               NaN             NaN\n443  201902071100          NaN     NaN   NaN               NaN             NaN\n444  201902071200     R1_MN008   691.0   0.0               0.0             3.0\n445  201902071300     R1_MN008   691.0   0.0               0.0             3.0\n446  201902071400     R1_MN008   691.0   0.0               0.0             3.0\n447  201902071500     R1_MN008   691.0   0.0               0.0             3.0\n448  201902071600     R1_MN008   691.0   0.0               0.0             3.0\n449  201902071700     R1_MN008   691.0   0.0               0.0             3.0\n450  201902071800     R1_MN008   691.0   0.0               0.0             3.0\n451  201902071900     R1_MN008   691.0   0.0               0.0             3.0\n452  201902072000          NaN     NaN   NaN               NaN             NaN\n453  201902072100          NaN     NaN   NaN               NaN             NaN\n454  201902072200          NaN     NaN   NaN               NaN             NaN\n455  201902072300          NaN     NaN   NaN               NaN             NaN\n456  201902080000     R1_MN008   691.0   0.0               0.0             3.0\n457  201902080100     R1_MN008   691.0   0.0               0.0             3.0\n458  201902080200     R1_MN008   691.0   0.0               0.0             3.0\n459  201902080300     R1_MN008   691.0   0.0               0.0             3.0",
      "text/html": "<div>\n<style scoped>\n    .dataframe tbody tr th:only-of-type {\n        vertical-align: middle;\n    }\n\n    .dataframe tbody tr th {\n        vertical-align: top;\n    }\n\n    .dataframe thead th {\n        text-align: right;\n    }\n</style>\n<table border=\"1\" class=\"dataframe\">\n  <thead>\n    <tr style=\"text-align: right;\">\n      <th></th>\n      <th>Zeitstempel</th>\n      <th>Produkt_Code</th>\n      <th>SDO_ID</th>\n      <th>Wert</th>\n      <th>Qualitaet_Niveau</th>\n      <th>Qualitaet_Byte</th>\n    </tr>\n  </thead>\n  <tbody>\n    <tr>\n      <th>432</th>\n      <td>201902070000</td>\n      <td>R1_MN008</td>\n      <td>691.0</td>\n      <td>0.6</td>\n      <td>0.0</td>\n      <td>3.0</td>\n    </tr>\n    <tr>\n      <th>433</th>\n      <td>201902070100</td>\n      <td>R1_MN008</td>\n      <td>691.0</td>\n      <td>1.1</td>\n      <td>0.0</td>\n      <td>3.0</td>\n    </tr>\n    <tr>\n      <th>434</th>\n      <td>201902070200</td>\n      <td>R1_MN008</td>\n      <td>691.0</td>\n      <td>1.2</td>\n      <td>0.0</td>\n      <td>3.0</td>\n    </tr>\n    <tr>\n      <th>435</th>\n      <td>201902070300</td>\n      <td>R1_MN008</td>\n      <td>691.0</td>\n      <td>1.3</td>\n      <td>0.0</td>\n      <td>3.0</td>\n    </tr>\n    <tr>\n      <th>436</th>\n      <td>201902070400</td>\n      <td>R1_MN008</td>\n      <td>691.0</td>\n      <td>1.0</td>\n      <td>0.0</td>\n      <td>3.0</td>\n    </tr>\n    <tr>\n      <th>437</th>\n      <td>201902070500</td>\n      <td>R1_MN008</td>\n      <td>691.0</td>\n      <td>0.7</td>\n      <td>0.0</td>\n      <td>3.0</td>\n    </tr>\n    <tr>\n      <th>438</th>\n      <td>201902070600</td>\n      <td>R1_MN008</td>\n      <td>691.0</td>\n      <td>0.1</td>\n      <td>0.0</td>\n      <td>3.0</td>\n    </tr>\n    <tr>\n      <th>439</th>\n      <td>201902070700</td>\n      <td>NaN</td>\n      <td>NaN</td>\n      <td>NaN</td>\n      <td>NaN</td>\n      <td>NaN</td>\n    </tr>\n    <tr>\n      <th>440</th>\n      <td>201902070800</td>\n      <td>NaN</td>\n      <td>NaN</td>\n      <td>NaN</td>\n      <td>NaN</td>\n      <td>NaN</td>\n    </tr>\n    <tr>\n      <th>441</th>\n      <td>201902070900</td>\n      <td>NaN</td>\n      <td>NaN</td>\n      <td>NaN</td>\n      <td>NaN</td>\n      <td>NaN</td>\n    </tr>\n    <tr>\n      <th>442</th>\n      <td>201902071000</td>\n      <td>NaN</td>\n      <td>NaN</td>\n      <td>NaN</td>\n      <td>NaN</td>\n      <td>NaN</td>\n    </tr>\n    <tr>\n      <th>443</th>\n      <td>201902071100</td>\n      <td>NaN</td>\n      <td>NaN</td>\n      <td>NaN</td>\n      <td>NaN</td>\n      <td>NaN</td>\n    </tr>\n    <tr>\n      <th>444</th>\n      <td>201902071200</td>\n      <td>R1_MN008</td>\n      <td>691.0</td>\n      <td>0.0</td>\n      <td>0.0</td>\n      <td>3.0</td>\n    </tr>\n    <tr>\n      <th>445</th>\n      <td>201902071300</td>\n      <td>R1_MN008</td>\n      <td>691.0</td>\n      <td>0.0</td>\n      <td>0.0</td>\n      <td>3.0</td>\n    </tr>\n    <tr>\n      <th>446</th>\n      <td>201902071400</td>\n      <td>R1_MN008</td>\n      <td>691.0</td>\n      <td>0.0</td>\n      <td>0.0</td>\n      <td>3.0</td>\n    </tr>\n    <tr>\n      <th>447</th>\n      <td>201902071500</td>\n      <td>R1_MN008</td>\n      <td>691.0</td>\n      <td>0.0</td>\n      <td>0.0</td>\n      <td>3.0</td>\n    </tr>\n    <tr>\n      <th>448</th>\n      <td>201902071600</td>\n      <td>R1_MN008</td>\n      <td>691.0</td>\n      <td>0.0</td>\n      <td>0.0</td>\n      <td>3.0</td>\n    </tr>\n    <tr>\n      <th>449</th>\n      <td>201902071700</td>\n      <td>R1_MN008</td>\n      <td>691.0</td>\n      <td>0.0</td>\n      <td>0.0</td>\n      <td>3.0</td>\n    </tr>\n    <tr>\n      <th>450</th>\n      <td>201902071800</td>\n      <td>R1_MN008</td>\n      <td>691.0</td>\n      <td>0.0</td>\n      <td>0.0</td>\n      <td>3.0</td>\n    </tr>\n    <tr>\n      <th>451</th>\n      <td>201902071900</td>\n      <td>R1_MN008</td>\n      <td>691.0</td>\n      <td>0.0</td>\n      <td>0.0</td>\n      <td>3.0</td>\n    </tr>\n    <tr>\n      <th>452</th>\n      <td>201902072000</td>\n      <td>NaN</td>\n      <td>NaN</td>\n      <td>NaN</td>\n      <td>NaN</td>\n      <td>NaN</td>\n    </tr>\n    <tr>\n      <th>453</th>\n      <td>201902072100</td>\n      <td>NaN</td>\n      <td>NaN</td>\n      <td>NaN</td>\n      <td>NaN</td>\n      <td>NaN</td>\n    </tr>\n    <tr>\n      <th>454</th>\n      <td>201902072200</td>\n      <td>NaN</td>\n      <td>NaN</td>\n      <td>NaN</td>\n      <td>NaN</td>\n      <td>NaN</td>\n    </tr>\n    <tr>\n      <th>455</th>\n      <td>201902072300</td>\n      <td>NaN</td>\n      <td>NaN</td>\n      <td>NaN</td>\n      <td>NaN</td>\n      <td>NaN</td>\n    </tr>\n    <tr>\n      <th>456</th>\n      <td>201902080000</td>\n      <td>R1_MN008</td>\n      <td>691.0</td>\n      <td>0.0</td>\n      <td>0.0</td>\n      <td>3.0</td>\n    </tr>\n    <tr>\n      <th>457</th>\n      <td>201902080100</td>\n      <td>R1_MN008</td>\n      <td>691.0</td>\n      <td>0.0</td>\n      <td>0.0</td>\n      <td>3.0</td>\n    </tr>\n    <tr>\n      <th>458</th>\n      <td>201902080200</td>\n      <td>R1_MN008</td>\n      <td>691.0</td>\n      <td>0.0</td>\n      <td>0.0</td>\n      <td>3.0</td>\n    </tr>\n    <tr>\n      <th>459</th>\n      <td>201902080300</td>\n      <td>R1_MN008</td>\n      <td>691.0</td>\n      <td>0.0</td>\n      <td>0.0</td>\n      <td>3.0</td>\n    </tr>\n  </tbody>\n</table>\n</div>"
     },
     "metadata": {},
     "execution_count": 68
    }
   ],
   "source": [
    "brm_sub_frame = brm_precipitation_full[(brm_precipitation_full[\"Zeitstempel\"] >= 201902070000) & (brm_precipitation_full[\"Zeitstempel\"] <= 201902080300)]\n",
    "brm_sub_frame"
   ]
  },
  {
   "cell_type": "markdown",
   "metadata": {},
   "source": [
    "## Getting data from station of schwarme and station of bassum"
   ]
  },
  {
   "cell_type": "code",
   "execution_count": 55,
   "metadata": {},
   "outputs": [],
   "source": [
    "# loading precipitation data of schwarme and mark missing values\n",
    "schwarme_precipitation_full = schwarme_precipitation.join(all_dates_frame.set_index(\"Zeitstempel\"), on=\"Zeitstempel\", how=\"outer\")\n",
    "schwarme_precipitation_full = schwarme_precipitation_full.set_index(\"Zeitstempel\")\n",
    "schwarme_precipitation_full = schwarme_precipitation_full.sort_values(\"Zeitstempel\")\n",
    "schwarme_precipitation_full = schwarme_precipitation_full.reset_index()\n",
    "\n",
    "bassum_precipitation_full = bassum_precipitation.join(all_dates_frame.set_index(\"Zeitstempel\"), on=\"Zeitstempel\", how=\"outer\")\n",
    "bassum_precipitation_full = bassum_precipitation_full.set_index(\"Zeitstempel\")\n",
    "bassum_precipitation_full = bassum_precipitation_full.sort_values(\"Zeitstempel\")\n",
    "bassum_precipitation_full = bassum_precipitation_full.reset_index()"
   ]
  },
  {
   "cell_type": "markdown",
   "metadata": {},
   "source": [
    "## Finding the station which has approximately the same precipitation than the station of bremen"
   ]
  },
  {
   "cell_type": "code",
   "execution_count": 70,
   "metadata": {},
   "outputs": [],
   "source": [
    "schwarme_sub_frame = schwarme_precipitation_full[(schwarme_precipitation_full[\"Zeitstempel\"] >= 201902070000) & (schwarme_precipitation_full[\"Zeitstempel\"] <= 201902080300)]"
   ]
  },
  {
   "cell_type": "code",
   "execution_count": 69,
   "metadata": {},
   "outputs": [],
   "source": [
    "bassum_sub_frame = bassum_precipitation_full[(bassum_precipitation_full[\"Zeitstempel\"] >= 201902070000) & (bassum_precipitation_full[\"Zeitstempel\"] <= 201902080300)]"
   ]
  },
  {
   "cell_type": "code",
   "execution_count": 76,
   "metadata": {},
   "outputs": [
    {
     "output_type": "display_data",
     "data": {
      "text/plain": "<Figure size 432x288 with 1 Axes>",
      "image/svg+xml": "<?xml version=\"1.0\" encoding=\"utf-8\" standalone=\"no\"?>\r\n<!DOCTYPE svg PUBLIC \"-//W3C//DTD SVG 1.1//EN\"\r\n  \"http://www.w3.org/Graphics/SVG/1.1/DTD/svg11.dtd\">\r\n<!-- Created with matplotlib (https://matplotlib.org/) -->\r\n<svg height=\"261.19625pt\" version=\"1.1\" viewBox=\"0 0 372.103125 261.19625\" width=\"372.103125pt\" xmlns=\"http://www.w3.org/2000/svg\" xmlns:xlink=\"http://www.w3.org/1999/xlink\">\r\n <defs>\r\n  <style type=\"text/css\">\r\n*{stroke-linecap:butt;stroke-linejoin:round;}\r\n  </style>\r\n </defs>\r\n <g id=\"figure_1\">\r\n  <g id=\"patch_1\">\r\n   <path d=\"M 0 261.19625 \r\nL 372.103125 261.19625 \r\nL 372.103125 0 \r\nL 0 0 \r\nz\r\n\" style=\"fill:none;\"/>\r\n  </g>\r\n  <g id=\"axes_1\">\r\n   <g id=\"patch_2\">\r\n    <path d=\"M 30.103125 224.64 \r\nL 364.903125 224.64 \r\nL 364.903125 7.2 \r\nL 30.103125 7.2 \r\nz\r\n\" style=\"fill:#ffffff;\"/>\r\n   </g>\r\n   <g id=\"matplotlib.axis_1\">\r\n    <g id=\"xtick_1\">\r\n     <g id=\"line2d_1\">\r\n      <defs>\r\n       <path d=\"M 0 0 \r\nL 0 3.5 \r\n\" id=\"ma27ac7dafb\" style=\"stroke:#000000;stroke-width:0.8;\"/>\r\n      </defs>\r\n      <g>\r\n       <use style=\"stroke:#000000;stroke-width:0.8;\" x=\"45.321306\" xlink:href=\"#ma27ac7dafb\" y=\"224.64\"/>\r\n      </g>\r\n     </g>\r\n     <g id=\"text_1\">\r\n      <!-- 70000 -->\r\n      <defs>\r\n       <path d=\"M 8.203125 72.90625 \r\nL 55.078125 72.90625 \r\nL 55.078125 68.703125 \r\nL 28.609375 0 \r\nL 18.3125 0 \r\nL 43.21875 64.59375 \r\nL 8.203125 64.59375 \r\nz\r\n\" id=\"DejaVuSans-55\"/>\r\n       <path d=\"M 31.78125 66.40625 \r\nQ 24.171875 66.40625 20.328125 58.90625 \r\nQ 16.5 51.421875 16.5 36.375 \r\nQ 16.5 21.390625 20.328125 13.890625 \r\nQ 24.171875 6.390625 31.78125 6.390625 \r\nQ 39.453125 6.390625 43.28125 13.890625 \r\nQ 47.125 21.390625 47.125 36.375 \r\nQ 47.125 51.421875 43.28125 58.90625 \r\nQ 39.453125 66.40625 31.78125 66.40625 \r\nz\r\nM 31.78125 74.21875 \r\nQ 44.046875 74.21875 50.515625 64.515625 \r\nQ 56.984375 54.828125 56.984375 36.375 \r\nQ 56.984375 17.96875 50.515625 8.265625 \r\nQ 44.046875 -1.421875 31.78125 -1.421875 \r\nQ 19.53125 -1.421875 13.0625 8.265625 \r\nQ 6.59375 17.96875 6.59375 36.375 \r\nQ 6.59375 54.828125 13.0625 64.515625 \r\nQ 19.53125 74.21875 31.78125 74.21875 \r\nz\r\n\" id=\"DejaVuSans-48\"/>\r\n      </defs>\r\n      <g transform=\"translate(29.415056 239.238437)scale(0.1 -0.1)\">\r\n       <use xlink:href=\"#DejaVuSans-55\"/>\r\n       <use x=\"63.623047\" xlink:href=\"#DejaVuSans-48\"/>\r\n       <use x=\"127.246094\" xlink:href=\"#DejaVuSans-48\"/>\r\n       <use x=\"190.869141\" xlink:href=\"#DejaVuSans-48\"/>\r\n       <use x=\"254.492188\" xlink:href=\"#DejaVuSans-48\"/>\r\n      </g>\r\n     </g>\r\n    </g>\r\n    <g id=\"xtick_2\">\r\n     <g id=\"line2d_2\">\r\n      <g>\r\n       <use style=\"stroke:#000000;stroke-width:0.8;\" x=\"104.421041\" xlink:href=\"#ma27ac7dafb\" y=\"224.64\"/>\r\n      </g>\r\n     </g>\r\n     <g id=\"text_2\">\r\n      <!-- 72000 -->\r\n      <defs>\r\n       <path d=\"M 19.1875 8.296875 \r\nL 53.609375 8.296875 \r\nL 53.609375 0 \r\nL 7.328125 0 \r\nL 7.328125 8.296875 \r\nQ 12.9375 14.109375 22.625 23.890625 \r\nQ 32.328125 33.6875 34.8125 36.53125 \r\nQ 39.546875 41.84375 41.421875 45.53125 \r\nQ 43.3125 49.21875 43.3125 52.78125 \r\nQ 43.3125 58.59375 39.234375 62.25 \r\nQ 35.15625 65.921875 28.609375 65.921875 \r\nQ 23.96875 65.921875 18.8125 64.3125 \r\nQ 13.671875 62.703125 7.8125 59.421875 \r\nL 7.8125 69.390625 \r\nQ 13.765625 71.78125 18.9375 73 \r\nQ 24.125 74.21875 28.421875 74.21875 \r\nQ 39.75 74.21875 46.484375 68.546875 \r\nQ 53.21875 62.890625 53.21875 53.421875 \r\nQ 53.21875 48.921875 51.53125 44.890625 \r\nQ 49.859375 40.875 45.40625 35.40625 \r\nQ 44.1875 33.984375 37.640625 27.21875 \r\nQ 31.109375 20.453125 19.1875 8.296875 \r\nz\r\n\" id=\"DejaVuSans-50\"/>\r\n      </defs>\r\n      <g transform=\"translate(88.514791 239.238437)scale(0.1 -0.1)\">\r\n       <use xlink:href=\"#DejaVuSans-55\"/>\r\n       <use x=\"63.623047\" xlink:href=\"#DejaVuSans-50\"/>\r\n       <use x=\"127.246094\" xlink:href=\"#DejaVuSans-48\"/>\r\n       <use x=\"190.869141\" xlink:href=\"#DejaVuSans-48\"/>\r\n       <use x=\"254.492188\" xlink:href=\"#DejaVuSans-48\"/>\r\n      </g>\r\n     </g>\r\n    </g>\r\n    <g id=\"xtick_3\">\r\n     <g id=\"line2d_3\">\r\n      <g>\r\n       <use style=\"stroke:#000000;stroke-width:0.8;\" x=\"163.520777\" xlink:href=\"#ma27ac7dafb\" y=\"224.64\"/>\r\n      </g>\r\n     </g>\r\n     <g id=\"text_3\">\r\n      <!-- 74000 -->\r\n      <defs>\r\n       <path d=\"M 37.796875 64.3125 \r\nL 12.890625 25.390625 \r\nL 37.796875 25.390625 \r\nz\r\nM 35.203125 72.90625 \r\nL 47.609375 72.90625 \r\nL 47.609375 25.390625 \r\nL 58.015625 25.390625 \r\nL 58.015625 17.1875 \r\nL 47.609375 17.1875 \r\nL 47.609375 0 \r\nL 37.796875 0 \r\nL 37.796875 17.1875 \r\nL 4.890625 17.1875 \r\nL 4.890625 26.703125 \r\nz\r\n\" id=\"DejaVuSans-52\"/>\r\n      </defs>\r\n      <g transform=\"translate(147.614527 239.238437)scale(0.1 -0.1)\">\r\n       <use xlink:href=\"#DejaVuSans-55\"/>\r\n       <use x=\"63.623047\" xlink:href=\"#DejaVuSans-52\"/>\r\n       <use x=\"127.246094\" xlink:href=\"#DejaVuSans-48\"/>\r\n       <use x=\"190.869141\" xlink:href=\"#DejaVuSans-48\"/>\r\n       <use x=\"254.492188\" xlink:href=\"#DejaVuSans-48\"/>\r\n      </g>\r\n     </g>\r\n    </g>\r\n    <g id=\"xtick_4\">\r\n     <g id=\"line2d_4\">\r\n      <g>\r\n       <use style=\"stroke:#000000;stroke-width:0.8;\" x=\"222.620512\" xlink:href=\"#ma27ac7dafb\" y=\"224.64\"/>\r\n      </g>\r\n     </g>\r\n     <g id=\"text_4\">\r\n      <!-- 76000 -->\r\n      <defs>\r\n       <path d=\"M 33.015625 40.375 \r\nQ 26.375 40.375 22.484375 35.828125 \r\nQ 18.609375 31.296875 18.609375 23.390625 \r\nQ 18.609375 15.53125 22.484375 10.953125 \r\nQ 26.375 6.390625 33.015625 6.390625 \r\nQ 39.65625 6.390625 43.53125 10.953125 \r\nQ 47.40625 15.53125 47.40625 23.390625 \r\nQ 47.40625 31.296875 43.53125 35.828125 \r\nQ 39.65625 40.375 33.015625 40.375 \r\nz\r\nM 52.59375 71.296875 \r\nL 52.59375 62.3125 \r\nQ 48.875 64.0625 45.09375 64.984375 \r\nQ 41.3125 65.921875 37.59375 65.921875 \r\nQ 27.828125 65.921875 22.671875 59.328125 \r\nQ 17.53125 52.734375 16.796875 39.40625 \r\nQ 19.671875 43.65625 24.015625 45.921875 \r\nQ 28.375 48.1875 33.59375 48.1875 \r\nQ 44.578125 48.1875 50.953125 41.515625 \r\nQ 57.328125 34.859375 57.328125 23.390625 \r\nQ 57.328125 12.15625 50.6875 5.359375 \r\nQ 44.046875 -1.421875 33.015625 -1.421875 \r\nQ 20.359375 -1.421875 13.671875 8.265625 \r\nQ 6.984375 17.96875 6.984375 36.375 \r\nQ 6.984375 53.65625 15.1875 63.9375 \r\nQ 23.390625 74.21875 37.203125 74.21875 \r\nQ 40.921875 74.21875 44.703125 73.484375 \r\nQ 48.484375 72.75 52.59375 71.296875 \r\nz\r\n\" id=\"DejaVuSans-54\"/>\r\n      </defs>\r\n      <g transform=\"translate(206.714262 239.238437)scale(0.1 -0.1)\">\r\n       <use xlink:href=\"#DejaVuSans-55\"/>\r\n       <use x=\"63.623047\" xlink:href=\"#DejaVuSans-54\"/>\r\n       <use x=\"127.246094\" xlink:href=\"#DejaVuSans-48\"/>\r\n       <use x=\"190.869141\" xlink:href=\"#DejaVuSans-48\"/>\r\n       <use x=\"254.492188\" xlink:href=\"#DejaVuSans-48\"/>\r\n      </g>\r\n     </g>\r\n    </g>\r\n    <g id=\"xtick_5\">\r\n     <g id=\"line2d_5\">\r\n      <g>\r\n       <use style=\"stroke:#000000;stroke-width:0.8;\" x=\"281.720247\" xlink:href=\"#ma27ac7dafb\" y=\"224.64\"/>\r\n      </g>\r\n     </g>\r\n     <g id=\"text_5\">\r\n      <!-- 78000 -->\r\n      <defs>\r\n       <path d=\"M 31.78125 34.625 \r\nQ 24.75 34.625 20.71875 30.859375 \r\nQ 16.703125 27.09375 16.703125 20.515625 \r\nQ 16.703125 13.921875 20.71875 10.15625 \r\nQ 24.75 6.390625 31.78125 6.390625 \r\nQ 38.8125 6.390625 42.859375 10.171875 \r\nQ 46.921875 13.96875 46.921875 20.515625 \r\nQ 46.921875 27.09375 42.890625 30.859375 \r\nQ 38.875 34.625 31.78125 34.625 \r\nz\r\nM 21.921875 38.8125 \r\nQ 15.578125 40.375 12.03125 44.71875 \r\nQ 8.5 49.078125 8.5 55.328125 \r\nQ 8.5 64.0625 14.71875 69.140625 \r\nQ 20.953125 74.21875 31.78125 74.21875 \r\nQ 42.671875 74.21875 48.875 69.140625 \r\nQ 55.078125 64.0625 55.078125 55.328125 \r\nQ 55.078125 49.078125 51.53125 44.71875 \r\nQ 48 40.375 41.703125 38.8125 \r\nQ 48.828125 37.15625 52.796875 32.3125 \r\nQ 56.78125 27.484375 56.78125 20.515625 \r\nQ 56.78125 9.90625 50.3125 4.234375 \r\nQ 43.84375 -1.421875 31.78125 -1.421875 \r\nQ 19.734375 -1.421875 13.25 4.234375 \r\nQ 6.78125 9.90625 6.78125 20.515625 \r\nQ 6.78125 27.484375 10.78125 32.3125 \r\nQ 14.796875 37.15625 21.921875 38.8125 \r\nz\r\nM 18.3125 54.390625 \r\nQ 18.3125 48.734375 21.84375 45.5625 \r\nQ 25.390625 42.390625 31.78125 42.390625 \r\nQ 38.140625 42.390625 41.71875 45.5625 \r\nQ 45.3125 48.734375 45.3125 54.390625 \r\nQ 45.3125 60.0625 41.71875 63.234375 \r\nQ 38.140625 66.40625 31.78125 66.40625 \r\nQ 25.390625 66.40625 21.84375 63.234375 \r\nQ 18.3125 60.0625 18.3125 54.390625 \r\nz\r\n\" id=\"DejaVuSans-56\"/>\r\n      </defs>\r\n      <g transform=\"translate(265.813997 239.238437)scale(0.1 -0.1)\">\r\n       <use xlink:href=\"#DejaVuSans-55\"/>\r\n       <use x=\"63.623047\" xlink:href=\"#DejaVuSans-56\"/>\r\n       <use x=\"127.246094\" xlink:href=\"#DejaVuSans-48\"/>\r\n       <use x=\"190.869141\" xlink:href=\"#DejaVuSans-48\"/>\r\n       <use x=\"254.492188\" xlink:href=\"#DejaVuSans-48\"/>\r\n      </g>\r\n     </g>\r\n    </g>\r\n    <g id=\"xtick_6\">\r\n     <g id=\"line2d_6\">\r\n      <g>\r\n       <use style=\"stroke:#000000;stroke-width:0.8;\" x=\"340.819983\" xlink:href=\"#ma27ac7dafb\" y=\"224.64\"/>\r\n      </g>\r\n     </g>\r\n     <g id=\"text_6\">\r\n      <!-- 80000 -->\r\n      <g transform=\"translate(324.913733 239.238437)scale(0.1 -0.1)\">\r\n       <use xlink:href=\"#DejaVuSans-56\"/>\r\n       <use x=\"63.623047\" xlink:href=\"#DejaVuSans-48\"/>\r\n       <use x=\"127.246094\" xlink:href=\"#DejaVuSans-48\"/>\r\n       <use x=\"190.869141\" xlink:href=\"#DejaVuSans-48\"/>\r\n       <use x=\"254.492188\" xlink:href=\"#DejaVuSans-48\"/>\r\n      </g>\r\n     </g>\r\n    </g>\r\n    <g id=\"text_7\">\r\n     <!-- +2.01902e11 -->\r\n     <defs>\r\n      <path d=\"M 46 62.703125 \r\nL 46 35.5 \r\nL 73.1875 35.5 \r\nL 73.1875 27.203125 \r\nL 46 27.203125 \r\nL 46 0 \r\nL 37.796875 0 \r\nL 37.796875 27.203125 \r\nL 10.59375 27.203125 \r\nL 10.59375 35.5 \r\nL 37.796875 35.5 \r\nL 37.796875 62.703125 \r\nz\r\n\" id=\"DejaVuSans-43\"/>\r\n      <path d=\"M 10.6875 12.40625 \r\nL 21 12.40625 \r\nL 21 0 \r\nL 10.6875 0 \r\nz\r\n\" id=\"DejaVuSans-46\"/>\r\n      <path d=\"M 12.40625 8.296875 \r\nL 28.515625 8.296875 \r\nL 28.515625 63.921875 \r\nL 10.984375 60.40625 \r\nL 10.984375 69.390625 \r\nL 28.421875 72.90625 \r\nL 38.28125 72.90625 \r\nL 38.28125 8.296875 \r\nL 54.390625 8.296875 \r\nL 54.390625 0 \r\nL 12.40625 0 \r\nz\r\n\" id=\"DejaVuSans-49\"/>\r\n      <path d=\"M 10.984375 1.515625 \r\nL 10.984375 10.5 \r\nQ 14.703125 8.734375 18.5 7.8125 \r\nQ 22.3125 6.890625 25.984375 6.890625 \r\nQ 35.75 6.890625 40.890625 13.453125 \r\nQ 46.046875 20.015625 46.78125 33.40625 \r\nQ 43.953125 29.203125 39.59375 26.953125 \r\nQ 35.25 24.703125 29.984375 24.703125 \r\nQ 19.046875 24.703125 12.671875 31.3125 \r\nQ 6.296875 37.9375 6.296875 49.421875 \r\nQ 6.296875 60.640625 12.9375 67.421875 \r\nQ 19.578125 74.21875 30.609375 74.21875 \r\nQ 43.265625 74.21875 49.921875 64.515625 \r\nQ 56.59375 54.828125 56.59375 36.375 \r\nQ 56.59375 19.140625 48.40625 8.859375 \r\nQ 40.234375 -1.421875 26.421875 -1.421875 \r\nQ 22.703125 -1.421875 18.890625 -0.6875 \r\nQ 15.09375 0.046875 10.984375 1.515625 \r\nz\r\nM 30.609375 32.421875 \r\nQ 37.25 32.421875 41.125 36.953125 \r\nQ 45.015625 41.5 45.015625 49.421875 \r\nQ 45.015625 57.28125 41.125 61.84375 \r\nQ 37.25 66.40625 30.609375 66.40625 \r\nQ 23.96875 66.40625 20.09375 61.84375 \r\nQ 16.21875 57.28125 16.21875 49.421875 \r\nQ 16.21875 41.5 20.09375 36.953125 \r\nQ 23.96875 32.421875 30.609375 32.421875 \r\nz\r\n\" id=\"DejaVuSans-57\"/>\r\n      <path d=\"M 56.203125 29.59375 \r\nL 56.203125 25.203125 \r\nL 14.890625 25.203125 \r\nQ 15.484375 15.921875 20.484375 11.0625 \r\nQ 25.484375 6.203125 34.421875 6.203125 \r\nQ 39.59375 6.203125 44.453125 7.46875 \r\nQ 49.3125 8.734375 54.109375 11.28125 \r\nL 54.109375 2.78125 \r\nQ 49.265625 0.734375 44.1875 -0.34375 \r\nQ 39.109375 -1.421875 33.890625 -1.421875 \r\nQ 20.796875 -1.421875 13.15625 6.1875 \r\nQ 5.515625 13.8125 5.515625 26.8125 \r\nQ 5.515625 40.234375 12.765625 48.109375 \r\nQ 20.015625 56 32.328125 56 \r\nQ 43.359375 56 49.78125 48.890625 \r\nQ 56.203125 41.796875 56.203125 29.59375 \r\nz\r\nM 47.21875 32.234375 \r\nQ 47.125 39.59375 43.09375 43.984375 \r\nQ 39.0625 48.390625 32.421875 48.390625 \r\nQ 24.90625 48.390625 20.390625 44.140625 \r\nQ 15.875 39.890625 15.1875 32.171875 \r\nz\r\n\" id=\"DejaVuSans-101\"/>\r\n     </defs>\r\n     <g transform=\"translate(296.292188 251.916562)scale(0.1 -0.1)\">\r\n      <use xlink:href=\"#DejaVuSans-43\"/>\r\n      <use x=\"83.789062\" xlink:href=\"#DejaVuSans-50\"/>\r\n      <use x=\"147.412109\" xlink:href=\"#DejaVuSans-46\"/>\r\n      <use x=\"179.199219\" xlink:href=\"#DejaVuSans-48\"/>\r\n      <use x=\"242.822266\" xlink:href=\"#DejaVuSans-49\"/>\r\n      <use x=\"306.445312\" xlink:href=\"#DejaVuSans-57\"/>\r\n      <use x=\"370.068359\" xlink:href=\"#DejaVuSans-48\"/>\r\n      <use x=\"433.691406\" xlink:href=\"#DejaVuSans-50\"/>\r\n      <use x=\"497.314453\" xlink:href=\"#DejaVuSans-101\"/>\r\n      <use x=\"558.837891\" xlink:href=\"#DejaVuSans-49\"/>\r\n      <use x=\"622.460938\" xlink:href=\"#DejaVuSans-49\"/>\r\n     </g>\r\n    </g>\r\n   </g>\r\n   <g id=\"matplotlib.axis_2\">\r\n    <g id=\"ytick_1\">\r\n     <g id=\"line2d_7\">\r\n      <defs>\r\n       <path d=\"M 0 0 \r\nL -3.5 0 \r\n\" id=\"me0fa98159f\" style=\"stroke:#000000;stroke-width:0.8;\"/>\r\n      </defs>\r\n      <g>\r\n       <use style=\"stroke:#000000;stroke-width:0.8;\" x=\"30.103125\" xlink:href=\"#me0fa98159f\" y=\"214.756364\"/>\r\n      </g>\r\n     </g>\r\n     <g id=\"text_8\">\r\n      <!-- 0.0 -->\r\n      <g transform=\"translate(7.2 218.555582)scale(0.1 -0.1)\">\r\n       <use xlink:href=\"#DejaVuSans-48\"/>\r\n       <use x=\"63.623047\" xlink:href=\"#DejaVuSans-46\"/>\r\n       <use x=\"95.410156\" xlink:href=\"#DejaVuSans-48\"/>\r\n      </g>\r\n     </g>\r\n    </g>\r\n    <g id=\"ytick_2\">\r\n     <g id=\"line2d_8\">\r\n      <g>\r\n       <use style=\"stroke:#000000;stroke-width:0.8;\" x=\"30.103125\" xlink:href=\"#me0fa98159f\" y=\"186.517403\"/>\r\n      </g>\r\n     </g>\r\n     <g id=\"text_9\">\r\n      <!-- 0.2 -->\r\n      <g transform=\"translate(7.2 190.316621)scale(0.1 -0.1)\">\r\n       <use xlink:href=\"#DejaVuSans-48\"/>\r\n       <use x=\"63.623047\" xlink:href=\"#DejaVuSans-46\"/>\r\n       <use x=\"95.410156\" xlink:href=\"#DejaVuSans-50\"/>\r\n      </g>\r\n     </g>\r\n    </g>\r\n    <g id=\"ytick_3\">\r\n     <g id=\"line2d_9\">\r\n      <g>\r\n       <use style=\"stroke:#000000;stroke-width:0.8;\" x=\"30.103125\" xlink:href=\"#me0fa98159f\" y=\"158.278442\"/>\r\n      </g>\r\n     </g>\r\n     <g id=\"text_10\">\r\n      <!-- 0.4 -->\r\n      <g transform=\"translate(7.2 162.07766)scale(0.1 -0.1)\">\r\n       <use xlink:href=\"#DejaVuSans-48\"/>\r\n       <use x=\"63.623047\" xlink:href=\"#DejaVuSans-46\"/>\r\n       <use x=\"95.410156\" xlink:href=\"#DejaVuSans-52\"/>\r\n      </g>\r\n     </g>\r\n    </g>\r\n    <g id=\"ytick_4\">\r\n     <g id=\"line2d_10\">\r\n      <g>\r\n       <use style=\"stroke:#000000;stroke-width:0.8;\" x=\"30.103125\" xlink:href=\"#me0fa98159f\" y=\"130.039481\"/>\r\n      </g>\r\n     </g>\r\n     <g id=\"text_11\">\r\n      <!-- 0.6 -->\r\n      <g transform=\"translate(7.2 133.838699)scale(0.1 -0.1)\">\r\n       <use xlink:href=\"#DejaVuSans-48\"/>\r\n       <use x=\"63.623047\" xlink:href=\"#DejaVuSans-46\"/>\r\n       <use x=\"95.410156\" xlink:href=\"#DejaVuSans-54\"/>\r\n      </g>\r\n     </g>\r\n    </g>\r\n    <g id=\"ytick_5\">\r\n     <g id=\"line2d_11\">\r\n      <g>\r\n       <use style=\"stroke:#000000;stroke-width:0.8;\" x=\"30.103125\" xlink:href=\"#me0fa98159f\" y=\"101.800519\"/>\r\n      </g>\r\n     </g>\r\n     <g id=\"text_12\">\r\n      <!-- 0.8 -->\r\n      <g transform=\"translate(7.2 105.599738)scale(0.1 -0.1)\">\r\n       <use xlink:href=\"#DejaVuSans-48\"/>\r\n       <use x=\"63.623047\" xlink:href=\"#DejaVuSans-46\"/>\r\n       <use x=\"95.410156\" xlink:href=\"#DejaVuSans-56\"/>\r\n      </g>\r\n     </g>\r\n    </g>\r\n    <g id=\"ytick_6\">\r\n     <g id=\"line2d_12\">\r\n      <g>\r\n       <use style=\"stroke:#000000;stroke-width:0.8;\" x=\"30.103125\" xlink:href=\"#me0fa98159f\" y=\"73.561558\"/>\r\n      </g>\r\n     </g>\r\n     <g id=\"text_13\">\r\n      <!-- 1.0 -->\r\n      <g transform=\"translate(7.2 77.360777)scale(0.1 -0.1)\">\r\n       <use xlink:href=\"#DejaVuSans-49\"/>\r\n       <use x=\"63.623047\" xlink:href=\"#DejaVuSans-46\"/>\r\n       <use x=\"95.410156\" xlink:href=\"#DejaVuSans-48\"/>\r\n      </g>\r\n     </g>\r\n    </g>\r\n    <g id=\"ytick_7\">\r\n     <g id=\"line2d_13\">\r\n      <g>\r\n       <use style=\"stroke:#000000;stroke-width:0.8;\" x=\"30.103125\" xlink:href=\"#me0fa98159f\" y=\"45.322597\"/>\r\n      </g>\r\n     </g>\r\n     <g id=\"text_14\">\r\n      <!-- 1.2 -->\r\n      <g transform=\"translate(7.2 49.121816)scale(0.1 -0.1)\">\r\n       <use xlink:href=\"#DejaVuSans-49\"/>\r\n       <use x=\"63.623047\" xlink:href=\"#DejaVuSans-46\"/>\r\n       <use x=\"95.410156\" xlink:href=\"#DejaVuSans-50\"/>\r\n      </g>\r\n     </g>\r\n    </g>\r\n    <g id=\"ytick_8\">\r\n     <g id=\"line2d_14\">\r\n      <g>\r\n       <use style=\"stroke:#000000;stroke-width:0.8;\" x=\"30.103125\" xlink:href=\"#me0fa98159f\" y=\"17.083636\"/>\r\n      </g>\r\n     </g>\r\n     <g id=\"text_15\">\r\n      <!-- 1.4 -->\r\n      <g transform=\"translate(7.2 20.882855)scale(0.1 -0.1)\">\r\n       <use xlink:href=\"#DejaVuSans-49\"/>\r\n       <use x=\"63.623047\" xlink:href=\"#DejaVuSans-46\"/>\r\n       <use x=\"95.410156\" xlink:href=\"#DejaVuSans-52\"/>\r\n      </g>\r\n     </g>\r\n    </g>\r\n   </g>\r\n   <g id=\"line2d_15\">\r\n    <path clip-path=\"url(#p7bd2aba831)\" d=\"M 45.321306 87.681039 \r\nL 48.276294 130.039481 \r\nL 51.23128 87.681039 \r\nL 54.186267 45.322597 \r\nL 57.141253 17.083636 \r\nL 60.09624 130.039481 \r\nL 63.051228 158.278442 \r\nL 66.006214 158.278442 \r\nL 68.961201 200.636883 \r\nL 71.916187 214.756364 \r\nL 74.871174 115.92 \r\nL 77.826161 200.636883 \r\nL 80.781148 214.756364 \r\nL 83.736135 214.756364 \r\nL 86.691121 214.756364 \r\nL 89.646108 214.756364 \r\nL 92.601095 214.756364 \r\nL 95.556082 214.756364 \r\nL 98.511068 214.756364 \r\nL 101.466055 214.756364 \r\nL 104.421041 200.636883 \r\nL 107.376029 130.039481 \r\nL 110.331016 214.756364 \r\nL 113.286002 214.756364 \r\nL 340.819983 214.756364 \r\nL 343.774969 214.756364 \r\nL 346.729957 214.756364 \r\nL 349.684943 214.756364 \r\n\" style=\"fill:none;stroke:#1f77b4;stroke-linecap:square;stroke-width:1.5;\"/>\r\n   </g>\r\n   <g id=\"line2d_16\">\r\n    <path clip-path=\"url(#p7bd2aba831)\" d=\"M 45.321306 87.681039 \r\nL 48.276294 130.039481 \r\nL 51.23128 87.681039 \r\nL 54.186267 45.322597 \r\nL 57.141253 17.083636 \r\nL 60.09624 130.039481 \r\nL 63.051228 158.278442 \r\nL 66.006214 158.278442 \r\nL 68.961201 200.636883 \r\nL 71.916187 214.756364 \r\nL 74.871174 115.92 \r\nL 77.826161 200.636883 \r\nL 80.781148 214.756364 \r\nL 83.736135 214.756364 \r\nL 86.691121 214.756364 \r\nL 89.646108 214.756364 \r\nL 92.601095 214.756364 \r\nL 95.556082 214.756364 \r\nL 98.511068 214.756364 \r\nL 101.466055 214.756364 \r\nL 104.421041 200.636883 \r\nL 107.376029 130.039481 \r\nL 110.331016 214.756364 \r\nL 113.286002 214.756364 \r\nL 340.819983 214.756364 \r\nL 343.774969 214.756364 \r\nL 346.729957 214.756364 \r\nL 349.684943 214.756364 \r\n\" style=\"fill:none;stroke:#ff7f0e;stroke-linecap:square;stroke-width:1.5;\"/>\r\n   </g>\r\n   <g id=\"line2d_17\">\r\n    <path clip-path=\"url(#p7bd2aba831)\" d=\"M 45.321306 87.681039 \r\nL 48.276294 130.039481 \r\nL 51.23128 87.681039 \r\nL 54.186267 45.322597 \r\nL 57.141253 17.083636 \r\nL 60.09624 130.039481 \r\nL 63.051228 158.278442 \r\nL 66.006214 158.278442 \r\nL 68.961201 200.636883 \r\nL 71.916187 214.756364 \r\nL 74.871174 115.92 \r\nL 77.826161 200.636883 \r\nL 80.781148 214.756364 \r\nL 83.736135 214.756364 \r\nL 86.691121 214.756364 \r\nL 89.646108 214.756364 \r\nL 92.601095 214.756364 \r\nL 95.556082 214.756364 \r\nL 98.511068 214.756364 \r\nL 101.466055 214.756364 \r\nL 104.421041 200.636883 \r\nL 107.376029 130.039481 \r\nL 110.331016 214.756364 \r\nL 113.286002 214.756364 \r\nL 340.819983 214.756364 \r\nL 343.774969 214.756364 \r\nL 346.729957 214.756364 \r\nL 349.684943 214.756364 \r\n\" style=\"fill:none;stroke:#2ca02c;stroke-linecap:square;stroke-width:1.5;\"/>\r\n   </g>\r\n   <g id=\"patch_3\">\r\n    <path d=\"M 30.103125 224.64 \r\nL 30.103125 7.2 \r\n\" style=\"fill:none;stroke:#000000;stroke-linecap:square;stroke-linejoin:miter;stroke-width:0.8;\"/>\r\n   </g>\r\n   <g id=\"patch_4\">\r\n    <path d=\"M 364.903125 224.64 \r\nL 364.903125 7.2 \r\n\" style=\"fill:none;stroke:#000000;stroke-linecap:square;stroke-linejoin:miter;stroke-width:0.8;\"/>\r\n   </g>\r\n   <g id=\"patch_5\">\r\n    <path d=\"M 30.103125 224.64 \r\nL 364.903125 224.64 \r\n\" style=\"fill:none;stroke:#000000;stroke-linecap:square;stroke-linejoin:miter;stroke-width:0.8;\"/>\r\n   </g>\r\n   <g id=\"patch_6\">\r\n    <path d=\"M 30.103125 7.2 \r\nL 364.903125 7.2 \r\n\" style=\"fill:none;stroke:#000000;stroke-linecap:square;stroke-linejoin:miter;stroke-width:0.8;\"/>\r\n   </g>\r\n  </g>\r\n </g>\r\n <defs>\r\n  <clipPath id=\"p7bd2aba831\">\r\n   <rect height=\"217.44\" width=\"334.8\" x=\"30.103125\" y=\"7.2\"/>\r\n  </clipPath>\r\n </defs>\r\n</svg>\r\n",
      "image/png": "[encoded data removed]"
     },
     "metadata": {
      "needs_background": "light"
     }
    }
   ],
   "source": [
    "\n",
    "plt.plot(bassum_sub_frame[\"Zeitstempel\"], bassum_sub_frame[\"Wert\"], label=\"bassum\")\n",
    "plt.plot(brm_sub_frame[\"Zeitstempel\"], bassum_sub_frame[\"Wert\"], label=\"bremen\")\n",
    "plt.plot(schwarme_sub_frame[\"Zeitstempel\"], bassum_sub_frame[\"Wert\"], label=\"schwarme\")\n",
    "\n",
    "plt.show()\n"
   ]
  },
  {
   "cell_type": "markdown",
   "metadata": {},
   "source": [
    "Since there are missing hours in the weather data, we want to fill these gaps with weater data from the nearest station. \n"
   ]
  },
  {
   "cell_type": "markdown",
   "metadata": {},
   "source": [
    "## combine missing values of brm_precipitation with precipitation values from the city of schwarme"
   ]
  },
  {
   "cell_type": "code",
   "execution_count": 19,
   "metadata": {},
   "outputs": [],
   "source": [
    "# create a dataframe which contains all dates from 2019-01-20 until 2020-01-20\n",
    "all_dates_frame = pd.DataFrame(pd.date_range(\n",
    "    start = datetime.strptime(\"2019-01-20 00\", \"%Y-%m-%d %H\"), \n",
    "    end = datetime.strptime(\"2020-01-20 00\", \"%Y-%m-%d %H\"),\n",
    "    freq=\"1h\"), columns=[\"date\"])\n",
    "\n",
    "all_dates_frame[\"Zeitstempel\"] = all_dates_frame[\"date\"].map(lambda x: int(x.strftime(\"%Y%m%d%H%M\")))\n",
    "all_dates_frame = all_dates_frame.drop(\"date\", 1)\n",
    "\n",
    "# loading precipitation data of schwarme and mark missing values\n",
    "schwarme_precipitation_full = schwarme_precipitation.join(all_dates_frame.set_index(\"Zeitstempel\"), on=\"Zeitstempel\", how=\"outer\")\n",
    "schwarme_precipitation_full = schwarme_precipitation_full.set_index(\"Zeitstempel\")\n",
    "schwarme_precipitation_full = schwarme_precipitation_full.sort_values(\"Zeitstempel\")\n",
    "\n",
    "# loading precipitation data of bremen and mark missing values\n",
    "brm_precipitation_full = brm_precipitation.join(all_dates_frame.set_index(\"Zeitstempel\"), on=\"Zeitstempel\", how=\"outer\")\n",
    "brm_precipitation_full = brm_precipitation_full.set_index(\"Zeitstempel\")\n",
    "brm_precipitation_full = brm_precipitation_full.sort_values(\"Zeitstempel\")\n",
    "\n",
    "# fill missing values from bremen with values of schwerme\n",
    "brm_precipitation_full[brm_precipitation_full[\"Wert\"].isnull()] = schwarme_precipitation_full\n",
    "\n",
    "brm_precipitation_combined = brm_precipitation_full\n",
    "brm_precipitation_combined = brm_precipitation_combined.reset_index()"
   ]
  },
  {
   "cell_type": "code",
   "execution_count": 21,
   "metadata": {},
   "outputs": [
    {
     "output_type": "stream",
     "name": "stdout",
     "text": "<class 'pandas.core.frame.DataFrame'>\nRangeIndex: 157576 entries, 0 to 157575\nData columns (total 11 columns):\n #   Column         Non-Null Count   Dtype  \n---  ------         --------------   -----  \n 0   day            157576 non-null  object \n 1   time           157576 non-null  object \n 2   b_number       157576 non-null  int64  \n 3   city           157576 non-null  object \n 4   trip_duration  157576 non-null  object \n 5   orig_lat       157576 non-null  float64\n 6   orig_lng       157576 non-null  float64\n 7   dest_lat       157576 non-null  float64\n 8   dest_lng       157576 non-null  float64\n 9   precipitation  157576 non-null  float64\n 10  temperature    157576 non-null  float64\ndtypes: float64(6), int64(1), object(4)\nmemory usage: 13.2+ MB\n"
    }
   ],
   "source": [
    "brm_frame_precipitation = join_by_hour(brm_frame, brm_precipitation_combined, \"precipitation\")\n",
    "brm_frame_precipitation\n",
    "\n",
    "brm_frame_weather = join_by_hour(brm_frame_precipitation, brm_temperature, \"temperature\")\n",
    "\n",
    "brm_frame_weather.info()"
   ]
  },
  {
   "cell_type": "code",
   "execution_count": null,
   "metadata": {
    "collapsed": false,
    "jupyter": {
     "outputs_hidden": false
    },
    "pycharm": {
     "name": "#%%\n"
    }
   },
   "outputs": [],
   "source": [
    "frb_frame = pd.read_csv(\"resources/freiburg.csv\")\n",
    "frb_precipitation = pd.read_csv(\"resources/freiburg_precipitation.csv\")\n",
    "frb_temperature = pd.read_csv(\"resources/freiburg_temperature.csv\")\n",
    "\n",
    "frb_frame_precipitation = join_by_hour(frb_frame, frb_precipitation, \"precipitation\")\n",
    "frb_frame_weather = join_by_hour(frb_frame_precipitation, frb_temperature, \"temperature\")\n",
    "\n",
    "frb_frame_weather.info()"
   ]
  },
  {
   "cell_type": "code",
   "execution_count": null,
   "metadata": {},
   "outputs": [],
   "source": []
  }
 ],
 "metadata": {
  "kernelspec": {
   "display_name": "Python 3.7.6 64-bit ('base': conda)",
   "language": "python",
   "name": "python37664bitbaseconda644fbd5b017e47549473535c61dcc2b3"
  },
  "language_info": {
   "codemirror_mode": {
    "name": "ipython",
    "version": 3
   },
   "file_extension": ".py",
   "mimetype": "text/x-python",
   "name": "python",
   "nbconvert_exporter": "python",
   "pygments_lexer": "ipython3",
   "version": "3.7.6-final"
  }
 },
 "nbformat": 4,
 "nbformat_minor": 4
}