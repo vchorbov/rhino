{
 "cells": [
  {
   "cell_type": "code",
   "execution_count": 2,
   "metadata": {},
   "outputs": [],
   "source": [
    "import pandas as pd\n",
    "import seaborn as sns\n",
    "import matplotlib as mpl\n",
    "import matplotlib.pyplot as plt\n",
    "import numpy as np\n",
    "import folium\n",
    "from folium import plugins\n",
    "from datetime import datetime\n",
    "from datetime import timedelta\n",
    "import math\n",
    "import random\n",
    "import timeit"
   ]
  },
  {
   "cell_type": "code",
   "execution_count": 3,
   "metadata": {},
   "outputs": [],
   "source": [
    "brm = pd.read_csv(\"../resources/bremen.csv\")\n",
    "frb = pd.read_csv(\"../resources/freiburg.csv\")"
   ]
  },
  {
   "cell_type": "code",
   "execution_count": 4,
   "metadata": {},
   "outputs": [],
   "source": [
    "brm = pd.read_csv(\"../resources/bremen.csv\", encoding = \"ISO-8859-1\")\n",
    "brm.sort_values([\"b_number\",\"time\"], inplace=True)\n",
    "brm.set_index(pd.DatetimeIndex(brm[\"time\"]),inplace=True)\n",
    "brm.drop(\"time\", axis=1, inplace=True)"
   ]
  },
  {
   "cell_type": "code",
   "execution_count": 5,
   "metadata": {},
   "outputs": [],
   "source": [
    "frb = pd.read_csv(\"../resources/freiburg.csv\", encoding = \"ISO-8859-1\")\n",
    "frb.sort_values([\"b_number\",\"time\"], inplace=True)\n",
    "frb.set_index(pd.DatetimeIndex(frb[\"time\"]),inplace=True)\n",
    "frb.drop(\"time\", axis=1, inplace=True)"
   ]
  },
  {
   "cell_type": "markdown",
   "metadata": {},
   "source": [
    "## Utilization"
   ]
  },
  {
   "cell_type": "code",
   "execution_count": 231,
   "metadata": {},
   "outputs": [
    {
     "data": {
      "text/html": [
       "<div>\n",
       "<style scoped>\n",
       "    .dataframe tbody tr th:only-of-type {\n",
       "        vertical-align: middle;\n",
       "    }\n",
       "\n",
       "    .dataframe tbody tr th {\n",
       "        vertical-align: top;\n",
       "    }\n",
       "\n",
       "    .dataframe thead th {\n",
       "        text-align: right;\n",
       "    }\n",
       "</style>\n",
       "<table border=\"1\" class=\"dataframe\">\n",
       "  <thead>\n",
       "    <tr style=\"text-align: right;\">\n",
       "      <th></th>\n",
       "      <th>day</th>\n",
       "      <th>b_number</th>\n",
       "      <th>city</th>\n",
       "      <th>trip_duration</th>\n",
       "      <th>orig_lat</th>\n",
       "      <th>orig_lng</th>\n",
       "      <th>dest_lat</th>\n",
       "      <th>dest_lng</th>\n",
       "    </tr>\n",
       "    <tr>\n",
       "      <th>time</th>\n",
       "      <th></th>\n",
       "      <th></th>\n",
       "      <th></th>\n",
       "      <th></th>\n",
       "      <th></th>\n",
       "      <th></th>\n",
       "      <th></th>\n",
       "      <th></th>\n",
       "    </tr>\n",
       "  </thead>\n",
       "  <tbody>\n",
       "    <tr>\n",
       "      <th>2020-07-13 02:18:00</th>\n",
       "      <td>2019-09-15</td>\n",
       "      <td>20507</td>\n",
       "      <td>bremen</td>\n",
       "      <td>0 days 00:10:00.000000000</td>\n",
       "      <td>53.078923</td>\n",
       "      <td>8.884911</td>\n",
       "      <td>53.083370</td>\n",
       "      <td>8.899650</td>\n",
       "    </tr>\n",
       "    <tr>\n",
       "      <th>2020-07-13 06:41:00</th>\n",
       "      <td>2019-09-09</td>\n",
       "      <td>20507</td>\n",
       "      <td>bremen</td>\n",
       "      <td>0 days 00:11:00.000000000</td>\n",
       "      <td>53.078923</td>\n",
       "      <td>8.884911</td>\n",
       "      <td>53.079729</td>\n",
       "      <td>8.891353</td>\n",
       "    </tr>\n",
       "    <tr>\n",
       "      <th>2020-07-13 07:25:00</th>\n",
       "      <td>2019-09-09</td>\n",
       "      <td>20507</td>\n",
       "      <td>bremen</td>\n",
       "      <td>0 days 00:48:00.000000000</td>\n",
       "      <td>53.079698</td>\n",
       "      <td>8.891367</td>\n",
       "      <td>53.069840</td>\n",
       "      <td>8.801496</td>\n",
       "    </tr>\n",
       "    <tr>\n",
       "      <th>2020-07-13 09:16:00</th>\n",
       "      <td>2019-12-07</td>\n",
       "      <td>20507</td>\n",
       "      <td>bremen</td>\n",
       "      <td>0 days 00:06:00.000000000</td>\n",
       "      <td>53.078923</td>\n",
       "      <td>8.884911</td>\n",
       "      <td>53.081427</td>\n",
       "      <td>8.893282</td>\n",
       "    </tr>\n",
       "    <tr>\n",
       "      <th>2020-07-13 09:24:00</th>\n",
       "      <td>2019-12-07</td>\n",
       "      <td>20507</td>\n",
       "      <td>bremen</td>\n",
       "      <td>0 days 00:06:00.000000000</td>\n",
       "      <td>53.081529</td>\n",
       "      <td>8.893232</td>\n",
       "      <td>53.078923</td>\n",
       "      <td>8.884911</td>\n",
       "    </tr>\n",
       "  </tbody>\n",
       "</table>\n",
       "</div>"
      ],
      "text/plain": [
       "                            day  b_number    city              trip_duration  \\\n",
       "time                                                                           \n",
       "2020-07-13 02:18:00  2019-09-15     20507  bremen  0 days 00:10:00.000000000   \n",
       "2020-07-13 06:41:00  2019-09-09     20507  bremen  0 days 00:11:00.000000000   \n",
       "2020-07-13 07:25:00  2019-09-09     20507  bremen  0 days 00:48:00.000000000   \n",
       "2020-07-13 09:16:00  2019-12-07     20507  bremen  0 days 00:06:00.000000000   \n",
       "2020-07-13 09:24:00  2019-12-07     20507  bremen  0 days 00:06:00.000000000   \n",
       "\n",
       "                      orig_lat  orig_lng   dest_lat  dest_lng  \n",
       "time                                                           \n",
       "2020-07-13 02:18:00  53.078923  8.884911  53.083370  8.899650  \n",
       "2020-07-13 06:41:00  53.078923  8.884911  53.079729  8.891353  \n",
       "2020-07-13 07:25:00  53.079698  8.891367  53.069840  8.801496  \n",
       "2020-07-13 09:16:00  53.078923  8.884911  53.081427  8.893282  \n",
       "2020-07-13 09:24:00  53.081529  8.893232  53.078923  8.884911  "
      ]
     },
     "execution_count": 231,
     "metadata": {},
     "output_type": "execute_result"
    }
   ],
   "source": [
    "brm.head()"
   ]
  },
  {
   "cell_type": "code",
   "execution_count": 232,
   "metadata": {},
   "outputs": [
    {
     "data": {
      "text/html": [
       "<div>\n",
       "<style scoped>\n",
       "    .dataframe tbody tr th:only-of-type {\n",
       "        vertical-align: middle;\n",
       "    }\n",
       "\n",
       "    .dataframe tbody tr th {\n",
       "        vertical-align: top;\n",
       "    }\n",
       "\n",
       "    .dataframe thead th {\n",
       "        text-align: right;\n",
       "    }\n",
       "</style>\n",
       "<table border=\"1\" class=\"dataframe\">\n",
       "  <thead>\n",
       "    <tr style=\"text-align: right;\">\n",
       "      <th></th>\n",
       "      <th>day</th>\n",
       "      <th>b_number</th>\n",
       "      <th>city</th>\n",
       "      <th>trip_duration</th>\n",
       "      <th>orig_lat</th>\n",
       "      <th>orig_lng</th>\n",
       "      <th>dest_lat</th>\n",
       "      <th>dest_lng</th>\n",
       "    </tr>\n",
       "    <tr>\n",
       "      <th>time</th>\n",
       "      <th></th>\n",
       "      <th></th>\n",
       "      <th></th>\n",
       "      <th></th>\n",
       "      <th></th>\n",
       "      <th></th>\n",
       "      <th></th>\n",
       "      <th></th>\n",
       "    </tr>\n",
       "  </thead>\n",
       "  <tbody>\n",
       "    <tr>\n",
       "      <th>2020-07-13 00:19:00</th>\n",
       "      <td>2019-07-30</td>\n",
       "      <td>32560</td>\n",
       "      <td>freiburg</td>\n",
       "      <td>0 days 00:24:00.000000000</td>\n",
       "      <td>47.988072</td>\n",
       "      <td>7.873674</td>\n",
       "      <td>47.997058</td>\n",
       "      <td>7.834818</td>\n",
       "    </tr>\n",
       "    <tr>\n",
       "      <th>2020-07-13 00:20:00</th>\n",
       "      <td>2019-08-07</td>\n",
       "      <td>32560</td>\n",
       "      <td>freiburg</td>\n",
       "      <td>0 days 00:46:00.000000000</td>\n",
       "      <td>47.997058</td>\n",
       "      <td>7.834818</td>\n",
       "      <td>47.991031</td>\n",
       "      <td>7.815472</td>\n",
       "    </tr>\n",
       "    <tr>\n",
       "      <th>2020-07-13 00:29:00</th>\n",
       "      <td>2019-10-18</td>\n",
       "      <td>32560</td>\n",
       "      <td>freiburg</td>\n",
       "      <td>0 days 00:09:00.000000000</td>\n",
       "      <td>47.989120</td>\n",
       "      <td>7.847720</td>\n",
       "      <td>47.976135</td>\n",
       "      <td>7.828490</td>\n",
       "    </tr>\n",
       "    <tr>\n",
       "      <th>2020-07-13 00:52:00</th>\n",
       "      <td>2019-12-17</td>\n",
       "      <td>32560</td>\n",
       "      <td>freiburg</td>\n",
       "      <td>0 days 00:30:00.000000000</td>\n",
       "      <td>47.992361</td>\n",
       "      <td>7.797626</td>\n",
       "      <td>48.008110</td>\n",
       "      <td>7.850470</td>\n",
       "    </tr>\n",
       "    <tr>\n",
       "      <th>2020-07-13 01:58:00</th>\n",
       "      <td>2019-10-19</td>\n",
       "      <td>32560</td>\n",
       "      <td>freiburg</td>\n",
       "      <td>0 days 00:21:00.000000000</td>\n",
       "      <td>47.992910</td>\n",
       "      <td>7.847020</td>\n",
       "      <td>47.979980</td>\n",
       "      <td>7.832150</td>\n",
       "    </tr>\n",
       "  </tbody>\n",
       "</table>\n",
       "</div>"
      ],
      "text/plain": [
       "                            day  b_number      city  \\\n",
       "time                                                  \n",
       "2020-07-13 00:19:00  2019-07-30     32560  freiburg   \n",
       "2020-07-13 00:20:00  2019-08-07     32560  freiburg   \n",
       "2020-07-13 00:29:00  2019-10-18     32560  freiburg   \n",
       "2020-07-13 00:52:00  2019-12-17     32560  freiburg   \n",
       "2020-07-13 01:58:00  2019-10-19     32560  freiburg   \n",
       "\n",
       "                                 trip_duration   orig_lat  orig_lng  \\\n",
       "time                                                                  \n",
       "2020-07-13 00:19:00  0 days 00:24:00.000000000  47.988072  7.873674   \n",
       "2020-07-13 00:20:00  0 days 00:46:00.000000000  47.997058  7.834818   \n",
       "2020-07-13 00:29:00  0 days 00:09:00.000000000  47.989120  7.847720   \n",
       "2020-07-13 00:52:00  0 days 00:30:00.000000000  47.992361  7.797626   \n",
       "2020-07-13 01:58:00  0 days 00:21:00.000000000  47.992910  7.847020   \n",
       "\n",
       "                      dest_lat  dest_lng  \n",
       "time                                      \n",
       "2020-07-13 00:19:00  47.997058  7.834818  \n",
       "2020-07-13 00:20:00  47.991031  7.815472  \n",
       "2020-07-13 00:29:00  47.976135  7.828490  \n",
       "2020-07-13 00:52:00  48.008110  7.850470  \n",
       "2020-07-13 01:58:00  47.979980  7.832150  "
      ]
     },
     "execution_count": 232,
     "metadata": {},
     "output_type": "execute_result"
    }
   ],
   "source": [
    "frb.head()"
   ]
  },
  {
   "cell_type": "code",
   "execution_count": 6,
   "metadata": {},
   "outputs": [],
   "source": [
    "#Mapping weekday, hour, datetime, time to our DF\n",
    "\n",
    "def date_match (ts):\n",
    "    return ts.date()\n",
    "\n",
    "def weekday_match (ts):\n",
    "    return ts.weekday()\n",
    "\n",
    "def hour_match (ts):\n",
    "    return ts.hour"
   ]
  },
  {
   "cell_type": "code",
   "execution_count": 7,
   "metadata": {},
   "outputs": [],
   "source": [
    "brm[\"date\"]=brm.index.map(date_match)\n",
    "brm[\"weekday\"]=brm.index.map(weekday_match)\n",
    "brm[\"hour\"] =brm.index.map(hour_match)"
   ]
  },
  {
   "cell_type": "code",
   "execution_count": 8,
   "metadata": {},
   "outputs": [],
   "source": [
    "frb[\"date\"]=frb.index.map(date_match)\n",
    "frb[\"weekday\"]=frb.index.map(weekday_match)\n",
    "frb[\"hour\"] =frb.index.map(hour_match)"
   ]
  },
  {
   "cell_type": "code",
   "execution_count": 236,
   "metadata": {},
   "outputs": [
    {
     "data": {
      "text/html": [
       "<div>\n",
       "<style scoped>\n",
       "    .dataframe tbody tr th:only-of-type {\n",
       "        vertical-align: middle;\n",
       "    }\n",
       "\n",
       "    .dataframe tbody tr th {\n",
       "        vertical-align: top;\n",
       "    }\n",
       "\n",
       "    .dataframe thead th {\n",
       "        text-align: right;\n",
       "    }\n",
       "</style>\n",
       "<table border=\"1\" class=\"dataframe\">\n",
       "  <thead>\n",
       "    <tr style=\"text-align: right;\">\n",
       "      <th></th>\n",
       "      <th>day</th>\n",
       "      <th>b_number</th>\n",
       "      <th>city</th>\n",
       "      <th>trip_duration</th>\n",
       "      <th>orig_lat</th>\n",
       "      <th>orig_lng</th>\n",
       "      <th>dest_lat</th>\n",
       "      <th>dest_lng</th>\n",
       "      <th>date</th>\n",
       "      <th>weekday</th>\n",
       "      <th>hour</th>\n",
       "    </tr>\n",
       "    <tr>\n",
       "      <th>time</th>\n",
       "      <th></th>\n",
       "      <th></th>\n",
       "      <th></th>\n",
       "      <th></th>\n",
       "      <th></th>\n",
       "      <th></th>\n",
       "      <th></th>\n",
       "      <th></th>\n",
       "      <th></th>\n",
       "      <th></th>\n",
       "      <th></th>\n",
       "    </tr>\n",
       "  </thead>\n",
       "  <tbody>\n",
       "    <tr>\n",
       "      <th>2020-07-13 02:18:00</th>\n",
       "      <td>2019-09-15</td>\n",
       "      <td>20507</td>\n",
       "      <td>bremen</td>\n",
       "      <td>0 days 00:10:00.000000000</td>\n",
       "      <td>53.078923</td>\n",
       "      <td>8.884911</td>\n",
       "      <td>53.083370</td>\n",
       "      <td>8.899650</td>\n",
       "      <td>2020-07-13</td>\n",
       "      <td>0</td>\n",
       "      <td>2</td>\n",
       "    </tr>\n",
       "    <tr>\n",
       "      <th>2020-07-13 06:41:00</th>\n",
       "      <td>2019-09-09</td>\n",
       "      <td>20507</td>\n",
       "      <td>bremen</td>\n",
       "      <td>0 days 00:11:00.000000000</td>\n",
       "      <td>53.078923</td>\n",
       "      <td>8.884911</td>\n",
       "      <td>53.079729</td>\n",
       "      <td>8.891353</td>\n",
       "      <td>2020-07-13</td>\n",
       "      <td>0</td>\n",
       "      <td>6</td>\n",
       "    </tr>\n",
       "    <tr>\n",
       "      <th>2020-07-13 07:25:00</th>\n",
       "      <td>2019-09-09</td>\n",
       "      <td>20507</td>\n",
       "      <td>bremen</td>\n",
       "      <td>0 days 00:48:00.000000000</td>\n",
       "      <td>53.079698</td>\n",
       "      <td>8.891367</td>\n",
       "      <td>53.069840</td>\n",
       "      <td>8.801496</td>\n",
       "      <td>2020-07-13</td>\n",
       "      <td>0</td>\n",
       "      <td>7</td>\n",
       "    </tr>\n",
       "    <tr>\n",
       "      <th>2020-07-13 09:16:00</th>\n",
       "      <td>2019-12-07</td>\n",
       "      <td>20507</td>\n",
       "      <td>bremen</td>\n",
       "      <td>0 days 00:06:00.000000000</td>\n",
       "      <td>53.078923</td>\n",
       "      <td>8.884911</td>\n",
       "      <td>53.081427</td>\n",
       "      <td>8.893282</td>\n",
       "      <td>2020-07-13</td>\n",
       "      <td>0</td>\n",
       "      <td>9</td>\n",
       "    </tr>\n",
       "    <tr>\n",
       "      <th>2020-07-13 09:24:00</th>\n",
       "      <td>2019-12-07</td>\n",
       "      <td>20507</td>\n",
       "      <td>bremen</td>\n",
       "      <td>0 days 00:06:00.000000000</td>\n",
       "      <td>53.081529</td>\n",
       "      <td>8.893232</td>\n",
       "      <td>53.078923</td>\n",
       "      <td>8.884911</td>\n",
       "      <td>2020-07-13</td>\n",
       "      <td>0</td>\n",
       "      <td>9</td>\n",
       "    </tr>\n",
       "  </tbody>\n",
       "</table>\n",
       "</div>"
      ],
      "text/plain": [
       "                            day  b_number    city              trip_duration  \\\n",
       "time                                                                           \n",
       "2020-07-13 02:18:00  2019-09-15     20507  bremen  0 days 00:10:00.000000000   \n",
       "2020-07-13 06:41:00  2019-09-09     20507  bremen  0 days 00:11:00.000000000   \n",
       "2020-07-13 07:25:00  2019-09-09     20507  bremen  0 days 00:48:00.000000000   \n",
       "2020-07-13 09:16:00  2019-12-07     20507  bremen  0 days 00:06:00.000000000   \n",
       "2020-07-13 09:24:00  2019-12-07     20507  bremen  0 days 00:06:00.000000000   \n",
       "\n",
       "                      orig_lat  orig_lng   dest_lat  dest_lng        date  \\\n",
       "time                                                                        \n",
       "2020-07-13 02:18:00  53.078923  8.884911  53.083370  8.899650  2020-07-13   \n",
       "2020-07-13 06:41:00  53.078923  8.884911  53.079729  8.891353  2020-07-13   \n",
       "2020-07-13 07:25:00  53.079698  8.891367  53.069840  8.801496  2020-07-13   \n",
       "2020-07-13 09:16:00  53.078923  8.884911  53.081427  8.893282  2020-07-13   \n",
       "2020-07-13 09:24:00  53.081529  8.893232  53.078923  8.884911  2020-07-13   \n",
       "\n",
       "                     weekday  hour  \n",
       "time                                \n",
       "2020-07-13 02:18:00        0     2  \n",
       "2020-07-13 06:41:00        0     6  \n",
       "2020-07-13 07:25:00        0     7  \n",
       "2020-07-13 09:16:00        0     9  \n",
       "2020-07-13 09:24:00        0     9  "
      ]
     },
     "execution_count": 236,
     "metadata": {},
     "output_type": "execute_result"
    }
   ],
   "source": [
    "brm.head(5)"
   ]
  },
  {
   "cell_type": "code",
   "execution_count": 237,
   "metadata": {},
   "outputs": [
    {
     "data": {
      "text/html": [
       "<div>\n",
       "<style scoped>\n",
       "    .dataframe tbody tr th:only-of-type {\n",
       "        vertical-align: middle;\n",
       "    }\n",
       "\n",
       "    .dataframe tbody tr th {\n",
       "        vertical-align: top;\n",
       "    }\n",
       "\n",
       "    .dataframe thead th {\n",
       "        text-align: right;\n",
       "    }\n",
       "</style>\n",
       "<table border=\"1\" class=\"dataframe\">\n",
       "  <thead>\n",
       "    <tr style=\"text-align: right;\">\n",
       "      <th></th>\n",
       "      <th>day</th>\n",
       "      <th>b_number</th>\n",
       "      <th>city</th>\n",
       "      <th>trip_duration</th>\n",
       "      <th>orig_lat</th>\n",
       "      <th>orig_lng</th>\n",
       "      <th>dest_lat</th>\n",
       "      <th>dest_lng</th>\n",
       "      <th>date</th>\n",
       "      <th>weekday</th>\n",
       "      <th>hour</th>\n",
       "    </tr>\n",
       "    <tr>\n",
       "      <th>time</th>\n",
       "      <th></th>\n",
       "      <th></th>\n",
       "      <th></th>\n",
       "      <th></th>\n",
       "      <th></th>\n",
       "      <th></th>\n",
       "      <th></th>\n",
       "      <th></th>\n",
       "      <th></th>\n",
       "      <th></th>\n",
       "      <th></th>\n",
       "    </tr>\n",
       "  </thead>\n",
       "  <tbody>\n",
       "    <tr>\n",
       "      <th>2020-07-13 00:19:00</th>\n",
       "      <td>2019-07-30</td>\n",
       "      <td>32560</td>\n",
       "      <td>freiburg</td>\n",
       "      <td>0 days 00:24:00.000000000</td>\n",
       "      <td>47.988072</td>\n",
       "      <td>7.873674</td>\n",
       "      <td>47.997058</td>\n",
       "      <td>7.834818</td>\n",
       "      <td>2020-07-13</td>\n",
       "      <td>0</td>\n",
       "      <td>0</td>\n",
       "    </tr>\n",
       "    <tr>\n",
       "      <th>2020-07-13 00:20:00</th>\n",
       "      <td>2019-08-07</td>\n",
       "      <td>32560</td>\n",
       "      <td>freiburg</td>\n",
       "      <td>0 days 00:46:00.000000000</td>\n",
       "      <td>47.997058</td>\n",
       "      <td>7.834818</td>\n",
       "      <td>47.991031</td>\n",
       "      <td>7.815472</td>\n",
       "      <td>2020-07-13</td>\n",
       "      <td>0</td>\n",
       "      <td>0</td>\n",
       "    </tr>\n",
       "    <tr>\n",
       "      <th>2020-07-13 00:29:00</th>\n",
       "      <td>2019-10-18</td>\n",
       "      <td>32560</td>\n",
       "      <td>freiburg</td>\n",
       "      <td>0 days 00:09:00.000000000</td>\n",
       "      <td>47.989120</td>\n",
       "      <td>7.847720</td>\n",
       "      <td>47.976135</td>\n",
       "      <td>7.828490</td>\n",
       "      <td>2020-07-13</td>\n",
       "      <td>0</td>\n",
       "      <td>0</td>\n",
       "    </tr>\n",
       "    <tr>\n",
       "      <th>2020-07-13 00:52:00</th>\n",
       "      <td>2019-12-17</td>\n",
       "      <td>32560</td>\n",
       "      <td>freiburg</td>\n",
       "      <td>0 days 00:30:00.000000000</td>\n",
       "      <td>47.992361</td>\n",
       "      <td>7.797626</td>\n",
       "      <td>48.008110</td>\n",
       "      <td>7.850470</td>\n",
       "      <td>2020-07-13</td>\n",
       "      <td>0</td>\n",
       "      <td>0</td>\n",
       "    </tr>\n",
       "    <tr>\n",
       "      <th>2020-07-13 01:58:00</th>\n",
       "      <td>2019-10-19</td>\n",
       "      <td>32560</td>\n",
       "      <td>freiburg</td>\n",
       "      <td>0 days 00:21:00.000000000</td>\n",
       "      <td>47.992910</td>\n",
       "      <td>7.847020</td>\n",
       "      <td>47.979980</td>\n",
       "      <td>7.832150</td>\n",
       "      <td>2020-07-13</td>\n",
       "      <td>0</td>\n",
       "      <td>1</td>\n",
       "    </tr>\n",
       "  </tbody>\n",
       "</table>\n",
       "</div>"
      ],
      "text/plain": [
       "                            day  b_number      city  \\\n",
       "time                                                  \n",
       "2020-07-13 00:19:00  2019-07-30     32560  freiburg   \n",
       "2020-07-13 00:20:00  2019-08-07     32560  freiburg   \n",
       "2020-07-13 00:29:00  2019-10-18     32560  freiburg   \n",
       "2020-07-13 00:52:00  2019-12-17     32560  freiburg   \n",
       "2020-07-13 01:58:00  2019-10-19     32560  freiburg   \n",
       "\n",
       "                                 trip_duration   orig_lat  orig_lng  \\\n",
       "time                                                                  \n",
       "2020-07-13 00:19:00  0 days 00:24:00.000000000  47.988072  7.873674   \n",
       "2020-07-13 00:20:00  0 days 00:46:00.000000000  47.997058  7.834818   \n",
       "2020-07-13 00:29:00  0 days 00:09:00.000000000  47.989120  7.847720   \n",
       "2020-07-13 00:52:00  0 days 00:30:00.000000000  47.992361  7.797626   \n",
       "2020-07-13 01:58:00  0 days 00:21:00.000000000  47.992910  7.847020   \n",
       "\n",
       "                      dest_lat  dest_lng        date  weekday  hour  \n",
       "time                                                                 \n",
       "2020-07-13 00:19:00  47.997058  7.834818  2020-07-13        0     0  \n",
       "2020-07-13 00:20:00  47.991031  7.815472  2020-07-13        0     0  \n",
       "2020-07-13 00:29:00  47.976135  7.828490  2020-07-13        0     0  \n",
       "2020-07-13 00:52:00  48.008110  7.850470  2020-07-13        0     0  \n",
       "2020-07-13 01:58:00  47.979980  7.832150  2020-07-13        0     1  "
      ]
     },
     "execution_count": 237,
     "metadata": {},
     "output_type": "execute_result"
    }
   ],
   "source": [
    "frb.head(5)"
   ]
  },
  {
   "cell_type": "markdown",
   "metadata": {},
   "source": [
    "## Utilization for bremen's bike fleet"
   ]
  },
  {
   "cell_type": "code",
   "execution_count": 12,
   "metadata": {},
   "outputs": [
    {
     "data": {
      "text/plain": [
       "441"
      ]
     },
     "execution_count": 12,
     "metadata": {},
     "output_type": "execute_result"
    }
   ],
   "source": [
    "# Total number of bikes\n",
    "len(brm[\"b_number\"].unique())"
   ]
  },
  {
   "cell_type": "code",
   "execution_count": 13,
   "metadata": {},
   "outputs": [
    {
     "name": "stdout",
     "output_type": "stream",
     "text": [
      "The total number of bikes in bremen for the observed time is 441.\n"
     ]
    }
   ],
   "source": [
    "brm_numberOfBikes = len(brm[\"b_number\"].unique())\n",
    "\n",
    "print(\"The total number of bikes in bremen for the observed time is {}.\".format(brm_numberOfBikes))"
   ]
  },
  {
   "cell_type": "markdown",
   "metadata": {},
   "source": [
    "## Percentage usage of bikes in bremen"
   ]
  },
  {
   "cell_type": "code",
   "execution_count": 14,
   "metadata": {},
   "outputs": [],
   "source": [
    "# Used bikes in bremen daily\n",
    "\n",
    "brm_numberOfUsedBikes_daily = brm.groupby(\"day\")[\"b_number\"].nunique()\n",
    "brm_numberOfUniqueBikes_daily = brm_numberOfUsedBikes_daily.count()"
   ]
  },
  {
   "cell_type": "code",
   "execution_count": 15,
   "metadata": {},
   "outputs": [
    {
     "data": {
      "text/plain": [
       "363"
      ]
     },
     "execution_count": 15,
     "metadata": {},
     "output_type": "execute_result"
    }
   ],
   "source": [
    "brm_numberOfUniqueBikes_daily"
   ]
  },
  {
   "cell_type": "code",
   "execution_count": 16,
   "metadata": {},
   "outputs": [],
   "source": [
    "# Calc percantage usage of bikes daily\n",
    "brm_percantageUsedPerBike = brm_numberOfUsedBikes_daily / brm_numberOfBikes"
   ]
  },
  {
   "cell_type": "code",
   "execution_count": 18,
   "metadata": {},
   "outputs": [
    {
     "data": {
      "text/plain": [
       "day\n",
       "2019-01-20    0.136054\n",
       "2019-01-21    0.174603\n",
       "2019-01-22    0.195011\n",
       "2019-01-23    0.147392\n",
       "2019-01-24    0.176871\n",
       "Name: b_number, dtype: float64"
      ]
     },
     "execution_count": 18,
     "metadata": {},
     "output_type": "execute_result"
    }
   ],
   "source": [
    "brm_percantageUsedPerBike.head(5)"
   ]
  },
  {
   "cell_type": "code",
   "execution_count": 28,
   "metadata": {},
   "outputs": [
    {
     "data": {
      "image/png": "[encoded data removed]",
      "text/plain": [
       "<Figure size 1600x320 with 1 Axes>"
      ]
     },
     "metadata": {
      "needs_background": "light"
     },
     "output_type": "display_data"
    }
   ],
   "source": [
    "fix, ax = plt.subplots(figsize=(20,4), dpi= 80)\n",
    "\n",
    "ax.plot(brm_percantageUsedPerBike)\n",
    "\n",
    "ax.set(xlabel=\"Date: 01/19-1/20\",\n",
    "       ylabel=\"Number of Bikes\",\n",
    "       title=\"Percantage usage of bikes in bremen\")\n",
    "ax.axes.xaxis.set_ticks([])\n",
    "\n",
    "plt.show()"
   ]
  },
  {
   "cell_type": "markdown",
   "metadata": {},
   "source": [
    "## Utilization for freiburg's bike fleet"
   ]
  },
  {
   "cell_type": "code",
   "execution_count": 22,
   "metadata": {},
   "outputs": [
    {
     "data": {
      "text/plain": [
       "435"
      ]
     },
     "execution_count": 22,
     "metadata": {},
     "output_type": "execute_result"
    }
   ],
   "source": [
    "# Total number of bikes\n",
    "len(frb[\"b_number\"].unique())"
   ]
  },
  {
   "cell_type": "code",
   "execution_count": 23,
   "metadata": {},
   "outputs": [
    {
     "name": "stdout",
     "output_type": "stream",
     "text": [
      "The total number of bikes in freiburg for the observed time is 435.\n"
     ]
    }
   ],
   "source": [
    "frb_numberOfBikes = len(frb[\"b_number\"].unique())\n",
    "\n",
    "print(\"The total number of bikes in freiburg for the observed time is {}.\".format(frb_numberOfBikes))"
   ]
  },
  {
   "cell_type": "markdown",
   "metadata": {},
   "source": [
    "## Percentage usage of bikes in freiburg"
   ]
  },
  {
   "cell_type": "code",
   "execution_count": 24,
   "metadata": {},
   "outputs": [],
   "source": [
    "# Used bikes in freiburg daily\n",
    "\n",
    "frb_numberOfUsedBikes_daily = frb.groupby(\"day\")[\"b_number\"].nunique()\n",
    "frb_numberOfUniqueBikes_daily = frb_numberOfUsedBikes_daily.count()"
   ]
  },
  {
   "cell_type": "code",
   "execution_count": 25,
   "metadata": {},
   "outputs": [
    {
     "data": {
      "text/plain": [
       "257"
      ]
     },
     "execution_count": 25,
     "metadata": {},
     "output_type": "execute_result"
    }
   ],
   "source": [
    "frb_numberOfUniqueBikes_daily"
   ]
  },
  {
   "cell_type": "code",
   "execution_count": 26,
   "metadata": {},
   "outputs": [],
   "source": [
    "# Calc percantage usage of bikes daily\n",
    "frb_percantageUsedPerBike = frb_numberOfUsedBikes_daily / frb_numberOfBikes"
   ]
  },
  {
   "cell_type": "code",
   "execution_count": 250,
   "metadata": {},
   "outputs": [
    {
     "data": {
      "text/plain": [
       "day\n",
       "2019-05-06    0.002299\n",
       "2019-05-07    0.002299\n",
       "2019-05-08    0.002299\n",
       "2019-05-09    0.002299\n",
       "2019-05-10    0.002299\n",
       "Name: b_number, dtype: float64"
      ]
     },
     "execution_count": 250,
     "metadata": {},
     "output_type": "execute_result"
    }
   ],
   "source": [
    "frb_percantageUsedPerBike.head(5)"
   ]
  },
  {
   "cell_type": "code",
   "execution_count": 27,
   "metadata": {},
   "outputs": [
    {
     "data": {
      "image/png": "[encoded data removed]",
      "text/plain": [
       "<Figure size 1600x320 with 1 Axes>"
      ]
     },
     "metadata": {
      "needs_background": "light"
     },
     "output_type": "display_data"
    }
   ],
   "source": [
    "fix, ax = plt.subplots(figsize=(20,4), dpi= 80)\n",
    "\n",
    "ax.plot(brm_percantageUsedPerBike)\n",
    "\n",
    "ax.set(xlabel=\"Date: 01/19-1/20\",\n",
    "       ylabel=\"Number of Bikes\",\n",
    "       title=\"Percantage usage of bikes in freiburg\")\n",
    "ax.axes.xaxis.set_ticks([])\n",
    "\n",
    "\n",
    "plt.show()"
   ]
  },
  {
   "cell_type": "markdown",
   "metadata": {},
   "source": [
    "Utilization shows at what point in time the entire fleet is fully utilised. It's useful for the following predictive analysis in case to plan the fleet size."
   ]
  },
  {
   "cell_type": "code",
   "execution_count": null,
   "metadata": {},
   "outputs": [],
   "source": []
  }
 ],
 "metadata": {
  "kernelspec": {
   "display_name": "Python 3",
   "language": "python",
   "name": "python3"
  },
  "language_info": {
   "codemirror_mode": {
    "name": "ipython",
    "version": 3
   },
   "file_extension": ".py",
   "mimetype": "text/x-python",
   "name": "python",
   "nbconvert_exporter": "python",
   "pygments_lexer": "ipython3",
   "version": "3.7.6"
  }
 },
 "nbformat": 4,
 "nbformat_minor": 4
}
