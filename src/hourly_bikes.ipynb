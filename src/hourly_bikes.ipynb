{
 "cells": [
  {
   "cell_type": "code",
   "execution_count": 5,
   "metadata": {
    "collapsed": true
   },
   "outputs": [],
   "source": [
    "import pandas as pd"
   ]
  },
  {
   "cell_type": "code",
   "execution_count": 6,
   "outputs": [],
   "source": [
    "brm = pd.read_csv(\"../resources/bremen.csv\")\n",
    "brm_weather = pd.read_csv(\"../generated/brm_hourly_weather.csv\")\n",
    "\n",
    "\n",
    "frb = pd.read_csv(\"../resources/freiburg.csv\")\n",
    "frb_weather = pd.read_csv(\"../generated/frb_hourly_weather.csv\")\n"
   ],
   "metadata": {
    "collapsed": false,
    "pycharm": {
     "name": "#%%\n"
    }
   }
  },
  {
   "cell_type": "code",
   "execution_count": 7,
   "outputs": [],
   "source": [
    "def count_unique_per_hour(frame):\n",
    "    frame[\"datetime\"] = pd.to_datetime(frame[\"time\"], format=\"%H:%M:%S\")\n",
    "    frame[\"hour\"] = frame[\"datetime\"].map(lambda x: x.hour)\n",
    "    frame = frame.groupby([\"day\", \"hour\"]).agg({\"b_number\":\"nunique\"}).reset_index()\n",
    "    frame = frame.rename(columns={\"b_number\":\"amount_bikes\"})\n",
    "    return frame\n",
    "\n",
    "def left_merge(first, second):\n",
    "    first[\"day\"] = pd.to_datetime(first[\"day\"])\n",
    "    second[\"day\"] = pd.to_datetime(second[\"day\"])\n",
    "    return first.merge(how=\"left\", left_on=[\"day\", \"hour\"], right_on=[\"day\",\"hour\"], right=second)"
   ],
   "metadata": {
    "collapsed": false,
    "pycharm": {
     "name": "#%%\n"
    }
   }
  },
  {
   "cell_type": "code",
   "execution_count": 8,
   "outputs": [],
   "source": [
    "brm_hourly_bikes = count_unique_per_hour(brm)\n",
    "brm_with_weather = left_merge(brm_hourly_bikes, brm_weather)\n",
    "\n",
    "brm_with_weather.to_csv(\"../generated/brm_bikes_hourly.csv\")"
   ],
   "metadata": {
    "collapsed": false,
    "pycharm": {
     "name": "#%%\n"
    }
   }
  },
  {
   "cell_type": "code",
   "execution_count": 9,
   "outputs": [],
   "source": [
    "frb_hourly_bikes = count_unique_per_hour(frb)\n",
    "frb_with_weather = left_merge(frb_hourly_bikes, frb_weather)\n",
    "\n",
    "frb_with_weather.to_csv(\"../generated/frb_bikes_hourly.csv\")\n"
   ],
   "metadata": {
    "collapsed": false,
    "pycharm": {
     "name": "#%%\n"
    }
   }
  }
 ],
 "metadata": {
  "kernelspec": {
   "name": "python37664bitbaseconda644fbd5b017e47549473535c61dcc2b3",
   "language": "python",
   "display_name": "Python 3.7.6 64-bit ('base': conda)"
  },
  "language_info": {
   "codemirror_mode": {
    "name": "ipython",
    "version": 2
   },
   "file_extension": ".py",
   "mimetype": "text/x-python",
   "name": "python",
   "nbconvert_exporter": "python",
   "pygments_lexer": "ipython2",
   "version": "2.7.6"
  }
 },
 "nbformat": 4,
 "nbformat_minor": 0
}