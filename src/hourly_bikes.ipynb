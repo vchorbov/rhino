{
 "cells": [
  {
   "cell_type": "code",
   "execution_count": 33,
   "metadata": {
    "collapsed": true
   },
   "outputs": [],
   "source": [
    "import pandas as pd"
   ]
  },
  {
   "cell_type": "code",
   "execution_count": 34,
   "metadata": {
    "pycharm": {
     "name": "#%%\n"
    }
   },
   "outputs": [],
   "source": [
    "brm = pd.read_csv(\"../generated/brm_cleaned.csv\")\n",
    "brm_weather = pd.read_csv(\"../generated/brm_hourly_weather.csv\")\n",
    "\n",
    "frb = pd.read_csv(\"../generated/frb_cleaned.csv\")\n",
    "frb_weather = pd.read_csv(\"../generated/frb_hourly_weather.csv\")\n",
    "\n",
    "brm_hourly_driven = pd.read_csv(\"../generated/brm_hourly_driven.csv\")\n",
    "frb_hourly_driven = pd.read_csv(\"../generated/frb_hourly_driven.csv\")\n"
   ]
  },
  {
   "cell_type": "code",
   "execution_count": 48,
   "metadata": {
    "pycharm": {
     "name": "#%%\n"
    }
   },
   "outputs": [],
   "source": [
    "def count_unique_per_hour(frame):\n",
    "    frame[\"datetime\"] = pd.to_datetime(frame[\"time\"], format=\"%H:%M:%S\")\n",
    "    frame[\"hour\"] = frame[\"datetime\"].map(lambda x: x.hour)\n",
    "    frame = frame.groupby([\"day\", \"hour\"]).agg({\"b_number\":\"nunique\"}).reset_index()\n",
    "    frame = frame.rename(columns={\"b_number\":\"amount_bikes\"})\n",
    "    return frame\n",
    "\n",
    "def left_merge(first, second):\n",
    "    first[\"day\"] = pd.to_datetime(first[\"day\"])\n",
    "    second[\"day\"] = pd.to_datetime(second[\"day\"])\n",
    "    return first.merge(how=\"left\", left_on=[\"day\", \"hour\"], right_on=[\"day\",\"hour\"], right=second)\n",
    "\n",
    "\n",
    "def add_weekday(frame):\n",
    "    frame[\"day\"] = pd.to_datetime(frame[\"day\"])\n",
    "    frame[\"weekday\"] = frame[\"day\"].map(lambda x: x.weekday())\n",
    "    return frame"
   ]
  },
  {
   "cell_type": "markdown",
   "metadata": {
    "pycharm": {
     "name": "#%% md\n"
    }
   },
   "source": [
    "Merging weather data with trip duration data"
   ]
  },
  {
   "cell_type": "code",
   "execution_count": 52,
   "outputs": [
    {
     "data": {
      "text/plain": "            day  hour              trip_duration  precipitation  temperature\n0    2019-01-20     0  0 days 00:21:00.000000000            0.0         -3.8\n1    2019-01-20     1  0 days 00:34:00.000000000            0.0         -3.2\n2    2019-01-20     2  0 days 00:32:00.000000000            0.0         -3.6\n3    2019-01-20     3  0 days 00:18:00.000000000            0.0         -4.5\n4    2019-01-20     5  0 days 00:23:00.000000000            0.0         -4.9\n...         ...   ...                        ...            ...          ...\n8304 2020-01-20    19  0 days 03:49:00.000000000            0.0          4.4\n8305 2020-01-20    20  0 days 04:22:00.000000000            0.0          4.7\n8306 2020-01-20    21  0 days 01:29:00.000000000            0.0          4.7\n8307 2020-01-20    22  0 days 01:33:00.000000000            0.0          4.7\n8308 2020-01-20    23  0 days 00:23:00.000000000            0.0          4.5\n\n[8309 rows x 5 columns]",
      "text/html": "<div>\n<style scoped>\n    .dataframe tbody tr th:only-of-type {\n        vertical-align: middle;\n    }\n\n    .dataframe tbody tr th {\n        vertical-align: top;\n    }\n\n    .dataframe thead th {\n        text-align: right;\n    }\n</style>\n<table border=\"1\" class=\"dataframe\">\n  <thead>\n    <tr style=\"text-align: right;\">\n      <th></th>\n      <th>day</th>\n      <th>hour</th>\n      <th>trip_duration</th>\n      <th>precipitation</th>\n      <th>temperature</th>\n    </tr>\n  </thead>\n  <tbody>\n    <tr>\n      <th>0</th>\n      <td>2019-01-20</td>\n      <td>0</td>\n      <td>0 days 00:21:00.000000000</td>\n      <td>0.0</td>\n      <td>-3.8</td>\n    </tr>\n    <tr>\n      <th>1</th>\n      <td>2019-01-20</td>\n      <td>1</td>\n      <td>0 days 00:34:00.000000000</td>\n      <td>0.0</td>\n      <td>-3.2</td>\n    </tr>\n    <tr>\n      <th>2</th>\n      <td>2019-01-20</td>\n      <td>2</td>\n      <td>0 days 00:32:00.000000000</td>\n      <td>0.0</td>\n      <td>-3.6</td>\n    </tr>\n    <tr>\n      <th>3</th>\n      <td>2019-01-20</td>\n      <td>3</td>\n      <td>0 days 00:18:00.000000000</td>\n      <td>0.0</td>\n      <td>-4.5</td>\n    </tr>\n    <tr>\n      <th>4</th>\n      <td>2019-01-20</td>\n      <td>5</td>\n      <td>0 days 00:23:00.000000000</td>\n      <td>0.0</td>\n      <td>-4.9</td>\n    </tr>\n    <tr>\n      <th>...</th>\n      <td>...</td>\n      <td>...</td>\n      <td>...</td>\n      <td>...</td>\n      <td>...</td>\n    </tr>\n    <tr>\n      <th>8304</th>\n      <td>2020-01-20</td>\n      <td>19</td>\n      <td>0 days 03:49:00.000000000</td>\n      <td>0.0</td>\n      <td>4.4</td>\n    </tr>\n    <tr>\n      <th>8305</th>\n      <td>2020-01-20</td>\n      <td>20</td>\n      <td>0 days 04:22:00.000000000</td>\n      <td>0.0</td>\n      <td>4.7</td>\n    </tr>\n    <tr>\n      <th>8306</th>\n      <td>2020-01-20</td>\n      <td>21</td>\n      <td>0 days 01:29:00.000000000</td>\n      <td>0.0</td>\n      <td>4.7</td>\n    </tr>\n    <tr>\n      <th>8307</th>\n      <td>2020-01-20</td>\n      <td>22</td>\n      <td>0 days 01:33:00.000000000</td>\n      <td>0.0</td>\n      <td>4.7</td>\n    </tr>\n    <tr>\n      <th>8308</th>\n      <td>2020-01-20</td>\n      <td>23</td>\n      <td>0 days 00:23:00.000000000</td>\n      <td>0.0</td>\n      <td>4.5</td>\n    </tr>\n  </tbody>\n</table>\n<p>8309 rows × 5 columns</p>\n</div>"
     },
     "execution_count": 52,
     "metadata": {},
     "output_type": "execute_result"
    }
   ],
   "source": [
    "brm_with_weather = left_merge(brm_hourly_driven, brm_weather)\n",
    "frb_with_weather = left_merge(frb_hourly_driven, frb_weather)\n",
    "\n",
    "brm_with_weather"
   ],
   "metadata": {
    "collapsed": false,
    "pycharm": {
     "name": "#%%\n"
    }
   }
  },
  {
   "cell_type": "markdown",
   "source": [
    "Calculate amount of used bikes per hour and merge with weather and duration data"
   ],
   "metadata": {
    "collapsed": false,
    "pycharm": {
     "name": "#%% md\n"
    }
   }
  },
  {
   "cell_type": "code",
   "execution_count": 51,
   "outputs": [
    {
     "data": {
      "text/plain": "            day  hour              trip_duration  precipitation  temperature  \\\n0    2019-01-20     0  0 days 00:21:00.000000000            0.0         -3.8   \n1    2019-01-20     1  0 days 00:34:00.000000000            0.0         -3.2   \n2    2019-01-20     2  0 days 00:32:00.000000000            0.0         -3.6   \n3    2019-01-20     3  0 days 00:18:00.000000000            0.0         -4.5   \n4    2019-01-20     5  0 days 00:23:00.000000000            0.0         -4.9   \n...         ...   ...                        ...            ...          ...   \n8304 2020-01-20    19  0 days 03:49:00.000000000            0.0          4.4   \n8305 2020-01-20    20  0 days 04:22:00.000000000            0.0          4.7   \n8306 2020-01-20    21  0 days 01:29:00.000000000            0.0          4.7   \n8307 2020-01-20    22  0 days 01:33:00.000000000            0.0          4.7   \n8308 2020-01-20    23  0 days 00:23:00.000000000            0.0          4.5   \n\n      amount_bikes  weekday  \n0                3        6  \n1                3        6  \n2                2        6  \n3                2        6  \n4                1        6  \n...            ...      ...  \n8304            19        0  \n8305            19        0  \n8306             7        0  \n8307             9        0  \n8308             3        0  \n\n[8309 rows x 7 columns]",
      "text/html": "<div>\n<style scoped>\n    .dataframe tbody tr th:only-of-type {\n        vertical-align: middle;\n    }\n\n    .dataframe tbody tr th {\n        vertical-align: top;\n    }\n\n    .dataframe thead th {\n        text-align: right;\n    }\n</style>\n<table border=\"1\" class=\"dataframe\">\n  <thead>\n    <tr style=\"text-align: right;\">\n      <th></th>\n      <th>day</th>\n      <th>hour</th>\n      <th>trip_duration</th>\n      <th>precipitation</th>\n      <th>temperature</th>\n      <th>amount_bikes</th>\n      <th>weekday</th>\n    </tr>\n  </thead>\n  <tbody>\n    <tr>\n      <th>0</th>\n      <td>2019-01-20</td>\n      <td>0</td>\n      <td>0 days 00:21:00.000000000</td>\n      <td>0.0</td>\n      <td>-3.8</td>\n      <td>3</td>\n      <td>6</td>\n    </tr>\n    <tr>\n      <th>1</th>\n      <td>2019-01-20</td>\n      <td>1</td>\n      <td>0 days 00:34:00.000000000</td>\n      <td>0.0</td>\n      <td>-3.2</td>\n      <td>3</td>\n      <td>6</td>\n    </tr>\n    <tr>\n      <th>2</th>\n      <td>2019-01-20</td>\n      <td>2</td>\n      <td>0 days 00:32:00.000000000</td>\n      <td>0.0</td>\n      <td>-3.6</td>\n      <td>2</td>\n      <td>6</td>\n    </tr>\n    <tr>\n      <th>3</th>\n      <td>2019-01-20</td>\n      <td>3</td>\n      <td>0 days 00:18:00.000000000</td>\n      <td>0.0</td>\n      <td>-4.5</td>\n      <td>2</td>\n      <td>6</td>\n    </tr>\n    <tr>\n      <th>4</th>\n      <td>2019-01-20</td>\n      <td>5</td>\n      <td>0 days 00:23:00.000000000</td>\n      <td>0.0</td>\n      <td>-4.9</td>\n      <td>1</td>\n      <td>6</td>\n    </tr>\n    <tr>\n      <th>...</th>\n      <td>...</td>\n      <td>...</td>\n      <td>...</td>\n      <td>...</td>\n      <td>...</td>\n      <td>...</td>\n      <td>...</td>\n    </tr>\n    <tr>\n      <th>8304</th>\n      <td>2020-01-20</td>\n      <td>19</td>\n      <td>0 days 03:49:00.000000000</td>\n      <td>0.0</td>\n      <td>4.4</td>\n      <td>19</td>\n      <td>0</td>\n    </tr>\n    <tr>\n      <th>8305</th>\n      <td>2020-01-20</td>\n      <td>20</td>\n      <td>0 days 04:22:00.000000000</td>\n      <td>0.0</td>\n      <td>4.7</td>\n      <td>19</td>\n      <td>0</td>\n    </tr>\n    <tr>\n      <th>8306</th>\n      <td>2020-01-20</td>\n      <td>21</td>\n      <td>0 days 01:29:00.000000000</td>\n      <td>0.0</td>\n      <td>4.7</td>\n      <td>7</td>\n      <td>0</td>\n    </tr>\n    <tr>\n      <th>8307</th>\n      <td>2020-01-20</td>\n      <td>22</td>\n      <td>0 days 01:33:00.000000000</td>\n      <td>0.0</td>\n      <td>4.7</td>\n      <td>9</td>\n      <td>0</td>\n    </tr>\n    <tr>\n      <th>8308</th>\n      <td>2020-01-20</td>\n      <td>23</td>\n      <td>0 days 00:23:00.000000000</td>\n      <td>0.0</td>\n      <td>4.5</td>\n      <td>3</td>\n      <td>0</td>\n    </tr>\n  </tbody>\n</table>\n<p>8309 rows × 7 columns</p>\n</div>"
     },
     "execution_count": 51,
     "metadata": {},
     "output_type": "execute_result"
    }
   ],
   "source": [
    "brm_hourly_bikes = count_unique_per_hour(brm)\n",
    "frb_hourly_bikes = count_unique_per_hour(frb)\n",
    "\n",
    "frb_hourly = left_merge(frb_with_weather, frb_hourly_bikes)\n",
    "brm_hourly = left_merge(brm_with_weather, brm_hourly_bikes)\n",
    "\n",
    "frb_hourly = add_weekday(frb_hourly)\n",
    "brm_hourly = add_weekday(brm_hourly)\n",
    "\n",
    "brm_hourly.to_csv(\"../generated/brm_hourly.csv\")\n",
    "frb_hourly.to_csv(\"../generated/frb_hourly.csv\")\n",
    "\n",
    "brm_hourly"
   ],
   "metadata": {
    "collapsed": false,
    "pycharm": {
     "name": "#%%\n"
    }
   }
  }
 ],
 "metadata": {
  "kernelspec": {
   "display_name": "Python 3.7.6 64-bit ('base': conda)",
   "language": "python",
   "name": "python37664bitbaseconda644fbd5b017e47549473535c61dcc2b3"
  },
  "language_info": {
   "codemirror_mode": {
    "name": "ipython",
    "version": 3
   },
   "file_extension": ".py",
   "mimetype": "text/x-python",
   "name": "python",
   "nbconvert_exporter": "python",
   "pygments_lexer": "ipython3",
   "version": "3.7.6"
  }
 },
 "nbformat": 4,
 "nbformat_minor": 1
}