{
 "cells": [
  {
   "cell_type": "code",
   "execution_count": 30,
   "metadata": {},
   "outputs": [],
   "source": [
    "import pandas as pd\n",
    "import numpy as np\n",
    "import matplotlib.pyplot as plt\n",
    "import seaborn as sns\n",
    "sns.set()\n",
    "sns.set_style(\"whitegrid\")\n",
    "sns.set_palette(\"GnBu_d\")\n",
    "from datetime import datetime\n",
    "from datetime import timedelta\n",
    "import math\n",
    "import random \n",
    "import timeit\n",
    "from dateutil import parser"
   ]
  },
  {
   "cell_type": "code",
   "execution_count": 31,
   "metadata": {},
   "outputs": [],
   "source": [
    "brm_frame = pd.read_csv(\"../resources/bremen.csv\")"
   ]
  },
  {
   "cell_type": "code",
   "execution_count": 32,
   "metadata": {},
   "outputs": [],
   "source": [
    "frb_frame = pd.read_csv(\"../resources/freiburg.csv\")"
   ]
  },
  {
   "cell_type": "markdown",
   "metadata": {},
   "source": [
    "Calculate the revenue by dividing by 30 (minutes). For this calculation we have to adjust the time column."
   ]
  },
  {
   "cell_type": "code",
   "execution_count": 33,
   "metadata": {},
   "outputs": [],
   "source": [
    "brm_frame[\"minutes\"]=brm_frame[\"trip_duration\"].map(lambda x:int(x[10:12])+int(x[7:9])*60)\n",
    "brm_frame[\"revenue\"]=(brm_frame[\"minutes\"]/30).apply(np.ceil)\n",
    "frb_frame[\"minutes\"]=frb_frame[\"trip_duration\"].map(lambda x:int(x[10:12])+int(x[7:9])*60)\n",
    "frb_frame[\"revenue\"]=(frb_frame[\"minutes\"]/30).apply(np.ceil)"
   ]
  },
  {
   "cell_type": "markdown",
   "metadata": {},
   "source": [
    "Show the new table with the calculated revenue."
   ]
  },
  {
   "cell_type": "code",
   "execution_count": 34,
   "metadata": {
    "scrolled": true
   },
   "outputs": [
    {
     "data": {
      "text/html": [
       "<div>\n",
       "<style scoped>\n",
       "    .dataframe tbody tr th:only-of-type {\n",
       "        vertical-align: middle;\n",
       "    }\n",
       "\n",
       "    .dataframe tbody tr th {\n",
       "        vertical-align: top;\n",
       "    }\n",
       "\n",
       "    .dataframe thead th {\n",
       "        text-align: right;\n",
       "    }\n",
       "</style>\n",
       "<table border=\"1\" class=\"dataframe\">\n",
       "  <thead>\n",
       "    <tr style=\"text-align: right;\">\n",
       "      <th></th>\n",
       "      <th>day</th>\n",
       "      <th>time</th>\n",
       "      <th>b_number</th>\n",
       "      <th>city</th>\n",
       "      <th>trip_duration</th>\n",
       "      <th>orig_lat</th>\n",
       "      <th>orig_lng</th>\n",
       "      <th>dest_lat</th>\n",
       "      <th>dest_lng</th>\n",
       "      <th>minutes</th>\n",
       "      <th>revenue</th>\n",
       "    </tr>\n",
       "  </thead>\n",
       "  <tbody>\n",
       "    <tr>\n",
       "      <th>0</th>\n",
       "      <td>2019-05-06</td>\n",
       "      <td>14:22:00</td>\n",
       "      <td>32560</td>\n",
       "      <td>freiburg</td>\n",
       "      <td>0 days 00:07:00.000000000</td>\n",
       "      <td>47.993178</td>\n",
       "      <td>7.795708</td>\n",
       "      <td>47.994027</td>\n",
       "      <td>7.796084</td>\n",
       "      <td>7</td>\n",
       "      <td>1.0</td>\n",
       "    </tr>\n",
       "    <tr>\n",
       "      <th>1</th>\n",
       "      <td>2019-05-07</td>\n",
       "      <td>10:42:00</td>\n",
       "      <td>32560</td>\n",
       "      <td>freiburg</td>\n",
       "      <td>0 days 00:07:00.000000000</td>\n",
       "      <td>47.994191</td>\n",
       "      <td>7.796853</td>\n",
       "      <td>47.991960</td>\n",
       "      <td>7.797405</td>\n",
       "      <td>7</td>\n",
       "      <td>1.0</td>\n",
       "    </tr>\n",
       "    <tr>\n",
       "      <th>2</th>\n",
       "      <td>2019-05-07</td>\n",
       "      <td>11:02:00</td>\n",
       "      <td>32560</td>\n",
       "      <td>freiburg</td>\n",
       "      <td>0 days 00:09:00.000000000</td>\n",
       "      <td>47.992044</td>\n",
       "      <td>7.797352</td>\n",
       "      <td>47.992000</td>\n",
       "      <td>7.797478</td>\n",
       "      <td>9</td>\n",
       "      <td>1.0</td>\n",
       "    </tr>\n",
       "    <tr>\n",
       "      <th>3</th>\n",
       "      <td>2019-05-07</td>\n",
       "      <td>12:48:00</td>\n",
       "      <td>32560</td>\n",
       "      <td>freiburg</td>\n",
       "      <td>0 days 00:23:00.000000000</td>\n",
       "      <td>47.992107</td>\n",
       "      <td>7.797499</td>\n",
       "      <td>47.994271</td>\n",
       "      <td>7.796668</td>\n",
       "      <td>23</td>\n",
       "      <td>1.0</td>\n",
       "    </tr>\n",
       "    <tr>\n",
       "      <th>4</th>\n",
       "      <td>2019-05-08</td>\n",
       "      <td>09:00:00</td>\n",
       "      <td>32560</td>\n",
       "      <td>freiburg</td>\n",
       "      <td>0 days 00:03:00.000000000</td>\n",
       "      <td>47.994178</td>\n",
       "      <td>7.796721</td>\n",
       "      <td>47.992307</td>\n",
       "      <td>7.796708</td>\n",
       "      <td>3</td>\n",
       "      <td>1.0</td>\n",
       "    </tr>\n",
       "    <tr>\n",
       "      <th>...</th>\n",
       "      <td>...</td>\n",
       "      <td>...</td>\n",
       "      <td>...</td>\n",
       "      <td>...</td>\n",
       "      <td>...</td>\n",
       "      <td>...</td>\n",
       "      <td>...</td>\n",
       "      <td>...</td>\n",
       "      <td>...</td>\n",
       "      <td>...</td>\n",
       "      <td>...</td>\n",
       "    </tr>\n",
       "    <tr>\n",
       "      <th>127524</th>\n",
       "      <td>2020-01-20</td>\n",
       "      <td>08:14:00</td>\n",
       "      <td>32999</td>\n",
       "      <td>freiburg</td>\n",
       "      <td>0 days 00:12:00.000000000</td>\n",
       "      <td>48.012050</td>\n",
       "      <td>7.854987</td>\n",
       "      <td>47.994729</td>\n",
       "      <td>7.846862</td>\n",
       "      <td>12</td>\n",
       "      <td>1.0</td>\n",
       "    </tr>\n",
       "    <tr>\n",
       "      <th>127525</th>\n",
       "      <td>2020-01-20</td>\n",
       "      <td>09:10:00</td>\n",
       "      <td>32999</td>\n",
       "      <td>freiburg</td>\n",
       "      <td>0 days 00:04:00.000000000</td>\n",
       "      <td>47.996100</td>\n",
       "      <td>7.846160</td>\n",
       "      <td>48.000858</td>\n",
       "      <td>7.849587</td>\n",
       "      <td>4</td>\n",
       "      <td>1.0</td>\n",
       "    </tr>\n",
       "    <tr>\n",
       "      <th>127526</th>\n",
       "      <td>2020-01-20</td>\n",
       "      <td>10:03:00</td>\n",
       "      <td>32999</td>\n",
       "      <td>freiburg</td>\n",
       "      <td>0 days 00:24:00.000000000</td>\n",
       "      <td>48.000858</td>\n",
       "      <td>7.849587</td>\n",
       "      <td>48.002664</td>\n",
       "      <td>7.851253</td>\n",
       "      <td>24</td>\n",
       "      <td>1.0</td>\n",
       "    </tr>\n",
       "    <tr>\n",
       "      <th>127527</th>\n",
       "      <td>2020-01-20</td>\n",
       "      <td>13:55:00</td>\n",
       "      <td>32999</td>\n",
       "      <td>freiburg</td>\n",
       "      <td>0 days 00:07:00.000000000</td>\n",
       "      <td>48.002664</td>\n",
       "      <td>7.851253</td>\n",
       "      <td>47.997430</td>\n",
       "      <td>7.842500</td>\n",
       "      <td>7</td>\n",
       "      <td>1.0</td>\n",
       "    </tr>\n",
       "    <tr>\n",
       "      <th>127528</th>\n",
       "      <td>2020-01-20</td>\n",
       "      <td>14:16:00</td>\n",
       "      <td>32999</td>\n",
       "      <td>freiburg</td>\n",
       "      <td>0 days 00:18:00.000000000</td>\n",
       "      <td>47.997430</td>\n",
       "      <td>7.842500</td>\n",
       "      <td>48.013770</td>\n",
       "      <td>7.807080</td>\n",
       "      <td>18</td>\n",
       "      <td>1.0</td>\n",
       "    </tr>\n",
       "  </tbody>\n",
       "</table>\n",
       "<p>127529 rows × 11 columns</p>\n",
       "</div>"
      ],
      "text/plain": [
       "               day      time  b_number      city              trip_duration  \\\n",
       "0       2019-05-06  14:22:00     32560  freiburg  0 days 00:07:00.000000000   \n",
       "1       2019-05-07  10:42:00     32560  freiburg  0 days 00:07:00.000000000   \n",
       "2       2019-05-07  11:02:00     32560  freiburg  0 days 00:09:00.000000000   \n",
       "3       2019-05-07  12:48:00     32560  freiburg  0 days 00:23:00.000000000   \n",
       "4       2019-05-08  09:00:00     32560  freiburg  0 days 00:03:00.000000000   \n",
       "...            ...       ...       ...       ...                        ...   \n",
       "127524  2020-01-20  08:14:00     32999  freiburg  0 days 00:12:00.000000000   \n",
       "127525  2020-01-20  09:10:00     32999  freiburg  0 days 00:04:00.000000000   \n",
       "127526  2020-01-20  10:03:00     32999  freiburg  0 days 00:24:00.000000000   \n",
       "127527  2020-01-20  13:55:00     32999  freiburg  0 days 00:07:00.000000000   \n",
       "127528  2020-01-20  14:16:00     32999  freiburg  0 days 00:18:00.000000000   \n",
       "\n",
       "         orig_lat  orig_lng   dest_lat  dest_lng  minutes  revenue  \n",
       "0       47.993178  7.795708  47.994027  7.796084        7      1.0  \n",
       "1       47.994191  7.796853  47.991960  7.797405        7      1.0  \n",
       "2       47.992044  7.797352  47.992000  7.797478        9      1.0  \n",
       "3       47.992107  7.797499  47.994271  7.796668       23      1.0  \n",
       "4       47.994178  7.796721  47.992307  7.796708        3      1.0  \n",
       "...           ...       ...        ...       ...      ...      ...  \n",
       "127524  48.012050  7.854987  47.994729  7.846862       12      1.0  \n",
       "127525  47.996100  7.846160  48.000858  7.849587        4      1.0  \n",
       "127526  48.000858  7.849587  48.002664  7.851253       24      1.0  \n",
       "127527  48.002664  7.851253  47.997430  7.842500        7      1.0  \n",
       "127528  47.997430  7.842500  48.013770  7.807080       18      1.0  \n",
       "\n",
       "[127529 rows x 11 columns]"
      ]
     },
     "execution_count": 34,
     "metadata": {},
     "output_type": "execute_result"
    }
   ],
   "source": [
    "brm_frame\n",
    "frb_frame"
   ]
  },
  {
   "cell_type": "markdown",
   "metadata": {},
   "source": [
    "Groups by day and sums up the revenue per day."
   ]
  },
  {
   "cell_type": "code",
   "execution_count": 35,
   "metadata": {},
   "outputs": [],
   "source": [
    "brm_frame_revenue_daily=brm_frame.groupby([\"day\"]).agg({\"revenue\":\"sum\"})\n",
    "frb_frame_revenue_daily=frb_frame.groupby([\"day\"]).agg({\"revenue\":\"sum\"})"
   ]
  },
  {
   "cell_type": "markdown",
   "metadata": {},
   "source": [
    "Groups by hour and sums up the revenue per hour. Before that the format of time must be changed in order to show only the curretn hour."
   ]
  },
  {
   "cell_type": "code",
   "execution_count": 36,
   "metadata": {},
   "outputs": [],
   "source": [
    "brm_frame[\"hour\"] = brm_frame[\"time\"].str[:-6]\n",
    "frb_frame[\"hour\"] = frb_frame[\"time\"].str[:-6]\n",
    "brm_frame_revenue_hourly=brm_frame.groupby([\"day\",\"hour\"]).agg({\"revenue\":\"sum\"})\n",
    "frb_frame_revenue_hourly=frb_frame.groupby([\"day\",\"hour\"]).agg({\"revenue\":\"sum\"})"
   ]
  },
  {
   "cell_type": "markdown",
   "metadata": {},
   "source": [
    "Shows the revenue per day."
   ]
  },
  {
   "cell_type": "code",
   "execution_count": 37,
   "metadata": {},
   "outputs": [
    {
     "name": "stdout",
     "output_type": "stream",
     "text": [
      "            revenue\n",
      "day                \n",
      "2019-01-20    132.0\n",
      "2019-01-21    184.0\n",
      "2019-01-22    189.0\n",
      "2019-01-23    169.0\n",
      "2019-01-24    182.0\n",
      "...             ...\n",
      "2020-01-16    461.0\n",
      "2020-01-17    547.0\n",
      "2020-01-18    394.0\n",
      "2020-01-19    381.0\n",
      "2020-01-20    436.0\n",
      "\n",
      "[363 rows x 1 columns]\n",
      "            revenue\n",
      "day                \n",
      "2019-05-06      1.0\n",
      "2019-05-07      3.0\n",
      "2019-05-08      5.0\n",
      "2019-05-09      3.0\n",
      "2019-05-10      2.0\n",
      "...             ...\n",
      "2020-01-16   1044.0\n",
      "2020-01-17    754.0\n",
      "2020-01-18    584.0\n",
      "2020-01-19    397.0\n",
      "2020-01-20    877.0\n",
      "\n",
      "[257 rows x 1 columns]\n"
     ]
    }
   ],
   "source": [
    "print (brm_frame_revenue_daily)\n",
    "print (frb_frame_revenue_daily)"
   ]
  },
  {
   "cell_type": "markdown",
   "metadata": {},
   "source": [
    "Shows the revenue per hour."
   ]
  },
  {
   "cell_type": "code",
   "execution_count": 38,
   "metadata": {
    "scrolled": true
   },
   "outputs": [
    {
     "name": "stdout",
     "output_type": "stream",
     "text": [
      "                 revenue\n",
      "day        hour         \n",
      "2019-01-20 00        3.0\n",
      "           01        3.0\n",
      "           02        5.0\n",
      "           03        2.0\n",
      "           05        3.0\n",
      "...                  ...\n",
      "2020-01-20 19       32.0\n",
      "           20       24.0\n",
      "           21        9.0\n",
      "           22       15.0\n",
      "           23        3.0\n",
      "\n",
      "[8409 rows x 1 columns]\n",
      "                 revenue\n",
      "day        hour         \n",
      "2019-05-06 14        1.0\n",
      "2019-05-07 10        1.0\n",
      "           11        1.0\n",
      "           12        1.0\n",
      "2019-05-08 09        1.0\n",
      "...                  ...\n",
      "2020-01-20 19       45.0\n",
      "           20       18.0\n",
      "           21       17.0\n",
      "           22       26.0\n",
      "           23        8.0\n",
      "\n",
      "[5819 rows x 1 columns]\n"
     ]
    }
   ],
   "source": [
    "print (brm_frame_revenue_hourly)\n",
    "print (frb_frame_revenue_hourly)"
   ]
  },
  {
   "cell_type": "markdown",
   "metadata": {},
   "source": [
    "Splitting the data set into seasons."
   ]
  },
  {
   "cell_type": "code",
   "execution_count": 73,
   "metadata": {},
   "outputs": [],
   "source": [
    "frb_frame_spring =  frb_frame[(frb_frame['day'] >= \"2019-03-01\") & (frb_frame['day'] <= \"2019-05-31\")]\n",
    "frb_frame_summer =  frb_frame[(frb_frame['day'] >= \"2019-06-01\") & (frb_frame['day'] <= \"2019-09-31\")] \n",
    "frb_frame_fall   =  frb_frame[(frb_frame['day'] >= \"2019-09-01\") & (frb_frame['day'] <= \"2019-11-30\")]\n",
    "frb_frame_winter =  frb_frame[(frb_frame['day'] >= \"2019-12-01\") & (frb_frame['day'] <= \"2020-01-20\")]\n",
    "\n",
    "brm_frame_spring =  brm_frame[(brm_frame['day'] >= \"2019-03-01\") & (brm_frame['day'] <= \"2019-05-31\")]\n",
    "brm_frame_summer =  brm_frame[(brm_frame['day'] >= \"2019-06-01\") & (brm_frame['day'] <= \"2019-09-31\")] \n",
    "brm_frame_fall   =  brm_frame[(brm_frame['day'] >= \"2019-09-01\") & (brm_frame['day'] <= \"2019-11-30\")]\n",
    "brm_frame_winter =  brm_frame[(brm_frame['day'] >= \"2019-12-01\") & (brm_frame['day'] <= \"2020-01-20\")]"
   ]
  },
  {
   "cell_type": "markdown",
   "metadata": {},
   "source": [
    "Group our hourly revenue into seasons."
   ]
  },
  {
   "cell_type": "code",
   "execution_count": 67,
   "metadata": {},
   "outputs": [],
   "source": [
    "brm_frame_revenue_hourly_spring=brm_frame_spring.groupby([\"day\",\"hour\"]).agg({\"revenue\":\"sum\"})\n",
    "brm_frame_revenue_hourly_summer=brm_frame_summer.groupby([\"day\",\"hour\"]).agg({\"revenue\":\"sum\"})\n",
    "brm_frame_revenue_hourly_fall=brm_frame_fall.groupby([\"day\",\"hour\"]).agg({\"revenue\":\"sum\"})\n",
    "brm_frame_revenue_hourly_winter=brm_frame_winter.groupby([\"day\",\"hour\"]).agg({\"revenue\":\"sum\"})\n",
    "\n",
    "frb_frame_revenue_hourly_spring=frb_frame_spring.groupby([\"day\",\"hour\"]).agg({\"revenue\":\"sum\"})\n",
    "frb_frame_revenue_hourly_summer=frb_frame_summer.groupby([\"day\",\"hour\"]).agg({\"revenue\":\"sum\"})\n",
    "frb_frame_revenue_hourly_fall=frb_frame_fall.groupby([\"day\",\"hour\"]).agg({\"revenue\":\"sum\"})\n",
    "frb_frame_revenue_hourly_winter=frb_frame_winter.groupby([\"day\",\"hour\"]).agg({\"revenue\":\"sum\"})"
   ]
  },
  {
   "cell_type": "code",
   "execution_count": 82,
   "metadata": {},
   "outputs": [
    {
     "data": {
      "image/png": "[encoded data removed]",
      "text/plain": [
       "<Figure size 432x288 with 1 Axes>"
      ]
     },
     "metadata": {},
     "output_type": "display_data"
    }
   ],
   "source": [
    "plt.plot(brm_frame_revenue_daily)\n",
    "plt.xlabel('day')\n",
    "plt.ylabel('revenue')\n",
    "plt.title(\"daily revenue bremen\")\n",
    "\n",
    "plt.show()"
   ]
  },
  {
   "cell_type": "code",
   "execution_count": 110,
   "metadata": {
    "scrolled": false
   },
   "outputs": [
    {
     "ename": "TypeError",
     "evalue": "'Figure' object is not callable",
     "output_type": "error",
     "traceback": [
      "\u001b[1;31m---------------------------------------------------------------------------\u001b[0m",
      "\u001b[1;31mTypeError\u001b[0m                                 Traceback (most recent call last)",
      "\u001b[1;32m<ipython-input-110-d6b0881eefae>\u001b[0m in \u001b[0;36m<module>\u001b[1;34m\u001b[0m\n\u001b[1;32m----> 1\u001b[1;33m \u001b[0mplt\u001b[0m\u001b[1;33m.\u001b[0m\u001b[0mplot\u001b[0m\u001b[1;33m(\u001b[0m\u001b[0mfrb_frame_revenue_hourly_spring\u001b[0m\u001b[1;33m)\u001b[0m\u001b[1;33m\u001b[0m\u001b[1;33m\u001b[0m\u001b[0m\n\u001b[0m\u001b[0;32m      2\u001b[0m \u001b[0mplt\u001b[0m\u001b[1;33m.\u001b[0m\u001b[0mxlabel\u001b[0m\u001b[1;33m(\u001b[0m\u001b[1;34m'day'\u001b[0m\u001b[1;33m)\u001b[0m\u001b[1;33m\u001b[0m\u001b[1;33m\u001b[0m\u001b[0m\n\u001b[0;32m      3\u001b[0m \u001b[0mplt\u001b[0m\u001b[1;33m.\u001b[0m\u001b[0mylabel\u001b[0m\u001b[1;33m(\u001b[0m\u001b[1;34m'revenue'\u001b[0m\u001b[1;33m)\u001b[0m\u001b[1;33m\u001b[0m\u001b[1;33m\u001b[0m\u001b[0m\n\u001b[0;32m      4\u001b[0m \u001b[0mplt\u001b[0m\u001b[1;33m.\u001b[0m\u001b[0mtitle\u001b[0m\u001b[1;33m(\u001b[0m\u001b[1;34m\"daily revenue freiburg\"\u001b[0m\u001b[1;33m)\u001b[0m\u001b[1;33m\u001b[0m\u001b[1;33m\u001b[0m\u001b[0m\n\u001b[0;32m      5\u001b[0m \u001b[1;33m\u001b[0m\u001b[0m\n",
      "\u001b[1;31mTypeError\u001b[0m: 'Figure' object is not callable"
     ]
    }
   ],
   "source": [
    "plt.plot(frb_frame_revenue_hourly_spring)\n",
    "plt.xlabel('day')\n",
    "plt.ylabel('revenue')\n",
    "plt.title(\"daily revenue freiburg\")\n",
    "\n",
    "plt.show()"
   ]
  },
  {
   "cell_type": "code",
   "execution_count": 88,
   "metadata": {},
   "outputs": [
    {
     "data": {
      "text/plain": [
       "revenue    1260.0\n",
       "dtype: float64"
      ]
     },
     "execution_count": 88,
     "metadata": {},
     "output_type": "execute_result"
    }
   ],
   "source": [
    "brm_frame_revenue_daily.max()"
   ]
  },
  {
   "cell_type": "code",
   "execution_count": 86,
   "metadata": {},
   "outputs": [
    {
     "data": {
      "text/plain": [
       "revenue    82.0\n",
       "dtype: float64"
      ]
     },
     "execution_count": 86,
     "metadata": {},
     "output_type": "execute_result"
    }
   ],
   "source": [
    "brm_frame_revenue_daily.min()"
   ]
  },
  {
   "cell_type": "code",
   "execution_count": 87,
   "metadata": {},
   "outputs": [
    {
     "data": {
      "text/plain": [
       "revenue    517.184573\n",
       "dtype: float64"
      ]
     },
     "execution_count": 87,
     "metadata": {},
     "output_type": "execute_result"
    }
   ],
   "source": [
    "brm_frame_revenue_daily.mean()"
   ]
  },
  {
   "cell_type": "code",
   "execution_count": 89,
   "metadata": {},
   "outputs": [
    {
     "data": {
      "text/plain": [
       "revenue    1272.0\n",
       "dtype: float64"
      ]
     },
     "execution_count": 89,
     "metadata": {},
     "output_type": "execute_result"
    }
   ],
   "source": [
    "frb_frame_revenue_daily.max()"
   ]
  },
  {
   "cell_type": "code",
   "execution_count": 90,
   "metadata": {},
   "outputs": [
    {
     "data": {
      "text/plain": [
       "revenue    1.0\n",
       "dtype: float64"
      ]
     },
     "execution_count": 90,
     "metadata": {},
     "output_type": "execute_result"
    }
   ],
   "source": [
    "frb_frame_revenue_daily.min()"
   ]
  },
  {
   "cell_type": "markdown",
   "metadata": {},
   "source": [
    "The average revenue of Freiburg is way higher than in Bremen."
   ]
  },
  {
   "cell_type": "code",
   "execution_count": 92,
   "metadata": {
    "scrolled": true
   },
   "outputs": [
    {
     "data": {
      "text/plain": [
       "revenue    620.972763\n",
       "dtype: float64"
      ]
     },
     "execution_count": 92,
     "metadata": {},
     "output_type": "execute_result"
    }
   ],
   "source": [
    "frb_frame_revenue_daily.mean()"
   ]
  },
  {
   "cell_type": "markdown",
   "metadata": {},
   "source": [
    "A explanation for this result might be that in Freiburg there is a higher percentage of students. In Freiburg there are approx. 10,44 % students. In comparison in Bremen there are only 3,33% students. We guess that younger people especially students use bikes more often than older people. "
   ]
  }
 ],
 "metadata": {
  "kernelspec": {
   "display_name": "Python 3",
   "language": "python",
   "name": "python3"
  },
  "language_info": {
   "codemirror_mode": {
    "name": "ipython",
    "version": 3
   },
   "file_extension": ".py",
   "mimetype": "text/x-python",
   "name": "python",
   "nbconvert_exporter": "python",
   "pygments_lexer": "ipython3",
   "version": "3.7.6"
  }
 },
 "nbformat": 4,
 "nbformat_minor": 4
}
