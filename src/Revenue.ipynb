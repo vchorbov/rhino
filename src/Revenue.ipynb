{
 "cells": [
  {
   "cell_type": "code",
   "execution_count": 1,
   "metadata": {},
   "outputs": [],
   "source": [
    "import pandas as pd\n",
    "import numpy as np\n",
    "import matplotlib.pyplot as plt\n",
    "import seaborn as sns\n",
    "sns.set()\n",
    "sns.set_style(\"whitegrid\")\n",
    "sns.set_palette(\"GnBu_d\")\n",
    "from datetime import datetime\n",
    "from datetime import timedelta\n",
    "import math\n",
    "import random \n",
    "import timeit\n",
    "from dateutil import parser"
   ]
  },
  {
   "cell_type": "code",
   "execution_count": 2,
   "metadata": {},
   "outputs": [
    {
     "name": "stdout",
     "output_type": "stream",
     "text": [
      "<class 'pandas.core.frame.DataFrame'>\n",
      "RangeIndex: 157576 entries, 0 to 157575\n",
      "Data columns (total 9 columns):\n",
      " #   Column         Non-Null Count   Dtype  \n",
      "---  ------         --------------   -----  \n",
      " 0   day            157576 non-null  object \n",
      " 1   time           157576 non-null  object \n",
      " 2   b_number       157576 non-null  int64  \n",
      " 3   city           157576 non-null  object \n",
      " 4   trip_duration  157576 non-null  object \n",
      " 5   orig_lat       157576 non-null  float64\n",
      " 6   orig_lng       157576 non-null  float64\n",
      " 7   dest_lat       157576 non-null  float64\n",
      " 8   dest_lng       157576 non-null  float64\n",
      "dtypes: float64(4), int64(1), object(4)\n",
      "memory usage: 10.8+ MB\n"
     ]
    }
   ],
   "source": [
    "brm_frame = pd.read_csv(\"../resources/bremen.csv\")\n",
    "brm_frame.info()"
   ]
  },
  {
   "cell_type": "code",
   "execution_count": 3,
   "metadata": {},
   "outputs": [],
   "source": [
    "frb_frame = pd.read_csv(\"../resources/freiburg.csv\")"
   ]
  },
  {
   "cell_type": "code",
   "execution_count": 4,
   "metadata": {},
   "outputs": [],
   "source": [
    "brm_frame[\"minutes\"]=brm_frame[\"trip_duration\"].map(lambda x:int(x[10:12])+int(x[7:9])*60)\n",
    "brm_frame[\"revenue\"]=(brm_frame[\"minutes\"]/30).apply(np.ceil)\n",
    "frb_frame[\"minutes\"]=frb_frame[\"trip_duration\"].map(lambda x:int(x[10:12])+int(x[7:9])*60)\n",
    "frb_frame[\"revenue\"]=(frb_frame[\"minutes\"]/30).apply(np.ceil)"
   ]
  },
  {
   "cell_type": "code",
   "execution_count": 5,
   "metadata": {
    "scrolled": false
   },
   "outputs": [
    {
     "data": {
      "text/plain": "               day      time  b_number      city              trip_duration  \\\n0       2019-05-06  14:22:00     32560  freiburg  0 days 00:07:00.000000000   \n1       2019-05-07  10:42:00     32560  freiburg  0 days 00:07:00.000000000   \n2       2019-05-07  11:02:00     32560  freiburg  0 days 00:09:00.000000000   \n3       2019-05-07  12:48:00     32560  freiburg  0 days 00:23:00.000000000   \n4       2019-05-08  09:00:00     32560  freiburg  0 days 00:03:00.000000000   \n...            ...       ...       ...       ...                        ...   \n127524  2020-01-20  08:14:00     32999  freiburg  0 days 00:12:00.000000000   \n127525  2020-01-20  09:10:00     32999  freiburg  0 days 00:04:00.000000000   \n127526  2020-01-20  10:03:00     32999  freiburg  0 days 00:24:00.000000000   \n127527  2020-01-20  13:55:00     32999  freiburg  0 days 00:07:00.000000000   \n127528  2020-01-20  14:16:00     32999  freiburg  0 days 00:18:00.000000000   \n\n         orig_lat  orig_lng   dest_lat  dest_lng  minutes  revenue  \n0       47.993178  7.795708  47.994027  7.796084        7      1.0  \n1       47.994191  7.796853  47.991960  7.797405        7      1.0  \n2       47.992044  7.797352  47.992000  7.797478        9      1.0  \n3       47.992107  7.797499  47.994271  7.796668       23      1.0  \n4       47.994178  7.796721  47.992307  7.796708        3      1.0  \n...           ...       ...        ...       ...      ...      ...  \n127524  48.012050  7.854987  47.994729  7.846862       12      1.0  \n127525  47.996100  7.846160  48.000858  7.849587        4      1.0  \n127526  48.000858  7.849587  48.002664  7.851253       24      1.0  \n127527  48.002664  7.851253  47.997430  7.842500        7      1.0  \n127528  47.997430  7.842500  48.013770  7.807080       18      1.0  \n\n[127529 rows x 11 columns]",
      "text/html": "<div>\n<style scoped>\n    .dataframe tbody tr th:only-of-type {\n        vertical-align: middle;\n    }\n\n    .dataframe tbody tr th {\n        vertical-align: top;\n    }\n\n    .dataframe thead th {\n        text-align: right;\n    }\n</style>\n<table border=\"1\" class=\"dataframe\">\n  <thead>\n    <tr style=\"text-align: right;\">\n      <th></th>\n      <th>day</th>\n      <th>time</th>\n      <th>b_number</th>\n      <th>city</th>\n      <th>trip_duration</th>\n      <th>orig_lat</th>\n      <th>orig_lng</th>\n      <th>dest_lat</th>\n      <th>dest_lng</th>\n      <th>minutes</th>\n      <th>revenue</th>\n    </tr>\n  </thead>\n  <tbody>\n    <tr>\n      <th>0</th>\n      <td>2019-05-06</td>\n      <td>14:22:00</td>\n      <td>32560</td>\n      <td>freiburg</td>\n      <td>0 days 00:07:00.000000000</td>\n      <td>47.993178</td>\n      <td>7.795708</td>\n      <td>47.994027</td>\n      <td>7.796084</td>\n      <td>7</td>\n      <td>1.0</td>\n    </tr>\n    <tr>\n      <th>1</th>\n      <td>2019-05-07</td>\n      <td>10:42:00</td>\n      <td>32560</td>\n      <td>freiburg</td>\n      <td>0 days 00:07:00.000000000</td>\n      <td>47.994191</td>\n      <td>7.796853</td>\n      <td>47.991960</td>\n      <td>7.797405</td>\n      <td>7</td>\n      <td>1.0</td>\n    </tr>\n    <tr>\n      <th>2</th>\n      <td>2019-05-07</td>\n      <td>11:02:00</td>\n      <td>32560</td>\n      <td>freiburg</td>\n      <td>0 days 00:09:00.000000000</td>\n      <td>47.992044</td>\n      <td>7.797352</td>\n      <td>47.992000</td>\n      <td>7.797478</td>\n      <td>9</td>\n      <td>1.0</td>\n    </tr>\n    <tr>\n      <th>3</th>\n      <td>2019-05-07</td>\n      <td>12:48:00</td>\n      <td>32560</td>\n      <td>freiburg</td>\n      <td>0 days 00:23:00.000000000</td>\n      <td>47.992107</td>\n      <td>7.797499</td>\n      <td>47.994271</td>\n      <td>7.796668</td>\n      <td>23</td>\n      <td>1.0</td>\n    </tr>\n    <tr>\n      <th>4</th>\n      <td>2019-05-08</td>\n      <td>09:00:00</td>\n      <td>32560</td>\n      <td>freiburg</td>\n      <td>0 days 00:03:00.000000000</td>\n      <td>47.994178</td>\n      <td>7.796721</td>\n      <td>47.992307</td>\n      <td>7.796708</td>\n      <td>3</td>\n      <td>1.0</td>\n    </tr>\n    <tr>\n      <th>...</th>\n      <td>...</td>\n      <td>...</td>\n      <td>...</td>\n      <td>...</td>\n      <td>...</td>\n      <td>...</td>\n      <td>...</td>\n      <td>...</td>\n      <td>...</td>\n      <td>...</td>\n      <td>...</td>\n    </tr>\n    <tr>\n      <th>127524</th>\n      <td>2020-01-20</td>\n      <td>08:14:00</td>\n      <td>32999</td>\n      <td>freiburg</td>\n      <td>0 days 00:12:00.000000000</td>\n      <td>48.012050</td>\n      <td>7.854987</td>\n      <td>47.994729</td>\n      <td>7.846862</td>\n      <td>12</td>\n      <td>1.0</td>\n    </tr>\n    <tr>\n      <th>127525</th>\n      <td>2020-01-20</td>\n      <td>09:10:00</td>\n      <td>32999</td>\n      <td>freiburg</td>\n      <td>0 days 00:04:00.000000000</td>\n      <td>47.996100</td>\n      <td>7.846160</td>\n      <td>48.000858</td>\n      <td>7.849587</td>\n      <td>4</td>\n      <td>1.0</td>\n    </tr>\n    <tr>\n      <th>127526</th>\n      <td>2020-01-20</td>\n      <td>10:03:00</td>\n      <td>32999</td>\n      <td>freiburg</td>\n      <td>0 days 00:24:00.000000000</td>\n      <td>48.000858</td>\n      <td>7.849587</td>\n      <td>48.002664</td>\n      <td>7.851253</td>\n      <td>24</td>\n      <td>1.0</td>\n    </tr>\n    <tr>\n      <th>127527</th>\n      <td>2020-01-20</td>\n      <td>13:55:00</td>\n      <td>32999</td>\n      <td>freiburg</td>\n      <td>0 days 00:07:00.000000000</td>\n      <td>48.002664</td>\n      <td>7.851253</td>\n      <td>47.997430</td>\n      <td>7.842500</td>\n      <td>7</td>\n      <td>1.0</td>\n    </tr>\n    <tr>\n      <th>127528</th>\n      <td>2020-01-20</td>\n      <td>14:16:00</td>\n      <td>32999</td>\n      <td>freiburg</td>\n      <td>0 days 00:18:00.000000000</td>\n      <td>47.997430</td>\n      <td>7.842500</td>\n      <td>48.013770</td>\n      <td>7.807080</td>\n      <td>18</td>\n      <td>1.0</td>\n    </tr>\n  </tbody>\n</table>\n<p>127529 rows × 11 columns</p>\n</div>"
     },
     "execution_count": 5,
     "metadata": {},
     "output_type": "execute_result"
    }
   ],
   "source": [
    "brm_frame\n",
    "frb_frame"
   ]
  },
  {
   "cell_type": "code",
   "execution_count": 6,
   "metadata": {},
   "outputs": [],
   "source": [
    "brm_frame_revenue_daily=brm_frame.groupby([\"day\"]).agg({\"revenue\":\"sum\"})\n",
    "frb_frame_revenue_daily=frb_frame.groupby([\"day\"]).agg({\"revenue\":\"sum\"})"
   ]
  },
  {
   "cell_type": "code",
   "execution_count": 7,
   "metadata": {},
   "outputs": [],
   "source": [
    "brm_frame_revenue_hourly=brm_frame.groupby([\"day\",\"time\"]).agg({\"revenue\":\"sum\"})\n",
    "frb_frame_revenue_hourly=frb_frame.groupby([\"day\",\"time\"]).agg({\"revenue\":\"sum\"})"
   ]
  },
  {
   "cell_type": "code",
   "execution_count": 8,
   "metadata": {},
   "outputs": [
    {
     "ename": "SyntaxError",
     "evalue": "Missing parentheses in call to 'print'. Did you mean print(brm_frame_revenue_daily)? (<ipython-input-8-0f0570648e45>, line 1)",
     "output_type": "error",
     "traceback": [
      "\u001B[1;36m  File \u001B[1;32m\"<ipython-input-8-0f0570648e45>\"\u001B[1;36m, line \u001B[1;32m1\u001B[0m\n\u001B[1;33m    print brm_frame_revenue_daily\u001B[0m\n\u001B[1;37m                                ^\u001B[0m\n\u001B[1;31mSyntaxError\u001B[0m\u001B[1;31m:\u001B[0m Missing parentheses in call to 'print'. Did you mean print(brm_frame_revenue_daily)?\n"
     ]
    }
   ],
   "source": [
    "print brm_frame_revenue_daily\n",
    "print frb_frame_revenue_daily"
   ]
  },
  {
   "cell_type": "code",
   "execution_count": null,
   "metadata": {
    "scrolled": true
   },
   "outputs": [],
   "source": [
    "print brm_frame_revenue_hourly\n",
    "print frb_frame_revenue_daily"
   ]
  },
  {
   "cell_type": "code",
   "execution_count": null,
   "metadata": {},
   "outputs": [],
   "source": [
    "plt.plot(brm_frame_revenue_daily)\n",
    "plt.show()"
   ]
  },
  {
   "cell_type": "code",
   "execution_count": null,
   "metadata": {},
   "outputs": [],
   "source": [
    "plt.plot(frb_frame_revenue_daily)\n",
    "plt.show()"
   ]
  }
 ],
 "metadata": {
  "kernelspec": {
   "name": "python37664bitbaseconda644fbd5b017e47549473535c61dcc2b3",
   "language": "python",
   "display_name": "Python 3.7.6 64-bit ('base': conda)"
  },
  "language_info": {
   "codemirror_mode": {
    "name": "ipython",
    "version": 2
   },
   "file_extension": ".py",
   "mimetype": "text/x-python",
   "name": "python",
   "nbconvert_exporter": "python",
   "pygments_lexer": "ipython2",
   "version": "2.7.16"
  }
 },
 "nbformat": 4,
 "nbformat_minor": 4
}