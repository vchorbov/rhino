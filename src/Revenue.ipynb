{
 "cells": [
  {
   "cell_type": "code",
   "execution_count": 154,
   "metadata": {},
   "outputs": [],
   "source": [
    "import pandas as pd\n",
    "import numpy as np\n",
    "import matplotlib.pyplot as plt\n",
    "import seaborn as sns\n",
    "sns.set()\n",
    "sns.set_style(\"whitegrid\")\n",
    "sns.set_palette(\"GnBu_d\")\n",
    "from datetime import datetime\n",
    "from datetime import timedelta\n",
    "import math\n",
    "import random \n",
    "import timeit\n",
    "from dateutil import parser"
   ]
  },
  {
   "cell_type": "code",
   "execution_count": 155,
   "metadata": {},
   "outputs": [],
   "source": [
    "brm = pd.read_csv(\"../resources/bremen.csv\")"
   ]
  },
  {
   "cell_type": "code",
   "execution_count": 156,
   "metadata": {},
   "outputs": [],
   "source": [
    "frb = pd.read_csv(\"../resources/freiburg.csv\")"
   ]
  },
  {
   "cell_type": "markdown",
   "metadata": {},
   "source": [
    "Calculate the revenue by dividing by 30 (minutes). For this calculation we have to adjust the time column."
   ]
  },
  {
   "cell_type": "code",
   "execution_count": 157,
   "metadata": {},
   "outputs": [],
   "source": [
    "brm[\"minutes\"]=brm[\"trip_duration\"].map(lambda x:int(x[10:12])+int(x[7:9])*60)\n",
    "brm[\"revenue\"]=(brm[\"minutes\"]/30).apply(np.ceil)\n",
    "frb[\"minutes\"]=frb[\"trip_duration\"].map(lambda x:int(x[10:12])+int(x[7:9])*60)\n",
    "frb[\"revenue\"]=(frb[\"minutes\"]/30).apply(np.ceil)"
   ]
  },
  {
   "cell_type": "markdown",
   "metadata": {},
   "source": [
    "Show the new table with the calculated revenue."
   ]
  },
  {
   "cell_type": "code",
   "execution_count": 158,
   "metadata": {},
   "outputs": [
    {
     "data": {
      "text/html": [
       "<div>\n",
       "<style scoped>\n",
       "    .dataframe tbody tr th:only-of-type {\n",
       "        vertical-align: middle;\n",
       "    }\n",
       "\n",
       "    .dataframe tbody tr th {\n",
       "        vertical-align: top;\n",
       "    }\n",
       "\n",
       "    .dataframe thead th {\n",
       "        text-align: right;\n",
       "    }\n",
       "</style>\n",
       "<table border=\"1\" class=\"dataframe\">\n",
       "  <thead>\n",
       "    <tr style=\"text-align: right;\">\n",
       "      <th></th>\n",
       "      <th>day</th>\n",
       "      <th>time</th>\n",
       "      <th>b_number</th>\n",
       "      <th>city</th>\n",
       "      <th>trip_duration</th>\n",
       "      <th>orig_lat</th>\n",
       "      <th>orig_lng</th>\n",
       "      <th>dest_lat</th>\n",
       "      <th>dest_lng</th>\n",
       "      <th>minutes</th>\n",
       "      <th>revenue</th>\n",
       "    </tr>\n",
       "  </thead>\n",
       "  <tbody>\n",
       "    <tr>\n",
       "      <th>0</th>\n",
       "      <td>2019-05-06</td>\n",
       "      <td>14:22:00</td>\n",
       "      <td>32560</td>\n",
       "      <td>freiburg</td>\n",
       "      <td>0 days 00:07:00.000000000</td>\n",
       "      <td>47.993178</td>\n",
       "      <td>7.795708</td>\n",
       "      <td>47.994027</td>\n",
       "      <td>7.796084</td>\n",
       "      <td>7</td>\n",
       "      <td>1.0</td>\n",
       "    </tr>\n",
       "    <tr>\n",
       "      <th>1</th>\n",
       "      <td>2019-05-07</td>\n",
       "      <td>10:42:00</td>\n",
       "      <td>32560</td>\n",
       "      <td>freiburg</td>\n",
       "      <td>0 days 00:07:00.000000000</td>\n",
       "      <td>47.994191</td>\n",
       "      <td>7.796853</td>\n",
       "      <td>47.991960</td>\n",
       "      <td>7.797405</td>\n",
       "      <td>7</td>\n",
       "      <td>1.0</td>\n",
       "    </tr>\n",
       "    <tr>\n",
       "      <th>2</th>\n",
       "      <td>2019-05-07</td>\n",
       "      <td>11:02:00</td>\n",
       "      <td>32560</td>\n",
       "      <td>freiburg</td>\n",
       "      <td>0 days 00:09:00.000000000</td>\n",
       "      <td>47.992044</td>\n",
       "      <td>7.797352</td>\n",
       "      <td>47.992000</td>\n",
       "      <td>7.797478</td>\n",
       "      <td>9</td>\n",
       "      <td>1.0</td>\n",
       "    </tr>\n",
       "    <tr>\n",
       "      <th>3</th>\n",
       "      <td>2019-05-07</td>\n",
       "      <td>12:48:00</td>\n",
       "      <td>32560</td>\n",
       "      <td>freiburg</td>\n",
       "      <td>0 days 00:23:00.000000000</td>\n",
       "      <td>47.992107</td>\n",
       "      <td>7.797499</td>\n",
       "      <td>47.994271</td>\n",
       "      <td>7.796668</td>\n",
       "      <td>23</td>\n",
       "      <td>1.0</td>\n",
       "    </tr>\n",
       "    <tr>\n",
       "      <th>4</th>\n",
       "      <td>2019-05-08</td>\n",
       "      <td>09:00:00</td>\n",
       "      <td>32560</td>\n",
       "      <td>freiburg</td>\n",
       "      <td>0 days 00:03:00.000000000</td>\n",
       "      <td>47.994178</td>\n",
       "      <td>7.796721</td>\n",
       "      <td>47.992307</td>\n",
       "      <td>7.796708</td>\n",
       "      <td>3</td>\n",
       "      <td>1.0</td>\n",
       "    </tr>\n",
       "    <tr>\n",
       "      <th>...</th>\n",
       "      <td>...</td>\n",
       "      <td>...</td>\n",
       "      <td>...</td>\n",
       "      <td>...</td>\n",
       "      <td>...</td>\n",
       "      <td>...</td>\n",
       "      <td>...</td>\n",
       "      <td>...</td>\n",
       "      <td>...</td>\n",
       "      <td>...</td>\n",
       "      <td>...</td>\n",
       "    </tr>\n",
       "    <tr>\n",
       "      <th>127524</th>\n",
       "      <td>2020-01-20</td>\n",
       "      <td>08:14:00</td>\n",
       "      <td>32999</td>\n",
       "      <td>freiburg</td>\n",
       "      <td>0 days 00:12:00.000000000</td>\n",
       "      <td>48.012050</td>\n",
       "      <td>7.854987</td>\n",
       "      <td>47.994729</td>\n",
       "      <td>7.846862</td>\n",
       "      <td>12</td>\n",
       "      <td>1.0</td>\n",
       "    </tr>\n",
       "    <tr>\n",
       "      <th>127525</th>\n",
       "      <td>2020-01-20</td>\n",
       "      <td>09:10:00</td>\n",
       "      <td>32999</td>\n",
       "      <td>freiburg</td>\n",
       "      <td>0 days 00:04:00.000000000</td>\n",
       "      <td>47.996100</td>\n",
       "      <td>7.846160</td>\n",
       "      <td>48.000858</td>\n",
       "      <td>7.849587</td>\n",
       "      <td>4</td>\n",
       "      <td>1.0</td>\n",
       "    </tr>\n",
       "    <tr>\n",
       "      <th>127526</th>\n",
       "      <td>2020-01-20</td>\n",
       "      <td>10:03:00</td>\n",
       "      <td>32999</td>\n",
       "      <td>freiburg</td>\n",
       "      <td>0 days 00:24:00.000000000</td>\n",
       "      <td>48.000858</td>\n",
       "      <td>7.849587</td>\n",
       "      <td>48.002664</td>\n",
       "      <td>7.851253</td>\n",
       "      <td>24</td>\n",
       "      <td>1.0</td>\n",
       "    </tr>\n",
       "    <tr>\n",
       "      <th>127527</th>\n",
       "      <td>2020-01-20</td>\n",
       "      <td>13:55:00</td>\n",
       "      <td>32999</td>\n",
       "      <td>freiburg</td>\n",
       "      <td>0 days 00:07:00.000000000</td>\n",
       "      <td>48.002664</td>\n",
       "      <td>7.851253</td>\n",
       "      <td>47.997430</td>\n",
       "      <td>7.842500</td>\n",
       "      <td>7</td>\n",
       "      <td>1.0</td>\n",
       "    </tr>\n",
       "    <tr>\n",
       "      <th>127528</th>\n",
       "      <td>2020-01-20</td>\n",
       "      <td>14:16:00</td>\n",
       "      <td>32999</td>\n",
       "      <td>freiburg</td>\n",
       "      <td>0 days 00:18:00.000000000</td>\n",
       "      <td>47.997430</td>\n",
       "      <td>7.842500</td>\n",
       "      <td>48.013770</td>\n",
       "      <td>7.807080</td>\n",
       "      <td>18</td>\n",
       "      <td>1.0</td>\n",
       "    </tr>\n",
       "  </tbody>\n",
       "</table>\n",
       "<p>127529 rows × 11 columns</p>\n",
       "</div>"
      ],
      "text/plain": [
       "               day      time  b_number      city              trip_duration  \\\n",
       "0       2019-05-06  14:22:00     32560  freiburg  0 days 00:07:00.000000000   \n",
       "1       2019-05-07  10:42:00     32560  freiburg  0 days 00:07:00.000000000   \n",
       "2       2019-05-07  11:02:00     32560  freiburg  0 days 00:09:00.000000000   \n",
       "3       2019-05-07  12:48:00     32560  freiburg  0 days 00:23:00.000000000   \n",
       "4       2019-05-08  09:00:00     32560  freiburg  0 days 00:03:00.000000000   \n",
       "...            ...       ...       ...       ...                        ...   \n",
       "127524  2020-01-20  08:14:00     32999  freiburg  0 days 00:12:00.000000000   \n",
       "127525  2020-01-20  09:10:00     32999  freiburg  0 days 00:04:00.000000000   \n",
       "127526  2020-01-20  10:03:00     32999  freiburg  0 days 00:24:00.000000000   \n",
       "127527  2020-01-20  13:55:00     32999  freiburg  0 days 00:07:00.000000000   \n",
       "127528  2020-01-20  14:16:00     32999  freiburg  0 days 00:18:00.000000000   \n",
       "\n",
       "         orig_lat  orig_lng   dest_lat  dest_lng  minutes  revenue  \n",
       "0       47.993178  7.795708  47.994027  7.796084        7      1.0  \n",
       "1       47.994191  7.796853  47.991960  7.797405        7      1.0  \n",
       "2       47.992044  7.797352  47.992000  7.797478        9      1.0  \n",
       "3       47.992107  7.797499  47.994271  7.796668       23      1.0  \n",
       "4       47.994178  7.796721  47.992307  7.796708        3      1.0  \n",
       "...           ...       ...        ...       ...      ...      ...  \n",
       "127524  48.012050  7.854987  47.994729  7.846862       12      1.0  \n",
       "127525  47.996100  7.846160  48.000858  7.849587        4      1.0  \n",
       "127526  48.000858  7.849587  48.002664  7.851253       24      1.0  \n",
       "127527  48.002664  7.851253  47.997430  7.842500        7      1.0  \n",
       "127528  47.997430  7.842500  48.013770  7.807080       18      1.0  \n",
       "\n",
       "[127529 rows x 11 columns]"
      ]
     },
     "execution_count": 158,
     "metadata": {},
     "output_type": "execute_result"
    }
   ],
   "source": [
    "brm\n",
    "frb"
   ]
  },
  {
   "cell_type": "markdown",
   "metadata": {},
   "source": [
    "Groups by day and sums up the revenue per day."
   ]
  },
  {
   "cell_type": "code",
   "execution_count": 159,
   "metadata": {},
   "outputs": [],
   "source": [
    "brm_revenue_daily=brm.groupby([\"day\"]).agg({\"revenue\":\"sum\"})\n",
    "frb_revenue_daily=frb.groupby([\"day\"]).agg({\"revenue\":\"sum\"})"
   ]
  },
  {
   "cell_type": "markdown",
   "metadata": {},
   "source": [
    "Groups by hour and sums up the revenue per hour. Before that the format of time must be changed in order to show only the current hour."
   ]
  },
  {
   "cell_type": "code",
   "execution_count": 160,
   "metadata": {},
   "outputs": [],
   "source": [
    "brm[\"hour\"] = brm[\"time\"].str[:-6]\n",
    "frb[\"hour\"] = frb[\"time\"].str[:-6]\n",
    "brm_revenue_hourly=brm.groupby([\"day\",\"hour\"]).agg({\"revenue\":\"sum\"})\n",
    "frb_revenue_hourly=frb.groupby([\"day\",\"hour\"]).agg({\"revenue\":\"sum\"})"
   ]
  },
  {
   "cell_type": "markdown",
   "metadata": {},
   "source": [
    "Shows the revenue per day."
   ]
  },
  {
   "cell_type": "code",
   "execution_count": 161,
   "metadata": {},
   "outputs": [
    {
     "name": "stdout",
     "output_type": "stream",
     "text": [
      "            revenue\n",
      "day                \n",
      "2019-01-20    132.0\n",
      "2019-01-21    184.0\n",
      "2019-01-22    189.0\n",
      "2019-01-23    169.0\n",
      "2019-01-24    182.0\n",
      "...             ...\n",
      "2020-01-16    461.0\n",
      "2020-01-17    547.0\n",
      "2020-01-18    394.0\n",
      "2020-01-19    381.0\n",
      "2020-01-20    436.0\n",
      "\n",
      "[363 rows x 1 columns]\n",
      "            revenue\n",
      "day                \n",
      "2019-05-06      1.0\n",
      "2019-05-07      3.0\n",
      "2019-05-08      5.0\n",
      "2019-05-09      3.0\n",
      "2019-05-10      2.0\n",
      "...             ...\n",
      "2020-01-16   1044.0\n",
      "2020-01-17    754.0\n",
      "2020-01-18    584.0\n",
      "2020-01-19    397.0\n",
      "2020-01-20    877.0\n",
      "\n",
      "[257 rows x 1 columns]\n"
     ]
    }
   ],
   "source": [
    "print (brm_revenue_daily)\n",
    "print (frb_revenue_daily)"
   ]
  },
  {
   "cell_type": "markdown",
   "metadata": {},
   "source": [
    "Shows the revenue per hour."
   ]
  },
  {
   "cell_type": "code",
   "execution_count": 162,
   "metadata": {
    "scrolled": true
   },
   "outputs": [
    {
     "name": "stdout",
     "output_type": "stream",
     "text": [
      "                 revenue\n",
      "day        hour         \n",
      "2019-01-20 00        3.0\n",
      "           01        3.0\n",
      "           02        5.0\n",
      "           03        2.0\n",
      "           05        3.0\n",
      "...                  ...\n",
      "2020-01-20 19       32.0\n",
      "           20       24.0\n",
      "           21        9.0\n",
      "           22       15.0\n",
      "           23        3.0\n",
      "\n",
      "[8409 rows x 1 columns]\n",
      "                 revenue\n",
      "day        hour         \n",
      "2019-05-06 14        1.0\n",
      "2019-05-07 10        1.0\n",
      "           11        1.0\n",
      "           12        1.0\n",
      "2019-05-08 09        1.0\n",
      "...                  ...\n",
      "2020-01-20 19       45.0\n",
      "           20       18.0\n",
      "           21       17.0\n",
      "           22       26.0\n",
      "           23        8.0\n",
      "\n",
      "[5819 rows x 1 columns]\n"
     ]
    }
   ],
   "source": [
    "print (brm_revenue_hourly)\n",
    "print (frb_revenue_hourly)"
   ]
  },
  {
   "cell_type": "markdown",
   "metadata": {},
   "source": [
    "Splitting the data set into seasons."
   ]
  },
  {
   "cell_type": "code",
   "execution_count": 163,
   "metadata": {},
   "outputs": [],
   "source": [
    "frb_spring =  frb[(frb['day'] >= \"2019-03-01\") & (frb['day'] <= \"2019-05-31\")]\n",
    "frb_summer =  frb[(frb['day'] >= \"2019-06-01\") & (frb['day'] <= \"2019-09-31\")] \n",
    "frb_fall   =  frb[(frb['day'] >= \"2019-09-01\") & (frb['day'] <= \"2019-11-30\")]\n",
    "frb_winter =  frb[(frb['day'] >= \"2019-12-01\") & (frb['day'] <= \"2020-01-20\")]\n",
    "\n",
    "brm_spring =  brm[(brm['day'] >= \"2019-03-01\") & (brm['day'] <= \"2019-05-31\")]\n",
    "brm_summer =  brm[(brm['day'] >= \"2019-06-01\") & (brm['day'] <= \"2019-09-31\")] \n",
    "brm_fall   =  brm[(brm['day'] >= \"2019-09-01\") & (brm['day'] <= \"2019-11-30\")]\n",
    "brm_winter =  brm[(brm['day'] >= \"2019-12-01\") & (brm['day'] <= \"2020-01-20\")]"
   ]
  },
  {
   "cell_type": "markdown",
   "metadata": {},
   "source": [
    "Group our hourly revenue into seasons."
   ]
  },
  {
   "cell_type": "code",
   "execution_count": 164,
   "metadata": {},
   "outputs": [],
   "source": [
    "brm_revenue_hourly_spring=brm_spring.groupby([\"day\",\"hour\"]).agg({\"revenue\":\"sum\"})\n",
    "brm_revenue_hourly_summer=brm_summer.groupby([\"day\",\"hour\"]).agg({\"revenue\":\"sum\"})\n",
    "brm_revenue_hourly_fall=brm_fall.groupby([\"day\",\"hour\"]).agg({\"revenue\":\"sum\"})\n",
    "brm_revenue_hourly_winter=brm_winter.groupby([\"day\",\"hour\"]).agg({\"revenue\":\"sum\"})\n",
    "\n",
    "frb_revenue_hourly_spring=frb_spring.groupby([\"day\",\"hour\"]).agg({\"revenue\":\"sum\"})\n",
    "frb_revenue_hourly_summer=frb_summer.groupby([\"day\",\"hour\"]).agg({\"revenue\":\"sum\"})\n",
    "frb_revenue_hourly_fall=frb_fall.groupby([\"day\",\"hour\"]).agg({\"revenue\":\"sum\"})\n",
    "frb_revenue_hourly_winter=frb_winter.groupby([\"day\",\"hour\"]).agg({\"revenue\":\"sum\"})"
   ]
  },
  {
   "cell_type": "code",
   "execution_count": 165,
   "metadata": {
    "scrolled": true
   },
   "outputs": [
    {
     "data": {
      "image/png": "[encoded data removed]",
      "text/plain": [
       "<Figure size 432x288 with 1 Axes>"
      ]
     },
     "metadata": {},
     "output_type": "display_data"
    },
    {
     "data": {
      "text/plain": [
       "<Figure size 1296x432 with 0 Axes>"
      ]
     },
     "metadata": {},
     "output_type": "display_data"
    }
   ],
   "source": [
    "plt.plot(brm_revenue_daily)\n",
    "plt.xlabel('day')\n",
    "plt.ylabel('revenue')\n",
    "plt.title(\"daily revenue bremen\")\n",
    "\n",
    "plt.figure(figsize = (18,6))\n",
    "\n",
    "plt.show()"
   ]
  },
  {
   "cell_type": "code",
   "execution_count": 166,
   "metadata": {},
   "outputs": [],
   "source": [
    "def revenue_bar(brm_revenue_daily,frb_revenue_daily):\n",
    "    labels=['max','min','mean']\n",
    "    data=[[brm_revenue_daily[\"revenue\"].max(),brm_revenue_daily[\"revenue\"].min()\n",
    "           ,brm_revenue_daily[\"revenue\"].mean()],[frb_revenue_daily[\"revenue\"].max(),\n",
    "            frb_revenue_daily[\"revenue\"].min(),frb_revenue_daily[\"revenue\"].mean()]]                                                \n",
    "    data[0]=[1260,82,517.18]\n",
    "    data[1]=[1272,1,620.97]\n",
    "    x=np.arange(len(labels)) \n",
    "    fig, ax = plt.subplots()\n",
    "    ax.set_ylabel('Revenue')\n",
    "    ax.set_title('Daily revenue in comparison ')\n",
    "    ax.set_xticks(x)\n",
    "    ax.set_xticklabels(labels) \n",
    "    width = 0.5                                                  \n",
    "    rects1 = ax.bar(x+0.5, data[0], width,color='b', label='Bremen')\n",
    "    rects2 = ax.bar(x, data[1], width, color='g',label='Freiburg')\n",
    "    \n",
    "    def autolabel(rects):\n",
    "       for rect in rects:\n",
    "        height = rect.get_height()\n",
    "        ax.annotate('{}'.format(height),\n",
    "                    xy=(rect.get_x() + rect.get_width() / 2, height),\n",
    "                    xytext=(0, 3),  # 3 points vertical offset\n",
    "                    textcoords=\"offset points\",\n",
    "                    ha='center', va='bottom')\n",
    "\n",
    "    autolabel(rects1)\n",
    "    autolabel(rects2)\n",
    "    ax.legend()\n",
    "    plt.show()"
   ]
  },
  {
   "cell_type": "code",
   "execution_count": 167,
   "metadata": {
    "scrolled": true
   },
   "outputs": [
    {
     "data": {
      "image/png": "[encoded data removed]",
      "text/plain": [
       "<Figure size 432x288 with 1 Axes>"
      ]
     },
     "metadata": {},
     "output_type": "display_data"
    }
   ],
   "source": [
    "revenue_bar(brm_revenue_daily,frb_revenue_daily)"
   ]
  },
  {
   "cell_type": "markdown",
   "metadata": {},
   "source": [
    "The average revenue of Freiburg is way higher than in Bremen."
   ]
  },
  {
   "cell_type": "markdown",
   "metadata": {},
   "source": [
    "A explanation for this result might be that in Freiburg there is a higher percentage of students. In Freiburg there are approx. 10,44 % students. In comparison in Bremen there are only 3,33% students. We guess that younger people especially students use bikes more often than older people. "
   ]
  }
 ],
 "metadata": {
  "kernelspec": {
   "display_name": "Python 3",
   "language": "python",
   "name": "python3"
  },
  "language_info": {
   "codemirror_mode": {
    "name": "ipython",
    "version": 3
   },
   "file_extension": ".py",
   "mimetype": "text/x-python",
   "name": "python",
   "nbconvert_exporter": "python",
   "pygments_lexer": "ipython3",
   "version": "3.7.7"
  }
 },
 "nbformat": 4,
 "nbformat_minor": 4
}
