{
 "cells": [
  {
   "cell_type": "code",
   "execution_count": 1,
   "metadata": {},
   "outputs": [],
   "source": [
    "import pandas as pd\n",
    "import numpy as np\n",
    "import matplotlib.pyplot as plt\n",
    "import seaborn as sns\n",
    "sns.set()\n",
    "sns.set_style(\"whitegrid\")\n",
    "sns.set_palette(\"GnBu_d\")\n",
    "from datetime import datetime\n",
    "from datetime import timedelta\n",
    "import math\n",
    "import random \n",
    "import timeit\n",
    "from dateutil import parser"
   ]
  },
  {
   "cell_type": "code",
   "execution_count": 2,
   "metadata": {},
   "outputs": [],
   "source": [
    "brm = pd.read_csv(\"../generated/brm_cleaned.csv\")"
   ]
  },
  {
   "cell_type": "code",
   "execution_count": 3,
   "metadata": {},
   "outputs": [],
   "source": [
    "frb = pd.read_csv(\"../generated/frb_cleaned.csv\")"
   ]
  },
  {
   "cell_type": "markdown",
   "metadata": {},
   "source": [
    "## Revenue"
   ]
  },
  {
   "cell_type": "markdown",
   "metadata": {},
   "source": [
    "Calculate the revenue by dividing by 30 (minutes). For this calculation we have to adjust the time column."
   ]
  },
  {
   "cell_type": "code",
   "execution_count": 4,
   "metadata": {},
   "outputs": [],
   "source": [
    "brm[\"minutes\"]=brm[\"trip_duration\"].map(lambda x:int(x[10:12])+int(x[7:9])*60)\n",
    "brm[\"revenue\"]=(brm[\"minutes\"]/30).apply(np.ceil)\n",
    "frb[\"minutes\"]=frb[\"trip_duration\"].map(lambda x:int(x[10:12])+int(x[7:9])*60)\n",
    "frb[\"revenue\"]=(frb[\"minutes\"]/30).apply(np.ceil)"
   ]
  },
  {
   "cell_type": "markdown",
   "metadata": {},
   "source": [
    "Show the new table with the calculated revenue."
   ]
  },
  {
   "cell_type": "code",
   "execution_count": 17,
   "metadata": {},
   "outputs": [
    {
     "data": {
      "text/html": [
       "<div>\n",
       "<style scoped>\n",
       "    .dataframe tbody tr th:only-of-type {\n",
       "        vertical-align: middle;\n",
       "    }\n",
       "\n",
       "    .dataframe tbody tr th {\n",
       "        vertical-align: top;\n",
       "    }\n",
       "\n",
       "    .dataframe thead th {\n",
       "        text-align: right;\n",
       "    }\n",
       "</style>\n",
       "<table border=\"1\" class=\"dataframe\">\n",
       "  <thead>\n",
       "    <tr style=\"text-align: right;\">\n",
       "      <th></th>\n",
       "      <th>Unnamed: 0</th>\n",
       "      <th>day</th>\n",
       "      <th>time</th>\n",
       "      <th>b_number</th>\n",
       "      <th>city</th>\n",
       "      <th>trip_duration</th>\n",
       "      <th>orig_lat</th>\n",
       "      <th>orig_lng</th>\n",
       "      <th>dest_lat</th>\n",
       "      <th>dest_lng</th>\n",
       "      <th>distance</th>\n",
       "      <th>minutes</th>\n",
       "      <th>revenue</th>\n",
       "      <th>hour</th>\n",
       "    </tr>\n",
       "  </thead>\n",
       "  <tbody>\n",
       "    <tr>\n",
       "      <th>0</th>\n",
       "      <td>0</td>\n",
       "      <td>2019-07-01</td>\n",
       "      <td>19:51:00</td>\n",
       "      <td>32560</td>\n",
       "      <td>freiburg</td>\n",
       "      <td>0 days 00:07:00.000000000</td>\n",
       "      <td>48.002664</td>\n",
       "      <td>7.851253</td>\n",
       "      <td>48.008110</td>\n",
       "      <td>7.850470</td>\n",
       "      <td>0.608364</td>\n",
       "      <td>7</td>\n",
       "      <td>1.0</td>\n",
       "      <td>19</td>\n",
       "    </tr>\n",
       "    <tr>\n",
       "      <th>1</th>\n",
       "      <td>1</td>\n",
       "      <td>2019-07-02</td>\n",
       "      <td>22:14:00</td>\n",
       "      <td>32560</td>\n",
       "      <td>freiburg</td>\n",
       "      <td>0 days 00:10:00.000000000</td>\n",
       "      <td>47.984584</td>\n",
       "      <td>7.840984</td>\n",
       "      <td>47.997669</td>\n",
       "      <td>7.852481</td>\n",
       "      <td>1.687895</td>\n",
       "      <td>10</td>\n",
       "      <td>1.0</td>\n",
       "      <td>22</td>\n",
       "    </tr>\n",
       "    <tr>\n",
       "      <th>2</th>\n",
       "      <td>2</td>\n",
       "      <td>2019-07-03</td>\n",
       "      <td>05:30:00</td>\n",
       "      <td>32560</td>\n",
       "      <td>freiburg</td>\n",
       "      <td>0 days 00:06:00.000000000</td>\n",
       "      <td>47.997669</td>\n",
       "      <td>7.852481</td>\n",
       "      <td>47.997564</td>\n",
       "      <td>7.844473</td>\n",
       "      <td>0.595944</td>\n",
       "      <td>6</td>\n",
       "      <td>1.0</td>\n",
       "      <td>05</td>\n",
       "    </tr>\n",
       "    <tr>\n",
       "      <th>3</th>\n",
       "      <td>3</td>\n",
       "      <td>2019-07-03</td>\n",
       "      <td>12:06:00</td>\n",
       "      <td>32560</td>\n",
       "      <td>freiburg</td>\n",
       "      <td>0 days 00:12:00.000000000</td>\n",
       "      <td>47.980291</td>\n",
       "      <td>7.821829</td>\n",
       "      <td>47.989120</td>\n",
       "      <td>7.847720</td>\n",
       "      <td>2.162640</td>\n",
       "      <td>12</td>\n",
       "      <td>1.0</td>\n",
       "      <td>12</td>\n",
       "    </tr>\n",
       "    <tr>\n",
       "      <th>4</th>\n",
       "      <td>4</td>\n",
       "      <td>2019-07-04</td>\n",
       "      <td>06:36:00</td>\n",
       "      <td>32560</td>\n",
       "      <td>freiburg</td>\n",
       "      <td>0 days 00:17:00.000000000</td>\n",
       "      <td>47.991531</td>\n",
       "      <td>7.879938</td>\n",
       "      <td>47.984584</td>\n",
       "      <td>7.840984</td>\n",
       "      <td>3.000158</td>\n",
       "      <td>17</td>\n",
       "      <td>1.0</td>\n",
       "      <td>06</td>\n",
       "    </tr>\n",
       "    <tr>\n",
       "      <th>...</th>\n",
       "      <td>...</td>\n",
       "      <td>...</td>\n",
       "      <td>...</td>\n",
       "      <td>...</td>\n",
       "      <td>...</td>\n",
       "      <td>...</td>\n",
       "      <td>...</td>\n",
       "      <td>...</td>\n",
       "      <td>...</td>\n",
       "      <td>...</td>\n",
       "      <td>...</td>\n",
       "      <td>...</td>\n",
       "      <td>...</td>\n",
       "      <td>...</td>\n",
       "    </tr>\n",
       "    <tr>\n",
       "      <th>100792</th>\n",
       "      <td>100792</td>\n",
       "      <td>2020-01-19</td>\n",
       "      <td>14:38:00</td>\n",
       "      <td>32999</td>\n",
       "      <td>freiburg</td>\n",
       "      <td>0 days 00:16:00.000000000</td>\n",
       "      <td>47.988072</td>\n",
       "      <td>7.873674</td>\n",
       "      <td>48.012050</td>\n",
       "      <td>7.854987</td>\n",
       "      <td>3.006990</td>\n",
       "      <td>16</td>\n",
       "      <td>1.0</td>\n",
       "      <td>14</td>\n",
       "    </tr>\n",
       "    <tr>\n",
       "      <th>100793</th>\n",
       "      <td>100793</td>\n",
       "      <td>2020-01-20</td>\n",
       "      <td>08:14:00</td>\n",
       "      <td>32999</td>\n",
       "      <td>freiburg</td>\n",
       "      <td>0 days 00:12:00.000000000</td>\n",
       "      <td>48.012050</td>\n",
       "      <td>7.854987</td>\n",
       "      <td>47.994729</td>\n",
       "      <td>7.846862</td>\n",
       "      <td>2.018664</td>\n",
       "      <td>12</td>\n",
       "      <td>1.0</td>\n",
       "      <td>08</td>\n",
       "    </tr>\n",
       "    <tr>\n",
       "      <th>100794</th>\n",
       "      <td>100794</td>\n",
       "      <td>2020-01-20</td>\n",
       "      <td>09:10:00</td>\n",
       "      <td>32999</td>\n",
       "      <td>freiburg</td>\n",
       "      <td>0 days 00:04:00.000000000</td>\n",
       "      <td>47.996100</td>\n",
       "      <td>7.846160</td>\n",
       "      <td>48.000858</td>\n",
       "      <td>7.849587</td>\n",
       "      <td>0.587308</td>\n",
       "      <td>4</td>\n",
       "      <td>1.0</td>\n",
       "      <td>09</td>\n",
       "    </tr>\n",
       "    <tr>\n",
       "      <th>100795</th>\n",
       "      <td>100795</td>\n",
       "      <td>2020-01-20</td>\n",
       "      <td>13:55:00</td>\n",
       "      <td>32999</td>\n",
       "      <td>freiburg</td>\n",
       "      <td>0 days 00:07:00.000000000</td>\n",
       "      <td>48.002664</td>\n",
       "      <td>7.851253</td>\n",
       "      <td>47.997430</td>\n",
       "      <td>7.842500</td>\n",
       "      <td>0.873416</td>\n",
       "      <td>7</td>\n",
       "      <td>1.0</td>\n",
       "      <td>13</td>\n",
       "    </tr>\n",
       "    <tr>\n",
       "      <th>100796</th>\n",
       "      <td>100796</td>\n",
       "      <td>2020-01-20</td>\n",
       "      <td>14:16:00</td>\n",
       "      <td>32999</td>\n",
       "      <td>freiburg</td>\n",
       "      <td>0 days 00:18:00.000000000</td>\n",
       "      <td>47.997430</td>\n",
       "      <td>7.842500</td>\n",
       "      <td>48.013770</td>\n",
       "      <td>7.807080</td>\n",
       "      <td>3.200782</td>\n",
       "      <td>18</td>\n",
       "      <td>1.0</td>\n",
       "      <td>14</td>\n",
       "    </tr>\n",
       "  </tbody>\n",
       "</table>\n",
       "<p>100797 rows × 14 columns</p>\n",
       "</div>"
      ],
      "text/plain": [
       "        Unnamed: 0         day      time  b_number      city  \\\n",
       "0                0  2019-07-01  19:51:00     32560  freiburg   \n",
       "1                1  2019-07-02  22:14:00     32560  freiburg   \n",
       "2                2  2019-07-03  05:30:00     32560  freiburg   \n",
       "3                3  2019-07-03  12:06:00     32560  freiburg   \n",
       "4                4  2019-07-04  06:36:00     32560  freiburg   \n",
       "...            ...         ...       ...       ...       ...   \n",
       "100792      100792  2020-01-19  14:38:00     32999  freiburg   \n",
       "100793      100793  2020-01-20  08:14:00     32999  freiburg   \n",
       "100794      100794  2020-01-20  09:10:00     32999  freiburg   \n",
       "100795      100795  2020-01-20  13:55:00     32999  freiburg   \n",
       "100796      100796  2020-01-20  14:16:00     32999  freiburg   \n",
       "\n",
       "                    trip_duration   orig_lat  orig_lng   dest_lat  dest_lng  \\\n",
       "0       0 days 00:07:00.000000000  48.002664  7.851253  48.008110  7.850470   \n",
       "1       0 days 00:10:00.000000000  47.984584  7.840984  47.997669  7.852481   \n",
       "2       0 days 00:06:00.000000000  47.997669  7.852481  47.997564  7.844473   \n",
       "3       0 days 00:12:00.000000000  47.980291  7.821829  47.989120  7.847720   \n",
       "4       0 days 00:17:00.000000000  47.991531  7.879938  47.984584  7.840984   \n",
       "...                           ...        ...       ...        ...       ...   \n",
       "100792  0 days 00:16:00.000000000  47.988072  7.873674  48.012050  7.854987   \n",
       "100793  0 days 00:12:00.000000000  48.012050  7.854987  47.994729  7.846862   \n",
       "100794  0 days 00:04:00.000000000  47.996100  7.846160  48.000858  7.849587   \n",
       "100795  0 days 00:07:00.000000000  48.002664  7.851253  47.997430  7.842500   \n",
       "100796  0 days 00:18:00.000000000  47.997430  7.842500  48.013770  7.807080   \n",
       "\n",
       "        distance  minutes  revenue hour  \n",
       "0       0.608364        7      1.0   19  \n",
       "1       1.687895       10      1.0   22  \n",
       "2       0.595944        6      1.0   05  \n",
       "3       2.162640       12      1.0   12  \n",
       "4       3.000158       17      1.0   06  \n",
       "...          ...      ...      ...  ...  \n",
       "100792  3.006990       16      1.0   14  \n",
       "100793  2.018664       12      1.0   08  \n",
       "100794  0.587308        4      1.0   09  \n",
       "100795  0.873416        7      1.0   13  \n",
       "100796  3.200782       18      1.0   14  \n",
       "\n",
       "[100797 rows x 14 columns]"
      ]
     },
     "execution_count": 17,
     "metadata": {},
     "output_type": "execute_result"
    }
   ],
   "source": [
    "frb"
   ]
  },
  {
   "cell_type": "markdown",
   "metadata": {},
   "source": [
    "### Daily Revenue"
   ]
  },
  {
   "cell_type": "markdown",
   "metadata": {},
   "source": [
    "Groups by day and sums up the revenue per day."
   ]
  },
  {
   "cell_type": "code",
   "execution_count": 6,
   "metadata": {},
   "outputs": [],
   "source": [
    "brm_revenue_daily=brm.groupby([\"day\"]).agg({\"revenue\":\"sum\"})\n",
    "frb_revenue_daily=frb.groupby([\"day\"]).agg({\"revenue\":\"sum\"})"
   ]
  },
  {
   "cell_type": "markdown",
   "metadata": {},
   "source": [
    "### Hourly Revenue"
   ]
  },
  {
   "cell_type": "markdown",
   "metadata": {},
   "source": [
    "Groups by hour and sums up the revenue per hour. Before that the format of time must be changed in order to show only the current hour."
   ]
  },
  {
   "cell_type": "code",
   "execution_count": 7,
   "metadata": {},
   "outputs": [],
   "source": [
    "brm[\"hour\"] = brm[\"time\"].str[:-6]\n",
    "frb[\"hour\"] = frb[\"time\"].str[:-6]\n",
    "brm_revenue_hourly=brm.groupby([\"day\",\"hour\"]).agg({\"revenue\":\"sum\"})\n",
    "frb_revenue_hourly=frb.groupby([\"day\",\"hour\"]).agg({\"revenue\":\"sum\"})"
   ]
  },
  {
   "cell_type": "markdown",
   "metadata": {},
   "source": [
    "### Daily Revenue - Summary"
   ]
  },
  {
   "cell_type": "markdown",
   "metadata": {},
   "source": [
    "Shows the revenue per day."
   ]
  },
  {
   "cell_type": "code",
   "execution_count": 8,
   "metadata": {},
   "outputs": [
    {
     "name": "stdout",
     "output_type": "stream",
     "text": [
      "            revenue\n",
      "day                \n",
      "2019-01-20     68.0\n",
      "2019-01-21    102.0\n",
      "2019-01-22    142.0\n",
      "2019-01-23    110.0\n",
      "2019-01-24    117.0\n",
      "...             ...\n",
      "2020-01-16    356.0\n",
      "2020-01-17    436.0\n",
      "2020-01-18    299.0\n",
      "2020-01-19    254.0\n",
      "2020-01-20    334.0\n",
      "\n",
      "[363 rows x 1 columns]\n",
      "            revenue\n",
      "day                \n",
      "2019-05-17     66.0\n",
      "2019-05-18    131.0\n",
      "2019-05-19    139.0\n",
      "2019-05-20     67.0\n",
      "2019-05-21     52.0\n",
      "...             ...\n",
      "2020-01-16    706.0\n",
      "2020-01-17    513.0\n",
      "2020-01-18    467.0\n",
      "2020-01-19    332.0\n",
      "2020-01-20    587.0\n",
      "\n",
      "[249 rows x 1 columns]\n"
     ]
    }
   ],
   "source": [
    "print (brm_revenue_daily)\n",
    "print (frb_revenue_daily)"
   ]
  },
  {
   "cell_type": "markdown",
   "metadata": {},
   "source": [
    "### Hourly Revenue - Summary"
   ]
  },
  {
   "cell_type": "markdown",
   "metadata": {},
   "source": [
    "Shows the revenue per hour."
   ]
  },
  {
   "cell_type": "code",
   "execution_count": 9,
   "metadata": {
    "scrolled": false
   },
   "outputs": [
    {
     "name": "stdout",
     "output_type": "stream",
     "text": [
      "                 revenue\n",
      "day        hour         \n",
      "2019-01-20 00        3.0\n",
      "           01        3.0\n",
      "           02        2.0\n",
      "           03        2.0\n",
      "           05        1.0\n",
      "...                  ...\n",
      "2020-01-20 19       23.0\n",
      "           20       21.0\n",
      "           21        7.0\n",
      "           22       10.0\n",
      "           23        3.0\n",
      "\n",
      "[8309 rows x 1 columns]\n",
      "                 revenue\n",
      "day        hour         \n",
      "2019-05-17 12        4.0\n",
      "           13        5.0\n",
      "           14       10.0\n",
      "           15        6.0\n",
      "           16       10.0\n",
      "...                  ...\n",
      "2020-01-20 19       31.0\n",
      "           20       16.0\n",
      "           21       16.0\n",
      "           22       25.0\n",
      "           23        7.0\n",
      "\n",
      "[5730 rows x 1 columns]\n"
     ]
    }
   ],
   "source": [
    "print (brm_revenue_hourly)\n",
    "print (frb_revenue_hourly)"
   ]
  },
  {
   "cell_type": "markdown",
   "metadata": {},
   "source": [
    "Splitting the data set into seasons."
   ]
  },
  {
   "cell_type": "code",
   "execution_count": 10,
   "metadata": {},
   "outputs": [],
   "source": [
    "frb_spring =  frb[(frb['day'] >= \"2019-03-01\") & (frb['day'] <= \"2019-05-31\")]\n",
    "frb_summer =  frb[(frb['day'] >= \"2019-06-01\") & (frb['day'] <= \"2019-09-31\")] \n",
    "frb_fall   =  frb[(frb['day'] >= \"2019-09-01\") & (frb['day'] <= \"2019-11-30\")]\n",
    "frb_winter =  frb[(frb['day'] >= \"2019-12-01\") & (frb['day'] <= \"2020-01-20\")]\n",
    "\n",
    "brm_spring =  brm[(brm['day'] >= \"2019-03-01\") & (brm['day'] <= \"2019-05-31\")]\n",
    "brm_summer =  brm[(brm['day'] >= \"2019-06-01\") & (brm['day'] <= \"2019-09-31\")] \n",
    "brm_fall   =  brm[(brm['day'] >= \"2019-09-01\") & (brm['day'] <= \"2019-11-30\")]\n",
    "brm_winter =  brm[(brm['day'] >= \"2019-12-01\") & (brm['day'] <= \"2020-01-20\")]"
   ]
  },
  {
   "cell_type": "markdown",
   "metadata": {},
   "source": [
    "Group our hourly revenue into seasons."
   ]
  },
  {
   "cell_type": "code",
   "execution_count": 11,
   "metadata": {},
   "outputs": [],
   "source": [
    "brm_revenue_hourly_spring=brm_spring.groupby([\"day\",\"hour\"]).agg({\"revenue\":\"sum\"})\n",
    "brm_revenue_hourly_summer=brm_summer.groupby([\"day\",\"hour\"]).agg({\"revenue\":\"sum\"})\n",
    "brm_revenue_hourly_fall=brm_fall.groupby([\"day\",\"hour\"]).agg({\"revenue\":\"sum\"})\n",
    "brm_revenue_hourly_winter=brm_winter.groupby([\"day\",\"hour\"]).agg({\"revenue\":\"sum\"})\n",
    "\n",
    "frb_revenue_hourly_spring=frb_spring.groupby([\"day\",\"hour\"]).agg({\"revenue\":\"sum\"})\n",
    "frb_revenue_hourly_summer=frb_summer.groupby([\"day\",\"hour\"]).agg({\"revenue\":\"sum\"})\n",
    "frb_revenue_hourly_fall=frb_fall.groupby([\"day\",\"hour\"]).agg({\"revenue\":\"sum\"})\n",
    "frb_revenue_hourly_winter=frb_winter.groupby([\"day\",\"hour\"]).agg({\"revenue\":\"sum\"})"
   ]
  },
  {
   "cell_type": "code",
   "execution_count": 12,
   "metadata": {
    "scrolled": true
   },
   "outputs": [
    {
     "data": {
      "image/png": "[encoded data removed]",
      "text/plain": [
       "<Figure size 432x288 with 1 Axes>"
      ]
     },
     "metadata": {},
     "output_type": "display_data"
    },
    {
     "data": {
      "text/plain": [
       "<Figure size 1296x432 with 0 Axes>"
      ]
     },
     "metadata": {},
     "output_type": "display_data"
    }
   ],
   "source": [
    "plt.plot(brm_revenue_daily)\n",
    "plt.xlabel('day')\n",
    "plt.ylabel('revenue')\n",
    "plt.title(\"daily revenue bremen\")\n",
    "\n",
    "plt.figure(figsize = (18,6))\n",
    "\n",
    "plt.show()"
   ]
  },
  {
   "cell_type": "code",
   "execution_count": 15,
   "metadata": {},
   "outputs": [],
   "source": [
    "def revenue_bar(brm_revenue_daily,frb_revenue_daily):\n",
    "    labels=['max','min','mean']\n",
    "    data=[[brm_revenue_daily[\"revenue\"].max(),brm_revenue_daily[\"revenue\"].min()\n",
    "           ,brm_revenue_daily[\"revenue\"].mean()],[frb_revenue_daily[\"revenue\"].max(),\n",
    "            frb_revenue_daily[\"revenue\"].min(),frb_revenue_daily[\"revenue\"].mean()]]                                                \n",
    "    data[0]=[1260,82,517.18]\n",
    "    data[1]=[1272,1,620.97]\n",
    "    x=np.arange(len(labels)) \n",
    "    fig, ax = plt.subplots()\n",
    "    ax.set_ylabel('Revenue')\n",
    "    ax.set_title('Daily revenue in comparison ')\n",
    "    ax.set_xticks(x)\n",
    "    ax.set_xticklabels(labels) \n",
    "    width = 0.5                                                  \n",
    "    rects1 = ax.bar(x+0.5, data[0], width,color='b', label='Bremen')\n",
    "    rects2 = ax.bar(x, data[1], width, color='g',label='Freiburg')\n",
    "    \n",
    "    def autolabel(rects):\n",
    "       for rect in rects:\n",
    "            height = rect.get_height()\n",
    "            ax.annotate('{}'.format(height),\n",
    "                    xy=(rect.get_x() + rect.get_width() / 2, height),\n",
    "                    xytext=(0, 3),  # 3 points vertical offset\n",
    "                    textcoords=\"offset points\",\n",
    "                    ha='center', va='bottom')\n",
    "\n",
    "    autolabel(rects1)\n",
    "    autolabel(rects2)\n",
    "    ax.legend()\n",
    "    plt.show()"
   ]
  },
  {
   "cell_type": "markdown",
   "metadata": {},
   "source": [
    "### Comparison of Revenue between Bremen and Freiburg"
   ]
  },
  {
   "cell_type": "code",
   "execution_count": 16,
   "metadata": {
    "scrolled": false
   },
   "outputs": [
    {
     "data": {
      "image/png": "[encoded data removed]",
      "text/plain": [
       "<Figure size 432x288 with 1 Axes>"
      ]
     },
     "metadata": {},
     "output_type": "display_data"
    }
   ],
   "source": [
    "revenue_bar(brm_revenue_daily,frb_revenue_daily)"
   ]
  },
  {
   "cell_type": "markdown",
   "metadata": {},
   "source": [
    "## Conclusion"
   ]
  },
  {
   "cell_type": "markdown",
   "metadata": {},
   "source": [
    "The average revenue of Freiburg is way higher than in Bremen."
   ]
  },
  {
   "cell_type": "markdown",
   "metadata": {},
   "source": [
    "A explanation for this result might be that in Freiburg there is a higher percentage of students. In Freiburg there are approx. 10,44 % students. In comparison in Bremen there are only 3,33% students. We guess that younger people especially students use bikes more often than older people. "
   ]
  }
 ],
 "metadata": {
  "kernelspec": {
   "display_name": "Python 3",
   "language": "python",
   "name": "python3"
  },
  "language_info": {
   "codemirror_mode": {
    "name": "ipython",
    "version": 3
   },
   "file_extension": ".py",
   "mimetype": "text/x-python",
   "name": "python",
   "nbconvert_exporter": "python",
   "pygments_lexer": "ipython3",
   "version": "3.7.7"
  }
 },
 "nbformat": 4,
 "nbformat_minor": 4
}
