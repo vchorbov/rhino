{
 "cells": [
  {
   "cell_type": "markdown",
   "metadata": {
    "pycharm": {
     "name": "#%% md\n"
    }
   },
   "source": [
    "# Demand"
   ]
  },
  {
   "cell_type": "code",
   "execution_count": 1,
   "metadata": {},
   "outputs": [],
   "source": [
    "import pandas as pd\n",
    "import seaborn as sns\n",
    "sns.set()\n",
    "sns.set_style(\"whitegrid\")\n",
    "sns.set_palette(\"GnBu_d\")"
   ]
  },
  {
   "cell_type": "code",
   "execution_count": 2,
   "metadata": {},
   "outputs": [],
   "source": [
    "brm = pd.read_csv(\"../generated/brm_cleaned.csv\")\n",
    "frb = pd.read_csv(\"../generated/frb_cleaned.csv\")"
   ]
  },
  {
   "cell_type": "code",
   "execution_count": 3,
   "metadata": {},
   "outputs": [],
   "source": [
    "def calc_demand(frame):\n",
    "    frame[\"trip_duration\"] = frame[\"trip_duration\"].apply(pd.Timedelta) #convert time column to a useful type\n",
    "    daily_driven = frame.groupby(\"day\").agg({\"trip_duration\":\"sum\"}) #aggregate daily driven time\n",
    "    #For a more detailed aggregation we add a daytime to the variables, so we can calculate time driven by daytime.\n",
    "    #This also allows a better mapping of how weather effects demand.\n",
    "    morning = frame[(frame[\"time\"] > \"06:00:00\") & (frame[\"time\"] <= \"11:00:00\")] #saving rows where time is in defined range to a new df\n",
    "    noon = frame[(frame[\"time\"] > \"11:00:00\") & (frame[\"time\"] <= \"16:00:00\")]\n",
    "    evening = frame[(frame[\"time\"] > \"16:00:00\") & (frame[\"time\"] <= \"21:00:00\")]\n",
    "    night = frame[(frame[\"time\"] > \"21:00:00\")] + frame[(frame[\"time\"] <= \"06:00:00\")]\n",
    "    for i in morning.index: # using indexes from lists above to cycle through the whole data\n",
    "       frame.at[i , \"daytime\"] = 0 # morning refers to 0\n",
    "    for i in noon.index:\n",
    "       frame.at[i , \"daytime\"] = 1 # noon -> 1\n",
    "    for i in evening.index:\n",
    "       frame.at[i , \"daytime\"] = 2 # evening -> 2\n",
    "    for i in night.index:\n",
    "       frame.at[i , \"daytime\"] = 3 # night -> 3\n",
    "    frame[\"daytime\"] = frame[\"daytime\"].map(lambda x: (int(x))) #map integer for daytime instead of float\n",
    "    return frame\n",
    "    "
   ]
  },
  {
   "cell_type": "markdown",
   "metadata": {
    "pycharm": {
     "name": "#%% md\n"
    }
   },
   "source": [
    "summarizing data over day and daytime via aggregation of the trip durations taken."
   ]
  },
  {
   "cell_type": "code",
   "execution_count": 4,
   "metadata": {
    "pycharm": {
     "name": "#%%\n"
    }
   },
   "outputs": [],
   "source": [
    "frb_demand = calc_demand(frb)\n",
    "frb_daytime_driven = frb_demand.groupby([\"day\",\"daytime\"]).agg({\"trip_duration\":\"sum\"})\n",
    "frb_daytime_driven[\"trip_duration\"] = frb_daytime_driven[\"trip_duration\"].astype(str).str.extract(\"days (.*?)\\.\")"
   ]
  },
  {
   "cell_type": "code",
   "execution_count": 5,
   "metadata": {
    "pycharm": {
     "name": "#%%\n"
    }
   },
   "outputs": [],
   "source": [
    "brm_demand = calc_demand(brm)\n",
    "brm_daytime_driven = brm_demand.groupby([\"day\",\"daytime\"]).agg({\"trip_duration\":\"sum\"})\n",
    "brm_daytime_driven[\"trip_duration\"] = brm_daytime_driven[\"trip_duration\"].astype(str).str.extract(\"days (.*?)\\.\")"
   ]
  },
  {
   "cell_type": "markdown",
   "metadata": {
    "pycharm": {
     "name": "#%% md\n"
    }
   },
   "source": [
    "export data by hours and summarizing the trips taken in these time sections"
   ]
  },
  {
   "cell_type": "code",
   "execution_count": 6,
   "metadata": {
    "pycharm": {
     "name": "#%%\n"
    }
   },
   "outputs": [],
   "source": [
    "frb_demand[\"hour\"] = frb_demand[\"time\"].str[:-6]\n",
    "frb_hourly_driven = frb_demand.groupby([\"day\",\"hour\"]).agg({\"trip_duration\":\"sum\"})\n",
    "frb_hourly_driven.to_csv(\"../generated/frb_hourly_driven.csv\")"
   ]
  },
  {
   "cell_type": "code",
   "execution_count": 7,
   "metadata": {
    "pycharm": {
     "name": "#%%\n"
    }
   },
   "outputs": [],
   "source": [
    "brm[\"hour\"] = brm[\"time\"].str[:-6]\n",
    "brm_hourly_driven = brm.groupby([\"day\",\"hour\"]).agg({\"trip_duration\":\"sum\"})\n",
    "brm_hourly_driven.to_csv(\"../generated/brm_hourly_driven.csv\")"
   ]
  }
 ],
 "metadata": {
  "kernelspec": {
   "display_name": "Python 3",
   "language": "python",
   "name": "python3"
  },
  "language_info": {
   "codemirror_mode": {
    "name": "ipython",
    "version": 3
   },
   "file_extension": ".py",
   "mimetype": "text/x-python",
   "name": "python",
   "nbconvert_exporter": "python",
   "pygments_lexer": "ipython3",
   "version": "3.7.7"
  }
 },
 "nbformat": 4,
 "nbformat_minor": 4
}