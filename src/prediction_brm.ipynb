{
 "cells": [
  {
   "cell_type": "code",
   "execution_count": 1,
   "metadata": {},
   "outputs": [],
   "source": [
    "import pandas as pd \n",
    "import numpy as np\n",
    "import matplotlib.pyplot as plt\n",
    "%matplotlib inline\n",
    "import seaborn as sns\n",
    "sns.set()\n",
    "sns.set_style(\"whitegrid\")\n",
    "sns.set_palette(\"GnBu_d\")\n",
    "import warnings\n",
    "warnings.filterwarnings(\"ignore\")\n",
    "from sklearn.linear_model import LinearRegression, Ridge, Lasso\n",
    "from sklearn.preprocessing import PolynomialFeatures\n",
    "\n",
    "from sklearn.model_selection import train_test_split\n",
    "from sklearn.metrics import mean_squared_error, mean_absolute_error, r2_score\n",
    "\n",
    "\n",
    "%matplotlib inline"
   ]
  },
  {
   "cell_type": "code",
   "execution_count": 2,
   "metadata": {},
   "outputs": [],
   "source": [
    "brm_hourly_driven = pd.read_csv(\"../generated/brm_hourly_driven.csv\")\n",
    "frb_hourly_driven = pd.read_csv(\"../generated/frb_hourly_driven.csv\")\n",
    "\n",
    "brm_hourly_weather = pd.read_csv(\"../generated/brm_hourly_weather.csv\")\n",
    "frb_hourly_weather = pd.read_csv(\"../generated/frb_hourly_weather.csv\")"
   ]
  },
  {
   "cell_type": "markdown",
   "metadata": {
    "pycharm": {
     "name": "#%% md\n"
    }
   },
   "source": [
    "## Prediction"
   ]
  },
  {
   "cell_type": "code",
   "execution_count": 85,
   "metadata": {},
   "outputs": [],
   "source": [
    "def merge_duration_and_weather(duration, weather):\n",
    "    return duration.merge(how=\"left\", left_on=[\"day\", \"hour\"], right_on=[\"day\",\"hour\"], right=weather)\n",
    "\n",
    "def timedelta_to_hours(timedelta_array):\n",
    "    return timedelta_array.map(lambda x: x / pd.Timedelta(\"1 hour\"))\n",
    "\n",
    "def add_weekday(frame):\n",
    "    frame[\"day\"] = pd.to_datetime(frame[\"day\"])\n",
    "    frame[\"weekday\"] = frame[\"day\"].map(lambda x: x.weekday())\n",
    "    return frame\n",
    "    \n",
    "def split_weekday(frame):\n",
    "    frame = add_weekday(frame)\n",
    "    weekdays = [None]*7\n",
    "    for i in range(0,6):\n",
    "        weekdays[i] = frame[frame[\"weekday\"]==i]\n",
    "    return weekdays\n",
    "\n",
    "def regression(frame,frame_model):\n",
    "    y = frame[\"trip_duration\"]\n",
    "    X = frame[[\"temperature\",\"precipitation\"]]\n",
    "    frame_model.fit(X, y)\n",
    "    predict = frame_model.predict(X)\n",
    "    return predict\n",
    "\n",
    "def plot_regression(X,y, predict):\n",
    "    plt.figure(figsize = (8,6))\n",
    "    plt.scatter(X, y, marker=\"x\")\n",
    "    plt.xlabel(\"temperature in °C\")\n",
    "    plt.ylabel(\"trip duration in h\")\n",
    "    plt.plot(X, predict, c='C2')\n",
    "    plt.legend(['Squared loss fit','Observed hours'])\n",
    "\n",
    "\n",
    "def split(X, y, train_size, validate_size):\n",
    "    if (train_size+validate_size) <= 1:\n",
    "        x_train, x_tmp, y_train, y_tmp = train_test_split(X, y, test_size=(1-train_size))\n",
    "        x_validate, x_test, y_validate, y_test = train_test_split(x_tmp, y_tmp, test_size=(1-validate_size/(1-train_size)))\n",
    "        return x_train, x_validate, x_test, y_train, y_validate, y_test\n",
    "\n",
    "    \n",
    "    \n",
    "def linear_regression(X, y):\n",
    "\n",
    "    x_train, x_test, y_train, y_test = train_test_split(X, y, test_size=0.2)\n",
    "\n",
    "    model = LinearRegression()\n",
    "    model.fit(x_train, y_train)\n",
    "    print(\"Coefficients \", model.coef_, \"\\nIntercept \", model.intercept_ )\n",
    "    predict = model.predict(x_test)\n",
    "    print(\"MSE: \", mean_squared_error(y_test, predict))\n",
    "    print (\"R^2: \" ,r2_score(y_test, predict))\n",
    "\n",
    "\n",
    "def polynomial_regression(X, y, degree):\n",
    "\n",
    "    x_train, x_test, y_train, y_test = train_test_split(X, y, test_size=0.2)\n",
    "\n",
    "    model = LinearRegression()\n",
    "    poly_features = PolynomialFeatures(degree=degree)\n",
    "    x_poly = poly_features.fit_transform(x_train)\n",
    "    x_poly_test = poly_features.fit_transform(x_test)\n",
    "    model.fit(x_poly, y_train)\n",
    "\n",
    "    print(\"Coefficients \", model.coef_, \"\\nIntercept \", model.intercept_ )\n",
    "    predict = model.predict(x_poly_test)\n",
    "    print(\"MSE:\", mean_squared_error(y_test, predict))\n",
    "    print (\"R^2: \" ,r2_score(y_test, predict))\n",
    "\n",
    "\n",
    "def ridge_regression(X, y, degree, alpha):\n",
    "\n",
    "    x_train, x_test, y_train, y_test = train_test_split(X, y, test_size=0.2)\n",
    "    poly_features = PolynomialFeatures(degree=degree)\n",
    "    x_poly = poly_features.fit_transform(x_train)\n",
    "    x_poly_test = poly_features.fit_transform(x_test)\n",
    "\n",
    "    model = Ridge(alpha, normalize=True)\n",
    "    model.fit(x_poly, y_train)\n",
    "    print(\"Coefficients \", model.coef_, \"\\nIntercept \", model.intercept_ )\n",
    "    predict = model.predict(x_poly_test)\n",
    "    print(\"MSE:\", mean_squared_error(y_test, predict))\n",
    "\n",
    "\n",
    "\n",
    "def lasso_regression(X, y, degree, alpha):\n",
    "    x_train, x_validate, x_test, y_train, y_validate, y_test = split(X, y, train_size=0.6, validate_size=0.2)\n",
    "\n",
    "    poly_features = PolynomialFeatures(degree=degree)\n",
    "    x_poly = poly_features.fit_transform(x_train)\n",
    "    x_poly_validate = poly_features.fit_transform(x_validate)\n",
    "\n",
    "    model = Lasso(alpha)\n",
    "    model.fit(x_poly, y_train)\n",
    "\n",
    "    print(\"Coefficients \", model.coef_, \"\\nIntercept \", model.intercept_ )\n",
    "    predict = model.predict(x_poly_validate)\n",
    "    print(\"MSE:\", mean_squared_error(y_validate, predict))\n",
    "\n",
    "\n"
   ]
  },
  {
   "cell_type": "code",
   "execution_count": 4,
   "metadata": {},
   "outputs": [],
   "source": [
    "frb_hourly = merge_duration_and_weather(frb_hourly_driven, frb_hourly_weather)\n",
    "frb_hourly[\"trip_duration\"] = timedelta_to_hours(frb_hourly[\"trip_duration\"])\n",
    "\n",
    "brm_hourly = merge_duration_and_weather(brm_hourly_driven, brm_hourly_weather)\n",
    "brm_hourly[\"trip_duration\"] = timedelta_to_hours(brm_hourly[\"trip_duration\"])\n",
    "\n",
    "frb_weekdays = split_weekday(frb_hourly)\n",
    "brm_weekdays = split_weekday(brm_hourly)"
   ]
  },
  {
   "cell_type": "code",
   "execution_count": 5,
   "metadata": {},
   "outputs": [],
   "source": [
    "trip_duration = frb_weekdays[0][\"trip_duration\"]\n",
    "f1 = frb_weekdays[0][\"temperature\"]\n",
    "f2 = frb_weekdays[0][\"precipitation\"]\n",
    "f3 = frb_weekdays[0][\"hour\"]"
   ]
  },
  {
   "cell_type": "markdown",
   "metadata": {
    "pycharm": {
     "name": "#%% md\n"
    }
   },
   "source": [
    "Example plot for mondays"
   ]
  },
  {
   "cell_type": "code",
   "execution_count": 6,
   "metadata": {},
   "outputs": [
    {
     "data": {
      "image/png": "[encoded data removed]",
      "text/plain": [
       "<Figure size 864x288 with 3 Axes>"
      ]
     },
     "metadata": {
      "needs_background": "light"
     },
     "output_type": "display_data"
    }
   ],
   "source": [
    "fig = plt.figure(figsize = (12,4))\n",
    "ax = fig.add_subplot(1,3,1)\n",
    "ax.scatter(f1,trip_duration, marker='x')\n",
    "ax.set_xlabel(\"High Temperature (°C)\")\n",
    "ax.set_ylabel(\"Trip Duration (min)\")\n",
    "bx =  fig.add_subplot(1,3,2)\n",
    "bx.scatter(f2,trip_duration, marker='x')\n",
    "bx.set_xlabel(\"Precipitation (mm)\")\n",
    "bx.set_ylabel(\"Trip Duration (min)\")\n",
    "cx =  fig.add_subplot(1,3,3)\n",
    "cx.scatter(f3,trip_duration, marker='x')\n",
    "cx.set_xlabel(\"Hour of day\")\n",
    "cx.set_ylabel(\"Trip Duration (min)\")\n",
    "plt.show()"
   ]
  },
  {
   "cell_type": "code",
   "execution_count": 79,
   "metadata": {
    "pycharm": {
     "name": "#%%\n"
    }
   },
   "outputs": [],
   "source": [
    "#Split\n",
    "\n",
    "features = frb_hourly[[\"precipitation\", \"temperature\", \"hour\"]]\n",
    "predictor = frb_hourly[\"trip_duration\"]"
   ]
  },
  {
   "cell_type": "markdown",
   "metadata": {
    "pycharm": {
     "name": "#%% md\n"
    }
   },
   "source": [
    "###  Linear regression"
   ]
  },
  {
   "cell_type": "code",
   "execution_count": 83,
   "metadata": {
    "pycharm": {
     "name": "#%%\n"
    }
   },
   "outputs": [
    {
     "name": "stdout",
     "output_type": "stream",
     "text": [
      "Coefficients  [-0.38696179  0.02775147  0.0970149 ] \n",
      "Intercept  2.382499702591924\n",
      "MSE:  8.238121723389165\n",
      "R^2:  -14.348289057359638\n"
     ]
    }
   ],
   "source": [
    "linear_regression(features, predictor)"
   ]
  },
  {
   "cell_type": "markdown",
   "metadata": {
    "pycharm": {
     "name": "#%% md\n"
    }
   },
   "source": [
    "### Polynomial regression"
   ]
  },
  {
   "cell_type": "code",
   "execution_count": 84,
   "metadata": {
    "pycharm": {
     "name": "#%%\n"
    }
   },
   "outputs": [
    {
     "name": "stdout",
     "output_type": "stream",
     "text": [
      "Coefficients  [ 0.00000000e+00  9.50668614e-01  1.29393559e-01 -9.30853378e-02\n",
      "  8.62655636e-01 -2.85634062e-01 -3.72610269e-01 -1.47519514e-02\n",
      "  2.00921415e-02  5.69517148e-02 -1.60371256e-02 -3.12726739e-02\n",
      "  4.77386255e-03  1.16503297e-02  3.39817959e-03  1.11827301e-02\n",
      "  1.84230916e-04  1.71145839e-04 -1.00822107e-03 -2.25520099e-03] \n",
      "Intercept  1.6030123575106745\n",
      "MSE: 9.956761289189462\n",
      "R^2:  -0.017160847383539846\n"
     ]
    }
   ],
   "source": [
    "polynomial_regression(features, predictor, 3)"
   ]
  },
  {
   "cell_type": "markdown",
   "metadata": {
    "pycharm": {
     "name": "#%% md\n"
    }
   },
   "source": [
    "### Ridge regression"
   ]
  },
  {
   "cell_type": "code",
   "execution_count": 16,
   "metadata": {
    "pycharm": {
     "name": "#%%\n"
    }
   },
   "outputs": [
    {
     "name": "stdout",
     "output_type": "stream",
     "text": [
      "Coefficients  [ 0.00000000e+00  5.56997034e-02  8.34539295e-02  6.45760277e-01\n",
      "  9.96840006e-02 -1.37983461e-04 -1.19207372e-01 -6.10382080e-03\n",
      "  4.91150120e-03  5.77587744e-04 -1.00167457e-02  9.87805295e-03\n",
      "  4.45089832e-03 -5.12554553e-03 -6.00899501e-03  6.93672836e-03\n",
      "  3.30370778e-05  1.25445671e-04 -4.39545792e-04 -1.04848893e-03] \n",
      "Intercept  0.17762583695402867\n",
      "MSE: 8.396955289770998\n"
     ]
    }
   ],
   "source": [
    "ridge_regression(features, predictor, 3, 0.01)"
   ]
  },
  {
   "cell_type": "markdown",
   "metadata": {},
   "source": [
    "### Lasso regression"
   ]
  },
  {
   "cell_type": "code",
   "execution_count": 13,
   "metadata": {
    "pycharm": {
     "name": "#%%\n"
    }
   },
   "outputs": [
    {
     "name": "stdout",
     "output_type": "stream",
     "text": [
      "Coefficients  [ 0.00000000e+00  7.85874186e-01  1.23805532e-01  5.83961476e-01\n",
      "  3.62733811e-01 -3.01105973e-02 -1.88017443e-01 -7.52580900e-03\n",
      "  7.28025417e-03  1.31228009e-03 -3.06261816e-01  7.22543504e-02\n",
      "  3.55479328e-02 -9.61974743e-03 -5.86718831e-03  7.08727797e-03\n",
      "  2.35418011e-05  2.24401358e-04 -5.79685444e-04 -9.74724403e-04] \n",
      "Intercept  -0.13896679764729747\n",
      "MSE: 16.312734819788197\n"
     ]
    }
   ],
   "source": [
    "ridge_regression(features, predictor, 3, 0.01)"
   ]
  },
  {
   "cell_type": "markdown",
   "metadata": {
    "pycharm": {
     "name": "#%% md\n"
    }
   },
   "source": [
    "Split the data set into traing(60%), validation(20%), test(20%) setst to prevent leakage."
   ]
  },
  {
   "cell_type": "code",
   "execution_count": null,
   "metadata": {
    "pycharm": {
     "name": "#%%\n"
    }
   },
   "outputs": [],
   "source": [
    "x_train, x_validate, x_test = np.split(brm_weekdays[0]['temperature'].sample(frac=1), [int(.6*len(brm_weekdays[0]['temperature'])), int(.8*len(brm_weekdays[0]['temperature']))])\n",
    "y_train, y_validate, y_test = np.split(brm_weekdays[0]['trip_duration'].sample(frac=1), [int(.6*len(brm_weekdays[0]['trip_duration'])), int(.8*len(brm_weekdays[0]['trip_duration']))])"
   ]
  },
  {
   "cell_type": "code",
   "execution_count": null,
   "metadata": {
    "scrolled": true
   },
   "outputs": [],
   "source": [
    "plt.scatter(x_train, y_train, label = \"Training Data\", color = \"r\", alpha =.7)\n",
    "plt.scatter(x_test, y_test, label = \"Test Data\", color = \"b\", alpha =.7)\n",
    "plt.scatter(x_validate, y_validate, label = \"Validation Data\", color = \"g\", alpha =.7)\n",
    "plt.legend()\n",
    "plt.title(\"Train_Test_Validate Split\")\n",
    "plt.show()"
   ]
  },
  {
   "cell_type": "code",
   "execution_count": null,
   "metadata": {},
   "outputs": [],
   "source": [
    "#Create linear model and train it \n",
    "lr = LinearRegression()\n",
    "lr.fit(x_train.values.reshape(-1, 1), y_train.values)"
   ]
  },
  {
   "cell_type": "code",
   "execution_count": null,
   "metadata": {},
   "outputs": [],
   "source": [
    "# Use model to predict on test data\n",
    "prediction = lr.predict(x_test.values.reshape(-1, 1))\n",
    "\n",
    "# Plot prediction line against actual test data \n",
    "plt.plot(x_test, prediction, label='Linear Regression', color = 'r')\n",
    "plt.scatter(x_test, y_test, label='Actual test data', color = 'b', alpha=.7)\n",
    "plt.legend()\n",
    "plt.show()"
   ]
  },
  {
   "cell_type": "markdown",
   "metadata": {},
   "source": [
    "The best score that we could achieve for a model is 1.0. \n",
    "~Soo our linear model is not that great..."
   ]
  },
  {
   "cell_type": "code",
   "execution_count": null,
   "metadata": {},
   "outputs": [],
   "source": [
    "# Plot prediction line against actual test data \n",
    "prediction = lr.predict(x_validate.values.reshape(-1, 1))\n",
    "plt.plot(x_validate, prediction, label='Linear Regression', color = 'r')\n",
    "plt.scatter(x_validate, y_validate, label='Actual test data', color = 'g', alpha=.7)\n",
    "plt.legend()\n",
    "plt.show()"
   ]
  },
  {
   "cell_type": "code",
   "execution_count": null,
   "metadata": {},
   "outputs": [],
   "source": [
    "# Score the model \n",
    "lr.score(x_validate.values.reshape(-1, 1), y_validate.values)"
   ]
  },
  {
   "cell_type": "code",
   "execution_count": null,
   "metadata": {},
   "outputs": [],
   "source": [
    "from sklearn.metrics import mean_squared_error, mean_absolute_error, r2_score"
   ]
  },
  {
   "cell_type": "code",
   "execution_count": null,
   "metadata": {},
   "outputs": [],
   "source": [
    "y_true = y_validate\n",
    "y_pred = lr.predict(x_validate.values.reshape((-1,1)))"
   ]
  },
  {
   "cell_type": "code",
   "execution_count": null,
   "metadata": {},
   "outputs": [],
   "source": [
    "print(\"Mean Squared Error:\",mean_squared_error(y_pred, y_true))\n",
    "print(\"Root Mean Squared Error:\",mean_squared_error(y_pred, y_true)**0.5)\n",
    "print(\"Coefficient of determination:\",r2_score(y_pred, y_true))"
   ]
  },
  {
   "cell_type": "markdown",
   "metadata": {},
   "source": [
    "### Polynomial  regression"
   ]
  },
  {
   "cell_type": "code",
   "execution_count": null,
   "metadata": {},
   "outputs": [],
   "source": [
    "from sklearn.preprocessing import PolynomialFeatures\n"
   ]
  },
  {
   "cell_type": "code",
   "execution_count": null,
   "metadata": {},
   "outputs": [],
   "source": [
    "def plot_regression_poly(X,Y,d):\n",
    "    \n",
    "    # initialize PolynomialFeatures\n",
    "    poly_reg = PolynomialFeatures (degree = d)\n",
    "    \n",
    "    # Polynomial transformation\n",
    "    x_poly = poly_reg.fit_transform(X.reshape(-1,1))\n",
    "    lin_reg_Poly = LinearRegression()\n",
    "    \n",
    "    # Fitting linear regression to polynomial features\n",
    "    lin_reg_Poly.fit(x_poly, Y)\n",
    "    model_pred = lin_reg_Poly.predict(x_poly)\n",
    "    \n",
    "    # Plotting the regression line and the data (we have to transform the inputs as well!)\n",
    "    x_fit = np.arange(X.min(),X.max() ,1)[:, np.newaxis]\n",
    "    y_pred = lin_reg_Poly.predict(poly_reg.fit_transform(x_fit.reshape(-1,1)))\n",
    "    \n",
    "    plt.figure(figsize = (8,6))\n",
    "    plt.scatter(X,Y,marker=\"o\", c='C2')\n",
    "    ylim = plt.ylim()\n",
    "    plt.plot(x_fit,y_pred, c='C1')\n",
    "    plt.xlabel(\"Temperature (°C)\")\n",
    "    plt.ylabel(\"Demand (Min)\")\n",
    "    plt.xlim([X.min()-2,X.max()+2]) # leave some space before and after limits\n",
    "    plt.ylim(ylim)\n",
    "    print ('The R^2 for quadratic curve is: ',r2_score(Y, model_pred))\n",
    "    print(lin_reg_Poly.coef_) "
   ]
  },
  {
   "cell_type": "code",
   "execution_count": null,
   "metadata": {},
   "outputs": [],
   "source": [
    "xp = x_train.values\n",
    "\n",
    "yp = y_train \n",
    "\n",
    "plot_regression_poly(X = xp, Y = yp, d = 4)"
   ]
  },
  {
   "cell_type": "code",
   "execution_count": null,
   "metadata": {},
   "outputs": [],
   "source": [
    "xp = x_test.values\n",
    "\n",
    "yp = y_test \n",
    "\n",
    "plot_regression_poly(X = xp, Y = yp, d = 4)"
   ]
  },
  {
   "cell_type": "code",
   "execution_count": null,
   "metadata": {},
   "outputs": [],
   "source": [
    "xp = x_validate.values\n",
    "\n",
    "yp = y_validate \n",
    "\n",
    "plot_regression_poly(X = xp, Y = yp, d = 4)"
   ]
  },
  {
   "cell_type": "code",
   "execution_count": null,
   "metadata": {},
   "outputs": [],
   "source": [
    "plot_regression_poly"
   ]
  },
  {
   "cell_type": "markdown",
   "metadata": {},
   "source": [
    "### Idea"
   ]
  },
  {
   "cell_type": "markdown",
   "metadata": {},
   "source": [
    "Split dataset into train_test_validate sets not for every hour individually but rather hourly."
   ]
  },
  {
   "cell_type": "code",
   "execution_count": null,
   "metadata": {},
   "outputs": [],
   "source": []
  }
 ],
 "metadata": {
  "kernelspec": {
   "display_name": "Python 3.7.6 64-bit ('base': conda)",
   "language": "python",
   "name": "python37664bitbaseconda644fbd5b017e47549473535c61dcc2b3"
  }
 },
 "nbformat": 4,
 "nbformat_minor": 4
}