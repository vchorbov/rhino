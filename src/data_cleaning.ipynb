{
 "cells": [
  {
   "cell_type": "code",
   "execution_count": 1,
   "metadata": {},
   "outputs": [],
   "source": [
    "import pandas as pd\n",
    "import seaborn as sns\n",
    "sns.set()\n",
    "sns.set_style(\"whitegrid\")\n",
    "sns.set_palette(\"GnBu_d\")\n",
    "from haversine import haversine # conda install -c conda-forge haversine ''"
   ]
  },
  {
   "cell_type": "code",
   "execution_count": 2,
   "metadata": {},
   "outputs": [],
   "source": [
    "brm = pd.read_csv(\"../resources/bremen.csv\")\n",
    "frb = pd.read_csv(\"../resources/freiburg.csv\")"
   ]
  },
  {
   "cell_type": "code",
   "execution_count": 3,
   "metadata": {},
   "outputs": [],
   "source": [
    "brm_origin = (brm[\"orig_lat\"]),(brm[\"orig_lng\"])\n",
    "brm_destination = (brm[\"dest_lat\"]),(brm[\"dest_lng\"])\n",
    "\n",
    "frb_origin = (frb[\"orig_lat\"]),(frb[\"orig_lng\"])\n",
    "frb_destination = (frb[\"dest_lat\"]),(frb[\"dest_lng\"])"
   ]
  },
  {
   "cell_type": "code",
   "execution_count": 4,
   "metadata": {},
   "outputs": [],
   "source": [
    "brm_distance = []\n",
    "for row in range(len(brm)):\n",
    "    brm_distance.append(haversine(\n",
    "        (brm_origin[0][row],brm_origin[1][row]),(brm_destination[0][row],brm_destination[1][row])\n",
    "    ))\n",
    "    \n",
    "brm[\"distance\"] = brm_distance"
   ]
  },
  {
   "cell_type": "code",
   "execution_count": 5,
   "metadata": {},
   "outputs": [],
   "source": [
    "frb_distance = []\n",
    "for row in range(len(frb)):\n",
    "    frb_distance.append(haversine(\n",
    "        (frb_origin[0][row],frb_origin[1][row]),(frb_destination[0][row],frb_destination[1][row])\n",
    "    ))\n",
    "    \n",
    "frb[\"distance\"] = frb_distance"
   ]
  },
  {
   "cell_type": "markdown",
   "metadata": {},
   "source": [
    "We checked the longest trip duration both for the city of Bremen and the city of Freiburg. By doing so we came to the conclusion that both durations are just under 3 hours. So by removing the day-values and the redundant milliseconds we are making the data easier to grasp for the average reader and easier to work with for the data scientist."
   ]
  },
  {
   "cell_type": "code",
   "execution_count": 6,
   "metadata": {},
   "outputs": [],
   "source": [
    "def timedelta_to_hours(timedelta_array):\n",
    "    return timedelta_array.map(lambda x: x / pd.Timedelta(\"1 hour\"))\n",
    "def drop_noise(frame):\n",
    "    index = frame[(frame[\"distance\"] < 0.1)].index\n",
    "    frame.drop(index, inplace=True)\n",
    "    frame = frame.reset_index(drop=True)\n",
    "    return frame\n",
    "def drop_kmh(frame):\n",
    "    frame[\"kmh\"] = (frame[\"distance\"] / frame[\"trip_duration\"])\n",
    "    index = frame[(frame[\"kmh\"] < 5)].index\n",
    "    frame.drop(index, inplace=True) \n",
    "    frame=frame.reset_index(drop=True)\n",
    "    frame = frame.drop(\"kmh\", 1)\n",
    "    return frame\n"
   ]
  },
  {
   "cell_type": "code",
   "execution_count": 7,
   "metadata": {},
   "outputs": [],
   "source": [
    "frb[\"trip_duration\"] = timedelta_to_hours(frb[\"trip_duration\"])\n",
    "brm[\"trip_duration\"] = timedelta_to_hours(brm[\"trip_duration\"])"
   ]
  },
  {
   "cell_type": "markdown",
   "metadata": {},
   "source": [
    "As part of the data cleaning we are making the assumption that all the trips with total distance under 100m are due to some kind of error, such as unintended log-in, hence they are removed from the data set.  \n",
    "After this procedure the dataset for the city of Bremen is reduced from 157 575 to 151 728 data points (5 847 rows were deleted).\n",
    "The length of the dataset for the city of Freiburg decreases from 127 528 to  126 970 (558 rows were deleted)."
   ]
  },
  {
   "cell_type": "code",
   "execution_count": 8,
   "metadata": {},
   "outputs": [],
   "source": [
    "frb = drop_noise(frb)\n",
    "brm = drop_noise(brm)"
   ]
  },
  {
   "cell_type": "markdown",
   "metadata": {},
   "source": [
    "Another assumption made for the purpose of data cleaning is that trips with average speed under 5kmh are also of no interest for us.\n",
    "Due to this assumtion another reduction in both datasets occurs.\n",
    "We are now left with 116 244 data points in Bremen (34 484 rows were deleted) and with 100879 data points in Freiburg (26 091 rows were deleted).\n",
    "And these are the final datasets on which we will perform our analysis."
   ]
  },
  {
   "cell_type": "code",
   "execution_count": 9,
   "metadata": {},
   "outputs": [],
   "source": [
    "brm = drop_kmh(brm)\n",
    "frb = drop_kmh(frb)"
   ]
  },
  {
   "cell_type": "code",
   "execution_count": 10,
   "metadata": {},
   "outputs": [
    {
     "data": {
      "text/html": [
       "<div>\n",
       "<style scoped>\n",
       "    .dataframe tbody tr th:only-of-type {\n",
       "        vertical-align: middle;\n",
       "    }\n",
       "\n",
       "    .dataframe tbody tr th {\n",
       "        vertical-align: top;\n",
       "    }\n",
       "\n",
       "    .dataframe thead th {\n",
       "        text-align: right;\n",
       "    }\n",
       "</style>\n",
       "<table border=\"1\" class=\"dataframe\">\n",
       "  <thead>\n",
       "    <tr style=\"text-align: right;\">\n",
       "      <th></th>\n",
       "      <th>day</th>\n",
       "      <th>time</th>\n",
       "      <th>b_number</th>\n",
       "      <th>city</th>\n",
       "      <th>trip_duration</th>\n",
       "      <th>orig_lat</th>\n",
       "      <th>orig_lng</th>\n",
       "      <th>dest_lat</th>\n",
       "      <th>dest_lng</th>\n",
       "      <th>distance</th>\n",
       "    </tr>\n",
       "  </thead>\n",
       "  <tbody>\n",
       "    <tr>\n",
       "      <th>116241</th>\n",
       "      <td>2019-11-17</td>\n",
       "      <td>18:39:00</td>\n",
       "      <td>20999</td>\n",
       "      <td>bremen</td>\n",
       "      <td>0.083333</td>\n",
       "      <td>53.072071</td>\n",
       "      <td>8.828776</td>\n",
       "      <td>53.070533</td>\n",
       "      <td>8.821335</td>\n",
       "      <td>0.525679</td>\n",
       "    </tr>\n",
       "    <tr>\n",
       "      <th>116242</th>\n",
       "      <td>2019-11-18</td>\n",
       "      <td>09:23:00</td>\n",
       "      <td>20999</td>\n",
       "      <td>bremen</td>\n",
       "      <td>0.150000</td>\n",
       "      <td>53.070369</td>\n",
       "      <td>8.821749</td>\n",
       "      <td>53.079360</td>\n",
       "      <td>8.813848</td>\n",
       "      <td>1.130559</td>\n",
       "    </tr>\n",
       "    <tr>\n",
       "      <th>116243</th>\n",
       "      <td>2019-11-19</td>\n",
       "      <td>15:35:00</td>\n",
       "      <td>20999</td>\n",
       "      <td>bremen</td>\n",
       "      <td>0.716667</td>\n",
       "      <td>53.079591</td>\n",
       "      <td>8.813925</td>\n",
       "      <td>53.145093</td>\n",
       "      <td>8.910599</td>\n",
       "      <td>9.730569</td>\n",
       "    </tr>\n",
       "    <tr>\n",
       "      <th>116244</th>\n",
       "      <td>2019-11-21</td>\n",
       "      <td>17:45:00</td>\n",
       "      <td>20999</td>\n",
       "      <td>bremen</td>\n",
       "      <td>0.183333</td>\n",
       "      <td>53.145798</td>\n",
       "      <td>8.909947</td>\n",
       "      <td>53.158160</td>\n",
       "      <td>8.945250</td>\n",
       "      <td>2.726051</td>\n",
       "    </tr>\n",
       "  </tbody>\n",
       "</table>\n",
       "</div>"
      ],
      "text/plain": [
       "               day      time  b_number    city  trip_duration   orig_lat  \\\n",
       "116241  2019-11-17  18:39:00     20999  bremen       0.083333  53.072071   \n",
       "116242  2019-11-18  09:23:00     20999  bremen       0.150000  53.070369   \n",
       "116243  2019-11-19  15:35:00     20999  bremen       0.716667  53.079591   \n",
       "116244  2019-11-21  17:45:00     20999  bremen       0.183333  53.145798   \n",
       "\n",
       "        orig_lng   dest_lat  dest_lng  distance  \n",
       "116241  8.828776  53.070533  8.821335  0.525679  \n",
       "116242  8.821749  53.079360  8.813848  1.130559  \n",
       "116243  8.813925  53.145093  8.910599  9.730569  \n",
       "116244  8.909947  53.158160  8.945250  2.726051  "
      ]
     },
     "execution_count": 10,
     "metadata": {},
     "output_type": "execute_result"
    }
   ],
   "source": [
    "brm.tail(4)"
   ]
  },
  {
   "cell_type": "code",
   "execution_count": 11,
   "metadata": {},
   "outputs": [
    {
     "data": {
      "text/html": [
       "<div>\n",
       "<style scoped>\n",
       "    .dataframe tbody tr th:only-of-type {\n",
       "        vertical-align: middle;\n",
       "    }\n",
       "\n",
       "    .dataframe tbody tr th {\n",
       "        vertical-align: top;\n",
       "    }\n",
       "\n",
       "    .dataframe thead th {\n",
       "        text-align: right;\n",
       "    }\n",
       "</style>\n",
       "<table border=\"1\" class=\"dataframe\">\n",
       "  <thead>\n",
       "    <tr style=\"text-align: right;\">\n",
       "      <th></th>\n",
       "      <th>day</th>\n",
       "      <th>time</th>\n",
       "      <th>b_number</th>\n",
       "      <th>city</th>\n",
       "      <th>trip_duration</th>\n",
       "      <th>orig_lat</th>\n",
       "      <th>orig_lng</th>\n",
       "      <th>dest_lat</th>\n",
       "      <th>dest_lng</th>\n",
       "      <th>distance</th>\n",
       "    </tr>\n",
       "  </thead>\n",
       "  <tbody>\n",
       "    <tr>\n",
       "      <th>100876</th>\n",
       "      <td>2020-01-20</td>\n",
       "      <td>08:14:00</td>\n",
       "      <td>32999</td>\n",
       "      <td>freiburg</td>\n",
       "      <td>0.200000</td>\n",
       "      <td>48.012050</td>\n",
       "      <td>7.854987</td>\n",
       "      <td>47.994729</td>\n",
       "      <td>7.846862</td>\n",
       "      <td>2.018664</td>\n",
       "    </tr>\n",
       "    <tr>\n",
       "      <th>100877</th>\n",
       "      <td>2020-01-20</td>\n",
       "      <td>09:10:00</td>\n",
       "      <td>32999</td>\n",
       "      <td>freiburg</td>\n",
       "      <td>0.066667</td>\n",
       "      <td>47.996100</td>\n",
       "      <td>7.846160</td>\n",
       "      <td>48.000858</td>\n",
       "      <td>7.849587</td>\n",
       "      <td>0.587308</td>\n",
       "    </tr>\n",
       "    <tr>\n",
       "      <th>100878</th>\n",
       "      <td>2020-01-20</td>\n",
       "      <td>13:55:00</td>\n",
       "      <td>32999</td>\n",
       "      <td>freiburg</td>\n",
       "      <td>0.116667</td>\n",
       "      <td>48.002664</td>\n",
       "      <td>7.851253</td>\n",
       "      <td>47.997430</td>\n",
       "      <td>7.842500</td>\n",
       "      <td>0.873416</td>\n",
       "    </tr>\n",
       "    <tr>\n",
       "      <th>100879</th>\n",
       "      <td>2020-01-20</td>\n",
       "      <td>14:16:00</td>\n",
       "      <td>32999</td>\n",
       "      <td>freiburg</td>\n",
       "      <td>0.300000</td>\n",
       "      <td>47.997430</td>\n",
       "      <td>7.842500</td>\n",
       "      <td>48.013770</td>\n",
       "      <td>7.807080</td>\n",
       "      <td>3.200782</td>\n",
       "    </tr>\n",
       "  </tbody>\n",
       "</table>\n",
       "</div>"
      ],
      "text/plain": [
       "               day      time  b_number      city  trip_duration   orig_lat  \\\n",
       "100876  2020-01-20  08:14:00     32999  freiburg       0.200000  48.012050   \n",
       "100877  2020-01-20  09:10:00     32999  freiburg       0.066667  47.996100   \n",
       "100878  2020-01-20  13:55:00     32999  freiburg       0.116667  48.002664   \n",
       "100879  2020-01-20  14:16:00     32999  freiburg       0.300000  47.997430   \n",
       "\n",
       "        orig_lng   dest_lat  dest_lng  distance  \n",
       "100876  7.854987  47.994729  7.846862  2.018664  \n",
       "100877  7.846160  48.000858  7.849587  0.587308  \n",
       "100878  7.851253  47.997430  7.842500  0.873416  \n",
       "100879  7.842500  48.013770  7.807080  3.200782  "
      ]
     },
     "execution_count": 11,
     "metadata": {},
     "output_type": "execute_result"
    }
   ],
   "source": [
    "frb.tail(4)"
   ]
  },
  {
   "cell_type": "code",
   "execution_count": null,
   "metadata": {},
   "outputs": [],
   "source": [
    "brm.to_csv(\"../resources/brm_cleaned.csv\")\n",
    "frb.to_csv(\"../resources/frb_cleaned.csv\")"
   ]
  }
 ],
 "metadata": {
  "kernelspec": {
   "display_name": "Python 3",
   "language": "python",
   "name": "python3"
  },
  "language_info": {
   "codemirror_mode": {
    "name": "ipython",
    "version": 3
   },
   "file_extension": ".py",
   "mimetype": "text/x-python",
   "name": "python",
   "nbconvert_exporter": "python",
   "pygments_lexer": "ipython3",
   "version": "3.7.6"
  }
 },
 "nbformat": 4,
 "nbformat_minor": 4
}
