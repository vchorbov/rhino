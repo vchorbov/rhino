{
 "cells": [
  {
   "cell_type": "code",
   "execution_count": 73,
   "metadata": {},
   "outputs": [],
   "source": [
    "import pandas as pd\n",
    "import matplotlib.pyplot as plt\n",
    "%matplotlib inline\n",
    "import numpy as np\n",
    "import matplotlib.pyplot as plt\n",
    "import seaborn as sns\n",
    "sns.set()\n",
    "sns.set_style(\"whitegrid\")\n",
    "sns.set_palette(\"GnBu_d\")\n",
    "import folium\n",
    "from folium import plugins\n",
    "from folium.plugins import HeatMap\n",
    "from datetime import datetime\n",
    "from datetime import timedelta\n",
    "import math\n",
    "import random \n",
    "import timeit\n",
    "from haversine import haversine\n",
    "import sklearn as sk"
   ]
  },
  {
   "cell_type": "code",
   "execution_count": 74,
   "metadata": {},
   "outputs": [],
   "source": [
    "brm = pd.read_csv(\"../resources/bremen.csv\")\n",
    "frb = pd.read_csv(\"../resources/freiburg.csv\")\n",
    "\n",
    "brm_hourly_driven = pd.read_csv(\"../generated/brm_hourly_driven.csv\")\n",
    "frb_hourly_driven = pd.read_csv(\"../generated/frb_hourly_driven.csv\")\n",
    "\n",
    "brm_hourly_weather = pd.read_csv(\"../generated/brm_hourly_weather.csv\")\n",
    "frb_hourly_weather = pd.read_csv(\"../generated/frb_hourly_weather.csv\")"
   ]
  },
  {
   "cell_type": "code",
   "execution_count": 75,
   "metadata": {},
   "outputs": [],
   "source": [
    "brm_hourly_driven[\"trip_duration\"] = brm_hourly_driven[\"trip_duration\"].apply(pd.Timedelta)\n",
    "frb_hourly_driven[\"trip_duration\"] = frb_hourly_driven[\"trip_duration\"].apply(pd.Timedelta)"
   ]
  },
  {
   "cell_type": "code",
   "execution_count": 76,
   "metadata": {},
   "outputs": [],
   "source": [
    "brm_hourly_combined = brm_hourly_weather.join(brm_hourly_driven[\"trip_duration\"])\n",
    "frb_hourly_combined = frb_hourly_weather.join(frb_hourly_driven[\"trip_duration\"])"
   ]
  },
  {
   "cell_type": "code",
   "execution_count": 77,
   "outputs": [],
   "source": [
    "brm_daily = brm_hourly_combined.groupby(\"day\").agg({\"trip_duration\":\"sum\",\"precipitation\":\"sum\",\"temperature\":\"mean\"})"
   ],
   "metadata": {
    "collapsed": false,
    "pycharm": {
     "name": "#%%\n"
    }
   }
  },
  {
   "cell_type": "code",
   "execution_count": 86,
   "outputs": [
    {
     "data": {
      "text/plain": "             trip_duration  precipitation  temperature  trip_duration_in_hours\nday                                                                           \n2019-01-20 1 days 15:17:00            0.0    -3.030435               39.283333\n2019-01-21 2 days 01:53:00            0.0    -2.880000               49.883333\n2019-01-22 1 days 16:06:00            0.0    -1.739130               40.100000\n2019-01-23 1 days 21:40:00            0.0    -4.676190               45.666667\n2019-01-24 1 days 19:51:00            0.0    -4.304167               43.850000\n...                    ...            ...          ...                     ...\n2020-01-16 4 days 02:53:00            0.0     6.272727               98.883333\n2020-01-17 5 days 07:34:00            0.9     7.550000              127.566667\n2020-01-18 3 days 13:46:00            2.3     4.037500               85.766667\n2020-01-19 3 days 23:47:00            0.3     3.383333               95.783333\n2020-01-20 3 days 19:05:00            0.0     4.504348               91.083333\n\n[363 rows x 4 columns]",
      "text/html": "<div>\n<style scoped>\n    .dataframe tbody tr th:only-of-type {\n        vertical-align: middle;\n    }\n\n    .dataframe tbody tr th {\n        vertical-align: top;\n    }\n\n    .dataframe thead th {\n        text-align: right;\n    }\n</style>\n<table border=\"1\" class=\"dataframe\">\n  <thead>\n    <tr style=\"text-align: right;\">\n      <th></th>\n      <th>trip_duration</th>\n      <th>precipitation</th>\n      <th>temperature</th>\n      <th>trip_duration_in_hours</th>\n    </tr>\n    <tr>\n      <th>day</th>\n      <th></th>\n      <th></th>\n      <th></th>\n      <th></th>\n    </tr>\n  </thead>\n  <tbody>\n    <tr>\n      <th>2019-01-20</th>\n      <td>1 days 15:17:00</td>\n      <td>0.0</td>\n      <td>-3.030435</td>\n      <td>39.283333</td>\n    </tr>\n    <tr>\n      <th>2019-01-21</th>\n      <td>2 days 01:53:00</td>\n      <td>0.0</td>\n      <td>-2.880000</td>\n      <td>49.883333</td>\n    </tr>\n    <tr>\n      <th>2019-01-22</th>\n      <td>1 days 16:06:00</td>\n      <td>0.0</td>\n      <td>-1.739130</td>\n      <td>40.100000</td>\n    </tr>\n    <tr>\n      <th>2019-01-23</th>\n      <td>1 days 21:40:00</td>\n      <td>0.0</td>\n      <td>-4.676190</td>\n      <td>45.666667</td>\n    </tr>\n    <tr>\n      <th>2019-01-24</th>\n      <td>1 days 19:51:00</td>\n      <td>0.0</td>\n      <td>-4.304167</td>\n      <td>43.850000</td>\n    </tr>\n    <tr>\n      <th>...</th>\n      <td>...</td>\n      <td>...</td>\n      <td>...</td>\n      <td>...</td>\n    </tr>\n    <tr>\n      <th>2020-01-16</th>\n      <td>4 days 02:53:00</td>\n      <td>0.0</td>\n      <td>6.272727</td>\n      <td>98.883333</td>\n    </tr>\n    <tr>\n      <th>2020-01-17</th>\n      <td>5 days 07:34:00</td>\n      <td>0.9</td>\n      <td>7.550000</td>\n      <td>127.566667</td>\n    </tr>\n    <tr>\n      <th>2020-01-18</th>\n      <td>3 days 13:46:00</td>\n      <td>2.3</td>\n      <td>4.037500</td>\n      <td>85.766667</td>\n    </tr>\n    <tr>\n      <th>2020-01-19</th>\n      <td>3 days 23:47:00</td>\n      <td>0.3</td>\n      <td>3.383333</td>\n      <td>95.783333</td>\n    </tr>\n    <tr>\n      <th>2020-01-20</th>\n      <td>3 days 19:05:00</td>\n      <td>0.0</td>\n      <td>4.504348</td>\n      <td>91.083333</td>\n    </tr>\n  </tbody>\n</table>\n<p>363 rows × 4 columns</p>\n</div>"
     },
     "execution_count": 86,
     "metadata": {},
     "output_type": "execute_result"
    }
   ],
   "source": [
    "brm_daily[\"trip_duration_in_hours\"] = brm_daily[\"trip_duration\"].map(lambda x: (x.total_seconds() / 60 / 60))\n",
    "brm_daily\n"
   ],
   "metadata": {
    "collapsed": false,
    "pycharm": {
     "name": "#%%\n"
    }
   }
  },
  {
   "cell_type": "code",
   "execution_count": 79,
   "outputs": [
    {
     "data": {
      "text/plain": "array([[Timedelta('1 days 15:17:00'), 0.0, -3.0304347826086953, 141420.0],\n       [Timedelta('2 days 01:53:00'), 0.0, -2.8799999999999994, 179580.0],\n       [Timedelta('1 days 16:06:00'), 0.0, -1.7391304347826086, 144360.0],\n       ...,\n       [Timedelta('3 days 13:46:00'), 2.3000000000000007,\n        4.037499999999999, 308760.0],\n       [Timedelta('3 days 23:47:00'), 0.30000000000000004,\n        3.3833333333333333, 344820.0],\n       [Timedelta('3 days 19:05:00'), 0.0, 4.504347826086957, 327900.0]],\n      dtype=object)"
     },
     "execution_count": 79,
     "metadata": {},
     "output_type": "execute_result"
    }
   ],
   "source": [
    "x = brm_daily.values\n",
    "x"
   ],
   "metadata": {
    "collapsed": false,
    "pycharm": {
     "name": "#%%\n"
    }
   }
  },
  {
   "cell_type": "code",
   "execution_count": 80,
   "outputs": [],
   "source": [
    "# brm_daily[\"trip_duration\"] = brm_daily[\"trip_duration\"].map(lambda x: x.seconds())"
   ],
   "metadata": {
    "collapsed": false,
    "pycharm": {
     "name": "#%%\n"
    }
   }
  },
  {
   "cell_type": "code",
   "execution_count": 81,
   "metadata": {},
   "outputs": [
    {
     "data": {
      "text/plain": "array([[Timedelta('1 days 15:17:00'), 0.0, -3.0304347826086953, 141420.0],\n       [Timedelta('2 days 01:53:00'), 0.0, -2.8799999999999994, 179580.0],\n       [Timedelta('1 days 16:06:00'), 0.0, -1.7391304347826086, 144360.0],\n       ...,\n       [Timedelta('3 days 13:46:00'), 2.3000000000000007,\n        4.037499999999999, 308760.0],\n       [Timedelta('3 days 23:47:00'), 0.30000000000000004,\n        3.3833333333333333, 344820.0],\n       [Timedelta('3 days 19:05:00'), 0.0, 4.504347826086957, 327900.0]],\n      dtype=object)"
     },
     "execution_count": 81,
     "metadata": {},
     "output_type": "execute_result"
    }
   ],
   "source": [
    "x = brm_daily.values\n",
    "x"
   ]
  },
  {
   "cell_type": "code",
   "execution_count": 82,
   "metadata": {},
   "outputs": [
    {
     "ename": "NameError",
     "evalue": "name 'preprocessing' is not defined",
     "output_type": "error",
     "traceback": [
      "\u001B[1;31m---------------------------------------------------------------------------\u001B[0m",
      "\u001B[1;31mNameError\u001B[0m                                 Traceback (most recent call last)",
      "\u001B[1;32m<ipython-input-82-b99bf110a8e4>\u001B[0m in \u001B[0;36m<module>\u001B[1;34m\u001B[0m\n\u001B[0;32m      1\u001B[0m \u001B[0mx\u001B[0m \u001B[1;33m=\u001B[0m \u001B[0mbrm_daily\u001B[0m\u001B[1;33m.\u001B[0m\u001B[0mvalues\u001B[0m \u001B[1;31m#returns a numpy array\u001B[0m\u001B[1;33m\u001B[0m\u001B[1;33m\u001B[0m\u001B[0m\n\u001B[1;32m----> 2\u001B[1;33m \u001B[0mmin_max_scaler\u001B[0m \u001B[1;33m=\u001B[0m \u001B[0mpreprocessing\u001B[0m\u001B[1;33m.\u001B[0m\u001B[0mMinMaxScaler\u001B[0m\u001B[1;33m(\u001B[0m\u001B[1;33m)\u001B[0m\u001B[1;33m\u001B[0m\u001B[1;33m\u001B[0m\u001B[0m\n\u001B[0m\u001B[0;32m      3\u001B[0m \u001B[0mx_scaled\u001B[0m \u001B[1;33m=\u001B[0m \u001B[0mmin_max_scaler\u001B[0m\u001B[1;33m.\u001B[0m\u001B[0mfit_transform\u001B[0m\u001B[1;33m(\u001B[0m\u001B[0mx\u001B[0m\u001B[1;33m)\u001B[0m\u001B[1;33m\u001B[0m\u001B[1;33m\u001B[0m\u001B[0m\n\u001B[0;32m      4\u001B[0m \u001B[0mdemand\u001B[0m \u001B[1;33m=\u001B[0m \u001B[0mpd\u001B[0m\u001B[1;33m.\u001B[0m\u001B[0mDataFrame\u001B[0m\u001B[1;33m(\u001B[0m\u001B[0mx_scaled\u001B[0m\u001B[1;33m)\u001B[0m\u001B[1;33m\u001B[0m\u001B[1;33m\u001B[0m\u001B[0m\n\u001B[0;32m      5\u001B[0m \u001B[1;33m\u001B[0m\u001B[0m\n",
      "\u001B[1;31mNameError\u001B[0m: name 'preprocessing' is not defined"
     ]
    }
   ],
   "source": [
    "brm_daily[\"trip_duration\"] = brm_daily[\"trip_duration\"].seconds()"
   ]
  },
  {
   "cell_type": "code",
   "execution_count": null,
   "metadata": {},
   "outputs": [],
   "source": [
    "x = brm_daily.values\n",
    "x"
   ]
  },
  {
   "cell_type": "code",
   "execution_count": null,
   "metadata": {},
   "outputs": [],
   "source": [
    "x = brm_daily.values #returns a numpy array\n",
    "min_max_scaler = preprocessing.MinMaxScaler()\n",
    "x_scaled = min_max_scaler.fit_transform(x)\n",
    "demand = pd.DataFrame(x_scaled)"
   ]
  },
  {
   "cell_type": "code",
   "execution_count": null,
   "metadata": {},
   "outputs": [],
   "source": [
    "plt.plot(brm_daily[\"precipitation\"])\n",
    "plt.show()"
   ]
  },
  {
   "cell_type": "code",
   "execution_count": null,
   "metadata": {},
   "outputs": [],
   "source": [
    "plt.plot(brm_daily[\"trip_duration\"])\n",
    "plt.show()"
   ]
  },
  {
   "cell_type": "code",
   "execution_count": null,
   "metadata": {},
   "outputs": [],
   "source": [
    "plt.plot(brm_daily[\"temperature\"])\n",
    "plt.show()"
   ]
  },
  {
   "cell_type": "code",
   "execution_count": null,
   "metadata": {},
   "outputs": [],
   "source": []
  }
 ],
 "metadata": {
  "kernelspec": {
   "display_name": "Python 3",
   "language": "python",
   "name": "python3"
  },
  "language_info": {
   "codemirror_mode": {
    "name": "ipython",
    "version": 3
   },
   "file_extension": ".py",
   "mimetype": "text/x-python",
   "name": "python",
   "nbconvert_exporter": "python",
   "pygments_lexer": "ipython3",
   "version": "3.7.7"
  }
 },
 "nbformat": 4,
 "nbformat_minor": 4
}