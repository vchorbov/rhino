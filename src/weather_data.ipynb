{
 "cells": [
  {
   "cell_type": "code",
   "execution_count": 1,
   "metadata": {
    "collapsed": false,
    "jupyter": {
     "outputs_hidden": false
    },
    "pycharm": {
     "name": "#%%\n"
    }
   },
   "outputs": [],
   "source": [
    "import pandas as pd\n",
    "from datetime import datetime\n",
    "import matplotlib.pyplot as plt\n",
    "%matplotlib inline"
   ]
  },
  {
   "cell_type": "markdown",
   "metadata": {},
   "source": [
    "## Defining methods to join bike_data and weather data"
   ]
  },
  {
   "cell_type": "code",
   "execution_count": 2,
   "metadata": {
    "collapsed": false,
    "jupyter": {
     "outputs_hidden": false
    },
    "pycharm": {
     "name": "#%%\n"
    }
   },
   "outputs": [],
   "source": [
    "def cut_timestamp(timestamp_col):\n",
    "    return timestamp_col.map(lambda x:int(str(x)[:10]))\n",
    "\n",
    "def assemble_timestamp_cut(day_frame, time_frame):\n",
    "    day_clean = day_frame.map(lambda x: x.replace(\"-\", \"\"))\n",
    "    hour = time_frame.map(lambda x: x.replace(\":\", \"\")[:2])\n",
    "    return (day_clean + hour).astype(\"int64\")\n",
    "\n",
    "def join_by_hour(bike_frame, weather_frame, column_name):\n",
    "    bike_frame[\"timestamp_cut\"] = assemble_timestamp_cut(bike_frame[\"day\"], bike_frame[\"time\"])\n",
    "    weather_frame[\"timestamp_cut\"] = cut_timestamp(weather_frame[\"Zeitstempel\"])\n",
    "    \n",
    "    joined = bike_frame.join(weather_frame[[\"Wert\", \"timestamp_cut\"]].set_index(\"timestamp_cut\"), on=\"timestamp_cut\")\n",
    "    joined[column_name] = joined[\"Wert\"]\n",
    "    \n",
    "    joined = joined.drop(\"Wert\", axis=1)\n",
    "    joined = joined.drop(\"timestamp_cut\", axis=1)\n",
    "    \n",
    "    return joined"
   ]
  },
  {
   "cell_type": "code",
   "execution_count": 3,
   "metadata": {
    "collapsed": false,
    "jupyter": {
     "outputs_hidden": false
    },
    "pycharm": {
     "name": "#%%\n"
    }
   },
   "outputs": [],
   "source": [
    "brm = pd.read_csv(\"../resources/bremen.csv\")\n",
    "frb = pd.read_csv(\"../resources/freiburg.csv\")\n",
    "\n",
    "brm_precipitation = pd.read_csv(\"../resources/bremen_precipitation.csv\")\n",
    "frb_precipitation = pd.read_csv(\"../resources/freiburg_precipitation.csv\")\n",
    "\n",
    "brm_temperature = pd.read_csv(\"../resources/bremen_temperature.csv\")\n",
    "frb_temperature = pd.read_csv(\"../resources/freiburg_temperature.csv\")\n",
    "\n",
    "schwarme_precipitation = pd.read_csv(\"../resources/schwarme_precipitation.csv\")\n",
    "bassum_precipitation = pd.read_csv(\"../resources/bassum_precipitation.csv\")"
   ]
  },
  {
   "cell_type": "markdown",
   "metadata": {},
   "source": [
    "Identifying missing values"
   ]
  },
  {
   "cell_type": "code",
   "execution_count": 4,
   "metadata": {
    "collapsed": false,
    "jupyter": {
     "outputs_hidden": false
    },
    "pycharm": {
     "name": "#%%\n"
    }
   },
   "outputs": [
    {
     "data": {
      "text/html": [
       "<div>\n",
       "<style scoped>\n",
       "    .dataframe tbody tr th:only-of-type {\n",
       "        vertical-align: middle;\n",
       "    }\n",
       "\n",
       "    .dataframe tbody tr th {\n",
       "        vertical-align: top;\n",
       "    }\n",
       "\n",
       "    .dataframe thead th {\n",
       "        text-align: right;\n",
       "    }\n",
       "</style>\n",
       "<table border=\"1\" class=\"dataframe\">\n",
       "  <thead>\n",
       "    <tr style=\"text-align: right;\">\n",
       "      <th></th>\n",
       "      <th>Zeitstempel</th>\n",
       "      <th>Produkt_Code</th>\n",
       "      <th>SDO_ID</th>\n",
       "      <th>Wert</th>\n",
       "      <th>Qualitaet_Niveau</th>\n",
       "      <th>Qualitaet_Byte</th>\n",
       "    </tr>\n",
       "  </thead>\n",
       "  <tbody>\n",
       "    <tr>\n",
       "      <th>439</th>\n",
       "      <td>201902070700</td>\n",
       "      <td>NaN</td>\n",
       "      <td>NaN</td>\n",
       "      <td>NaN</td>\n",
       "      <td>NaN</td>\n",
       "      <td>NaN</td>\n",
       "    </tr>\n",
       "    <tr>\n",
       "      <th>440</th>\n",
       "      <td>201902070800</td>\n",
       "      <td>NaN</td>\n",
       "      <td>NaN</td>\n",
       "      <td>NaN</td>\n",
       "      <td>NaN</td>\n",
       "      <td>NaN</td>\n",
       "    </tr>\n",
       "    <tr>\n",
       "      <th>441</th>\n",
       "      <td>201902070900</td>\n",
       "      <td>NaN</td>\n",
       "      <td>NaN</td>\n",
       "      <td>NaN</td>\n",
       "      <td>NaN</td>\n",
       "      <td>NaN</td>\n",
       "    </tr>\n",
       "    <tr>\n",
       "      <th>442</th>\n",
       "      <td>201902071000</td>\n",
       "      <td>NaN</td>\n",
       "      <td>NaN</td>\n",
       "      <td>NaN</td>\n",
       "      <td>NaN</td>\n",
       "      <td>NaN</td>\n",
       "    </tr>\n",
       "    <tr>\n",
       "      <th>443</th>\n",
       "      <td>201902071100</td>\n",
       "      <td>NaN</td>\n",
       "      <td>NaN</td>\n",
       "      <td>NaN</td>\n",
       "      <td>NaN</td>\n",
       "      <td>NaN</td>\n",
       "    </tr>\n",
       "    <tr>\n",
       "      <th>452</th>\n",
       "      <td>201902072000</td>\n",
       "      <td>NaN</td>\n",
       "      <td>NaN</td>\n",
       "      <td>NaN</td>\n",
       "      <td>NaN</td>\n",
       "      <td>NaN</td>\n",
       "    </tr>\n",
       "    <tr>\n",
       "      <th>453</th>\n",
       "      <td>201902072100</td>\n",
       "      <td>NaN</td>\n",
       "      <td>NaN</td>\n",
       "      <td>NaN</td>\n",
       "      <td>NaN</td>\n",
       "      <td>NaN</td>\n",
       "    </tr>\n",
       "    <tr>\n",
       "      <th>454</th>\n",
       "      <td>201902072200</td>\n",
       "      <td>NaN</td>\n",
       "      <td>NaN</td>\n",
       "      <td>NaN</td>\n",
       "      <td>NaN</td>\n",
       "      <td>NaN</td>\n",
       "    </tr>\n",
       "    <tr>\n",
       "      <th>455</th>\n",
       "      <td>201902072300</td>\n",
       "      <td>NaN</td>\n",
       "      <td>NaN</td>\n",
       "      <td>NaN</td>\n",
       "      <td>NaN</td>\n",
       "      <td>NaN</td>\n",
       "    </tr>\n",
       "  </tbody>\n",
       "</table>\n",
       "</div>"
      ],
      "text/plain": [
       "      Zeitstempel Produkt_Code  SDO_ID  Wert  Qualitaet_Niveau  Qualitaet_Byte\n",
       "439  201902070700          NaN     NaN   NaN               NaN             NaN\n",
       "440  201902070800          NaN     NaN   NaN               NaN             NaN\n",
       "441  201902070900          NaN     NaN   NaN               NaN             NaN\n",
       "442  201902071000          NaN     NaN   NaN               NaN             NaN\n",
       "443  201902071100          NaN     NaN   NaN               NaN             NaN\n",
       "452  201902072000          NaN     NaN   NaN               NaN             NaN\n",
       "453  201902072100          NaN     NaN   NaN               NaN             NaN\n",
       "454  201902072200          NaN     NaN   NaN               NaN             NaN\n",
       "455  201902072300          NaN     NaN   NaN               NaN             NaN"
      ]
     },
     "execution_count": 4,
     "metadata": {},
     "output_type": "execute_result"
    }
   ],
   "source": [
    "# create a dataframe which contains all dates from 2019-01-20 until 2020-01-20\n",
    "all_dates_frame = pd.DataFrame(pd.date_range(\n",
    "    start = datetime.strptime(\"2019-01-20 00\", \"%Y-%m-%d %H\"), \n",
    "    end = datetime.strptime(\"2020-01-20 00\", \"%Y-%m-%d %H\"),\n",
    "    freq=\"1h\"), columns=[\"date\"])\n",
    "\n",
    "all_dates_frame[\"Zeitstempel\"] = all_dates_frame[\"date\"].map(lambda x: int(x.strftime(\"%Y%m%d%H%M\")))\n",
    "all_dates_frame = all_dates_frame.drop(\"date\", 1)\n",
    "\n",
    "# loading precipitation data of bremen and mark missing values\n",
    "brm_precipitation_full = brm_precipitation.join(all_dates_frame.set_index(\"Zeitstempel\"), on=\"Zeitstempel\", how=\"outer\")\n",
    "brm_precipitation_full = brm_precipitation_full.set_index(\"Zeitstempel\")\n",
    "brm_precipitation_full = brm_precipitation_full.sort_values(\"Zeitstempel\")\n",
    "brm_precipitation_full = brm_precipitation_full.reset_index()\n",
    "\n",
    "brm_precipitation_full[brm_precipitation_full[\"Wert\"].isnull()]"
   ]
  },
  {
   "cell_type": "code",
   "execution_count": 5,
   "metadata": {
    "collapsed": false,
    "jupyter": {
     "outputs_hidden": false
    },
    "pycharm": {
     "name": "#%%\n"
    }
   },
   "outputs": [],
   "source": [
    "brm_sub_frame = brm_precipitation_full[(brm_precipitation_full[\"Zeitstempel\"] >= 201902070000) & (brm_precipitation_full[\"Zeitstempel\"] <= 201902080300)]"
   ]
  },
  {
   "cell_type": "markdown",
   "metadata": {},
   "source": [
    "## Getting data from station of schwarme and station of bassum"
   ]
  },
  {
   "cell_type": "code",
   "execution_count": 6,
   "metadata": {
    "collapsed": false,
    "jupyter": {
     "outputs_hidden": false
    },
    "pycharm": {
     "name": "#%%\n"
    }
   },
   "outputs": [],
   "source": [
    "# loading precipitation data of schwarme and mark missing values\n",
    "schwarme_precipitation_full = schwarme_precipitation.join(all_dates_frame.set_index(\"Zeitstempel\"), on=\"Zeitstempel\", how=\"outer\")\n",
    "schwarme_precipitation_full = schwarme_precipitation_full.set_index(\"Zeitstempel\")\n",
    "schwarme_precipitation_full = schwarme_precipitation_full.sort_values(\"Zeitstempel\")\n",
    "schwarme_precipitation_full = schwarme_precipitation_full.reset_index()\n",
    "\n",
    "bassum_precipitation_full = bassum_precipitation.join(all_dates_frame.set_index(\"Zeitstempel\"), on=\"Zeitstempel\", how=\"outer\")\n",
    "bassum_precipitation_full = bassum_precipitation_full.set_index(\"Zeitstempel\")\n",
    "bassum_precipitation_full = bassum_precipitation_full.sort_values(\"Zeitstempel\")\n",
    "bassum_precipitation_full = bassum_precipitation_full.reset_index()"
   ]
  },
  {
   "cell_type": "markdown",
   "metadata": {},
   "source": [
    "## Finding the station which has approximately the same precipitation than the station of bremen"
   ]
  },
  {
   "cell_type": "code",
   "execution_count": 7,
   "metadata": {
    "collapsed": false,
    "jupyter": {
     "outputs_hidden": false
    },
    "pycharm": {
     "name": "#%%\n"
    }
   },
   "outputs": [],
   "source": [
    "schwarme_sub_frame = schwarme_precipitation_full[(schwarme_precipitation_full[\"Zeitstempel\"] >= 201902070000) & (schwarme_precipitation_full[\"Zeitstempel\"] <= 201902080300)]"
   ]
  },
  {
   "cell_type": "code",
   "execution_count": 8,
   "metadata": {
    "collapsed": false,
    "jupyter": {
     "outputs_hidden": false
    },
    "pycharm": {
     "name": "#%%\n"
    }
   },
   "outputs": [],
   "source": [
    "bassum_sub_frame = bassum_precipitation_full[(bassum_precipitation_full[\"Zeitstempel\"] >= 201902070000) & (bassum_precipitation_full[\"Zeitstempel\"] <= 201902080300)]"
   ]
  },
  {
   "cell_type": "code",
   "execution_count": 9,
   "metadata": {
    "collapsed": false,
    "jupyter": {
     "outputs_hidden": false
    },
    "pycharm": {
     "name": "#%%\n"
    }
   },
   "outputs": [
    {
     "data": {
      "image/png": "[encoded data removed]",
      "text/plain": [
       "<Figure size 432x288 with 1 Axes>"
      ]
     },
     "metadata": {
      "needs_background": "light"
     },
     "output_type": "display_data"
    }
   ],
   "source": [
    "plt.plot(bassum_sub_frame[\"Zeitstempel\"], bassum_sub_frame[\"Wert\"], '.-', label=\"bassum\")\n",
    "plt.plot(schwarme_sub_frame[\"Zeitstempel\"], schwarme_sub_frame[\"Wert\"], '-', label=\"schwarme\")\n",
    "plt.plot(brm_sub_frame[\"Zeitstempel\"], brm_sub_frame[\"Wert\"], '+-', label=\"bremen\")\n",
    "\n",
    "plt.legend()\n",
    "plt.show()"
   ]
  },
  {
   "cell_type": "markdown",
   "metadata": {},
   "source": [
    "## Since precipitiation of bassum fits more the precipitation of bremen we choose to replace missing values of bremen with values of bassum"
   ]
  },
  {
   "cell_type": "code",
   "execution_count": 10,
   "metadata": {
    "pycharm": {
     "name": "#%%\n"
    }
   },
   "outputs": [
    {
     "data": {
      "text/html": [
       "<div>\n",
       "<style scoped>\n",
       "    .dataframe tbody tr th:only-of-type {\n",
       "        vertical-align: middle;\n",
       "    }\n",
       "\n",
       "    .dataframe tbody tr th {\n",
       "        vertical-align: top;\n",
       "    }\n",
       "\n",
       "    .dataframe thead th {\n",
       "        text-align: right;\n",
       "    }\n",
       "</style>\n",
       "<table border=\"1\" class=\"dataframe\">\n",
       "  <thead>\n",
       "    <tr style=\"text-align: right;\">\n",
       "      <th></th>\n",
       "      <th>Zeitstempel</th>\n",
       "      <th>Produkt_Code</th>\n",
       "      <th>SDO_ID</th>\n",
       "      <th>Wert</th>\n",
       "      <th>Qualitaet_Niveau</th>\n",
       "      <th>Qualitaet_Byte</th>\n",
       "    </tr>\n",
       "  </thead>\n",
       "  <tbody>\n",
       "  </tbody>\n",
       "</table>\n",
       "</div>"
      ],
      "text/plain": [
       "Empty DataFrame\n",
       "Columns: [Zeitstempel, Produkt_Code, SDO_ID, Wert, Qualitaet_Niveau, Qualitaet_Byte]\n",
       "Index: []"
      ]
     },
     "execution_count": 10,
     "metadata": {},
     "output_type": "execute_result"
    }
   ],
   "source": [
    "brm_precipitation_full[brm_precipitation_full[\"Wert\"].isnull()] = bassum_precipitation_full\n",
    "brm_precipitation_full[brm_precipitation_full[\"Wert\"].isnull()]"
   ]
  },
  {
   "cell_type": "markdown",
   "metadata": {
    "pycharm": {
     "name": "#%% md\n"
    }
   },
   "source": [
    "## combine missing values of brm_precipitation with precipitation values from the city of schwarme"
   ]
  },
  {
   "cell_type": "code",
   "execution_count": 11,
   "metadata": {
    "collapsed": false,
    "jupyter": {
     "outputs_hidden": false
    },
    "pycharm": {
     "name": "#%%\n"
    }
   },
   "outputs": [],
   "source": [
    "brm_precipitation = join_by_hour(brm, brm_precipitation_full, \"precipitation\")\n",
    "brm_weather = join_by_hour(brm_precipitation, brm_temperature, \"temperature\")\n",
    "brm_weather.to_csv(\"../generated/bremen_weather.csv\")"
   ]
  },
  {
   "cell_type": "code",
   "execution_count": 12,
   "metadata": {
    "collapsed": false,
    "jupyter": {
     "outputs_hidden": false
    },
    "pycharm": {
     "name": "#%%\n"
    }
   },
   "outputs": [],
   "source": [
    "frb_precipitation = join_by_hour(frb, frb_precipitation, \"precipitation\")\n",
    "frb_weather = join_by_hour(frb_precipitation, frb_temperature, \"temperature\")\n",
    "frb_weather.to_csv(\"../generated/freiburg_weather.csv\")"
   ]
  },
  {
   "cell_type": "code",
   "execution_count": null,
   "outputs": [],
   "source": [
    "## bring files in same shape as files from demand for merging them"
   ],
   "metadata": {
    "collapsed": false,
    "pycharm": {
     "name": "#%%\n"
    }
   }
  },
  {
   "cell_type": "code",
   "execution_count": null,
   "outputs": [],
   "source": [
    "frb_weather[\"hour\"] = frb_weather[\"time\"].str[:-6]\n",
    "frb_hourly_driven = frb_weather.groupby([\"day\",\"hour\"]).agg({\"precipitation\":\"mean\",\"temperature\":\"mean\"})\n",
    "frb_hourly_driven.to_csv(\"../generated/frb_hourly_weather.csv\")"
   ],
   "metadata": {
    "collapsed": false,
    "pycharm": {
     "name": "#%%\n"
    }
   }
  },
  {
   "cell_type": "code",
   "execution_count": 13,
   "metadata": {
    "collapsed": false,
    "jupyter": {
     "outputs_hidden": false
    },
    "pycharm": {
     "name": "#%%\n"
    }
   },
   "outputs": [],
   "source": [
    "frb_weather[\"hour\"] = frb_weather[\"time\"].str[:-6]\n",
    "frb_hourly_driven = frb_weather.groupby([\"day\",\"hour\"]).agg({\"precipitation\":\"mean\",\"temperature\":\"mean\"})\n",
    "frb_hourly_driven.to_csv(\"../generated/frb_hourly_weather.csv\")"
   ]
  },
  {
   "cell_type": "code",
   "execution_count": 14,
   "metadata": {},
   "outputs": [],
   "source": [
    "frb_weather[\"hour\"] = frb_weather[\"time\"].str[:-6]\n",
    "frb_hourly_driven = frb_weather.groupby([\"day\",\"hour\"]).agg({\"precipitation\":\"mean\",\"temperature\":\"mean\"})\n",
    "frb_hourly_driven.to_csv(\"../generated/frb_hourly_weather.csv\")"
   ]
  }
 ],
 "metadata": {
  "kernelspec": {
   "display_name": "Python 3",
   "language": "python",
   "name": "python3"
  },
  "language_info": {
   "codemirror_mode": {
    "name": "ipython",
    "version": 3
   },
   "file_extension": ".py",
   "mimetype": "text/x-python",
   "name": "python",
   "nbconvert_exporter": "python",
   "pygments_lexer": "ipython3",
   "version": "3.7.7"
  }
 },
 "nbformat": 4,
 "nbformat_minor": 4
}