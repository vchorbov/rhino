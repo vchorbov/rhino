{
 "cells": [
  {
   "cell_type": "code",
   "execution_count": 66,
   "metadata": {},
   "outputs": [],
   "source": [
    "import pandas as pd\n",
    "import matplotlib.pyplot as plt\n",
    "%matplotlib inline\n",
    "import numpy as np\n",
    "import matplotlib.pyplot as plt\n",
    "import seaborn as sns\n",
    "sns.set()\n",
    "sns.set_style(\"whitegrid\")\n",
    "sns.set_palette(\"GnBu_d\")\n",
    "import folium\n",
    "from folium import plugins\n",
    "from folium.plugins import HeatMap\n",
    "from datetime import datetime\n",
    "from datetime import timedelta\n",
    "import math\n",
    "import random \n",
    "import timeit\n",
    "from haversine import haversine"
   ]
  },
  {
   "cell_type": "markdown",
   "metadata": {},
   "source": [
    "## Defining methods to join bike_data and weather data"
   ]
  },
  {
   "cell_type": "code",
   "execution_count": 67,
   "metadata": {},
   "outputs": [],
   "source": [
    "def cut_timestamp(timestamp_col):\n",
    "    return timestamp_col.map(lambda x:int(str(x)[:10]))\n",
    "\n",
    "def assemble_timestamp_cut(day_frame, time_frame):\n",
    "    day_clean = day_frame.map(lambda x: x.replace(\"-\", \"\"))\n",
    "    hour = time_frame.map(lambda x: x.replace(\":\", \"\")[:2])\n",
    "    return (day_clean + hour).astype(\"int64\")\n",
    "\n",
    "def join_by_hour(bike_frame, weather_frame, column_name):\n",
    "    bike_frame[\"timestamp_cut\"] = assemble_timestamp_cut(bike_frame[\"day\"], bike_frame[\"time\"])\n",
    "    weather_frame[\"timestamp_cut\"] = cut_timestamp(weather_frame[\"Zeitstempel\"])\n",
    "    \n",
    "    joined = bike_frame.join(weather_frame[[\"Wert\", \"timestamp_cut\"]].set_index(\"timestamp_cut\"), on=\"timestamp_cut\")\n",
    "    joined[column_name] = joined[\"Wert\"]\n",
    "    \n",
    "    joined = joined.drop(\"Wert\", axis=1)\n",
    "    joined = joined.drop(\"timestamp_cut\", axis=1)\n",
    "    \n",
    "    return joined"
   ]
  },
  {
   "cell_type": "code",
   "execution_count": 68,
   "metadata": {},
   "outputs": [],
   "source": [
    "brm_frame = pd.read_csv(\"resources/bremen.csv\")\n",
    "brm_precipitation = pd.read_csv(\"resources/bremen_precipitation.csv\")\n",
    "brm_temperature = pd.read_csv(\"resources/bremen_temperature.csv\")\n",
    "schwarme_precipitation = pd.read_csv(\"resources/schwarme_precipitation.csv\")\n",
    "bassum_precipitation = pd.read_csv(\"resources/bassum_precipitation.csv\")\n",
    "\n",
    "#brm_precipitation.info()"
   ]
  },
  {
   "cell_type": "markdown",
   "metadata": {},
   "source": [
    "Identifying missing values"
   ]
  },
  {
   "cell_type": "code",
   "execution_count": 69,
   "metadata": {},
   "outputs": [],
   "source": [
    "# loading precipitation data of bremen and mark missing values\n",
    "brm_precipitation_full = brm_precipitation.join(all_dates_frame.set_index(\"Zeitstempel\"), on=\"Zeitstempel\", how=\"outer\")\n",
    "brm_precipitation_full = brm_precipitation_full.set_index(\"Zeitstempel\")\n",
    "brm_precipitation_full = brm_precipitation_full.sort_values(\"Zeitstempel\")\n",
    "brm_precipitation_full = brm_precipitation_full.reset_index()\n",
    "\n",
    "#brm_precipitation_full[brm_precipitation_full[\"Wert\"].isnull()]"
   ]
  },
  {
   "cell_type": "code",
   "execution_count": 70,
   "metadata": {},
   "outputs": [],
   "source": [
    "brm_sub_frame = brm_precipitation_full[(brm_precipitation_full[\"Zeitstempel\"] >= 201902070000) & (brm_precipitation_full[\"Zeitstempel\"] <= 201902080300)]"
   ]
  },
  {
   "cell_type": "markdown",
   "metadata": {},
   "source": [
    "## Getting data from station of schwarme and station of bassum"
   ]
  },
  {
   "cell_type": "code",
   "execution_count": 71,
   "metadata": {},
   "outputs": [],
   "source": [
    "# loading precipitation data of schwarme and mark missing values\n",
    "schwarme_precipitation_full = schwarme_precipitation.join(all_dates_frame.set_index(\"Zeitstempel\"), on=\"Zeitstempel\", how=\"outer\")\n",
    "schwarme_precipitation_full = schwarme_precipitation_full.set_index(\"Zeitstempel\")\n",
    "schwarme_precipitation_full = schwarme_precipitation_full.sort_values(\"Zeitstempel\")\n",
    "schwarme_precipitation_full = schwarme_precipitation_full.reset_index()\n",
    "\n",
    "bassum_precipitation_full = bassum_precipitation.join(all_dates_frame.set_index(\"Zeitstempel\"), on=\"Zeitstempel\", how=\"outer\")\n",
    "bassum_precipitation_full = bassum_precipitation_full.set_index(\"Zeitstempel\")\n",
    "bassum_precipitation_full = bassum_precipitation_full.sort_values(\"Zeitstempel\")\n",
    "bassum_precipitation_full = bassum_precipitation_full.reset_index()"
   ]
  },
  {
   "cell_type": "markdown",
   "metadata": {},
   "source": [
    "## Finding the station which has approximately the same precipitation than the station of bremen"
   ]
  },
  {
   "cell_type": "code",
   "execution_count": 72,
   "metadata": {},
   "outputs": [],
   "source": [
    "schwarme_sub_frame = schwarme_precipitation_full[(schwarme_precipitation_full[\"Zeitstempel\"] >= 201902070000) & (schwarme_precipitation_full[\"Zeitstempel\"] <= 201902080300)]"
   ]
  },
  {
   "cell_type": "code",
   "execution_count": 73,
   "metadata": {},
   "outputs": [],
   "source": [
    "bassum_sub_frame = bassum_precipitation_full[(bassum_precipitation_full[\"Zeitstempel\"] >= 201902070000) & (bassum_precipitation_full[\"Zeitstempel\"] <= 201902080300)]"
   ]
  },
  {
   "cell_type": "code",
   "execution_count": 74,
   "metadata": {},
   "outputs": [
    {
     "data": {
      "image/png": "[encoded data removed]",
      "text/plain": [
       "<Figure size 432x288 with 1 Axes>"
      ]
     },
     "metadata": {},
     "output_type": "display_data"
    }
   ],
   "source": [
    "plt.plot(bassum_sub_frame[\"Zeitstempel\"], bassum_sub_frame[\"Wert\"], '.-', label=\"bassum\")\n",
    "plt.plot(schwarme_sub_frame[\"Zeitstempel\"], schwarme_sub_frame[\"Wert\"], '-', label=\"schwarme\")\n",
    "plt.plot(brm_sub_frame[\"Zeitstempel\"], brm_sub_frame[\"Wert\"], '+-', label=\"bremen\")\n",
    "\n",
    "plt.legend()\n",
    "plt.show()"
   ]
  },
  {
   "cell_type": "markdown",
   "metadata": {},
   "source": [
    "Since there are missing hours in the weather data, we want to fill these gaps with weater data from the nearest station. \n"
   ]
  },
  {
   "cell_type": "markdown",
   "metadata": {},
   "source": [
    "## combine missing values of brm_precipitation with precipitation values from the city of schwarme"
   ]
  },
  {
   "cell_type": "code",
   "execution_count": 75,
   "metadata": {},
   "outputs": [],
   "source": [
    "# create a dataframe which contains all dates from 2019-01-20 until 2020-01-20\n",
    "all_dates_frame = pd.DataFrame(pd.date_range(\n",
    "    start = datetime.strptime(\"2019-01-20 00\", \"%Y-%m-%d %H\"), \n",
    "    end = datetime.strptime(\"2020-01-20 00\", \"%Y-%m-%d %H\"),\n",
    "    freq=\"1h\"), columns=[\"date\"])\n",
    "\n",
    "all_dates_frame[\"Zeitstempel\"] = all_dates_frame[\"date\"].map(lambda x: int(x.strftime(\"%Y%m%d%H%M\")))\n",
    "all_dates_frame = all_dates_frame.drop(\"date\", 1)\n",
    "\n",
    "# loading precipitation data of schwarme and mark missing values\n",
    "schwarme_precipitation_full = schwarme_precipitation.join(all_dates_frame.set_index(\"Zeitstempel\"), on=\"Zeitstempel\", how=\"outer\")\n",
    "schwarme_precipitation_full = schwarme_precipitation_full.set_index(\"Zeitstempel\")\n",
    "schwarme_precipitation_full = schwarme_precipitation_full.sort_values(\"Zeitstempel\")\n",
    "\n",
    "# loading precipitation data of bremen and mark missing values\n",
    "brm_precipitation_full = brm_precipitation.join(all_dates_frame.set_index(\"Zeitstempel\"), on=\"Zeitstempel\", how=\"outer\")\n",
    "brm_precipitation_full = brm_precipitation_full.set_index(\"Zeitstempel\")\n",
    "brm_precipitation_full = brm_precipitation_full.sort_values(\"Zeitstempel\")\n",
    "\n",
    "# fill missing values from bremen with values of schwerme\n",
    "brm_precipitation_full[brm_precipitation_full[\"Wert\"].isnull()] = schwarme_precipitation_full\n",
    "\n",
    "brm_precipitation_combined = brm_precipitation_full\n",
    "brm_precipitation_combined = brm_precipitation_combined.reset_index()"
   ]
  },
  {
   "cell_type": "code",
   "execution_count": 76,
   "metadata": {},
   "outputs": [],
   "source": [
    "brm_frame_precipitation = join_by_hour(brm_frame, brm_precipitation_combined, \"precipitation\")\n",
    "brm_frame_precipitation\n",
    "\n",
    "brm_frame_weather = join_by_hour(brm_frame_precipitation, brm_temperature, \"temperature\")\n",
    "\n",
    "#brm_frame_weather.info()"
   ]
  },
  {
   "cell_type": "code",
   "execution_count": 77,
   "metadata": {
    "collapsed": false,
    "jupyter": {
     "outputs_hidden": false
    },
    "pycharm": {
     "name": "#%%\n"
    }
   },
   "outputs": [],
   "source": [
    "frb_frame = pd.read_csv(\"resources/freiburg.csv\")\n",
    "frb_precipitation = pd.read_csv(\"resources/freiburg_precipitation.csv\")\n",
    "frb_temperature = pd.read_csv(\"resources/freiburg_temperature.csv\")\n",
    "\n",
    "frb_frame_precipitation = join_by_hour(frb_frame, frb_precipitation, \"precipitation\")\n",
    "frb_frame_weather = join_by_hour(frb_frame_precipitation, frb_temperature, \"temperature\")\n",
    "\n",
    "#frb_frame_weather.info()"
   ]
  },
  {
   "cell_type": "code",
   "execution_count": 95,
   "metadata": {},
   "outputs": [],
   "source": [
    "BRM = brm_frame_weather\n",
    "FRB = frb_frame_weather"
   ]
  },
  {
   "cell_type": "code",
   "execution_count": 96,
   "metadata": {},
   "outputs": [],
   "source": [
    "BRM[\"trip_duration\"] = BRM[\"trip_duration\"].astype(str).str.extract(\"days (.*?)\\.\")\n",
    "FRB[\"trip_duration\"] = FRB[\"trip_duration\"].astype(str).str.extract(\"days (.*?)\\.\")"
   ]
  },
  {
   "cell_type": "markdown",
   "metadata": {},
   "source": [
    "To work with the duration of the Trips we need to convert them to a useful type:"
   ]
  },
  {
   "cell_type": "code",
   "execution_count": 97,
   "metadata": {},
   "outputs": [],
   "source": [
    "BRM[\"trip_duration\"] = BRM[\"trip_duration\"].apply(pd.Timedelta)\n",
    "FRB[\"trip_duration\"] = FRB[\"trip_duration\"].apply(pd.Timedelta)"
   ]
  },
  {
   "cell_type": "markdown",
   "metadata": {},
   "source": [
    "After the convertion we can sum the time daily driven:"
   ]
  },
  {
   "cell_type": "code",
   "execution_count": 98,
   "metadata": {},
   "outputs": [],
   "source": [
    "BRM_daily_driven = BRM.groupby(\"day\").agg({\"trip_duration\":\"sum\"})\n",
    "FRB_daily_driven = FRB.groupby(\"day\").agg({\"trip_duration\":\"sum\"})"
   ]
  },
  {
   "cell_type": "markdown",
   "metadata": {},
   "source": [
    "For a more detailed aggregation we add a daytime to the variables, so we can calculate time driven by daytime. This also allows a better mapping of how weather effects demand."
   ]
  },
  {
   "cell_type": "code",
   "execution_count": 99,
   "metadata": {},
   "outputs": [],
   "source": [
    "BRM[\"daytime\"] = \"null\"\n",
    "FRB[\"daytime\"] = \"null\""
   ]
  },
  {
   "cell_type": "markdown",
   "metadata": {},
   "source": [
    "Define Daytimes: Morning: 6 - 11 | Noon: 11 - 16 | Evening: 16 - 21 | Night: 21 - 6"
   ]
  },
  {
   "cell_type": "code",
   "execution_count": 100,
   "metadata": {},
   "outputs": [],
   "source": [
    "BRM_morning = BRM[(BRM[\"time\"] > \"06:00:00\") & (BRM[\"time\"] <= \"11:00:00\")] #saving rows where time is in defined range to a new df\n",
    "BRM_noon = BRM[(BRM[\"time\"] > \"11:00:00\") & (BRM[\"time\"] <= \"16:00:00\")]\n",
    "BRM_evening = BRM[(BRM[\"time\"] > \"16:00:00\") & (BRM[\"time\"] <= \"21:00:00\")]\n",
    "BRM_night = BRM[(BRM[\"time\"] > \"21:00:00\")] + BRM[(BRM[\"time\"] <= \"06:00:00\")]"
   ]
  },
  {
   "cell_type": "code",
   "execution_count": 101,
   "metadata": {},
   "outputs": [],
   "source": [
    "FRB_morning = FRB[(FRB[\"time\"] > \"06:00:00\") & (FRB[\"time\"] <= \"11:00:00\")]\n",
    "FRB_noon = FRB[(FRB[\"time\"] > \"11:00:00\") & (FRB[\"time\"] <= \"16:00:00\")]\n",
    "FRB_evening = FRB[(FRB[\"time\"] > \"16:00:00\") & (FRB[\"time\"] <= \"21:00:00\")]\n",
    "FRB_night = FRB[(FRB[\"time\"] > \"21:00:00\")] + FRB[(FRB[\"time\"] <= \"06:00:00\")]"
   ]
  },
  {
   "cell_type": "markdown",
   "metadata": {},
   "source": [
    "adding corresponding values to column:"
   ]
  },
  {
   "cell_type": "code",
   "execution_count": 102,
   "metadata": {},
   "outputs": [],
   "source": [
    "for i in BRM_morning.index: # using indexes from lists above to cycle through the whole data\n",
    "   BRM.at[i , \"daytime\"] = 0 # morning refers to 0\n",
    "for i in BRM_noon.index:\n",
    "   BRM.at[i , \"daytime\"] = 1 # noon -> 1\n",
    "for i in BRM_evening.index:\n",
    "   BRM.at[i , \"daytime\"] = 2 # evening -> 2\n",
    "for i in BRM_night.index:\n",
    "   BRM.at[i , \"daytime\"] = 3 # night -> 3"
   ]
  },
  {
   "cell_type": "code",
   "execution_count": 103,
   "metadata": {},
   "outputs": [],
   "source": [
    "for i in FRB_morning.index:\n",
    "   FRB.at[i , \"daytime\"] = 0\n",
    "for i in FRB_noon.index:\n",
    "   FRB.at[i , \"daytime\"] = 1\n",
    "for i in FRB_evening.index:\n",
    "   FRB.at[i , \"daytime\"] = 2\n",
    "for i in FRB_night.index:\n",
    "   FRB.at[i , \"daytime\"] = 3"
   ]
  },
  {
   "cell_type": "markdown",
   "metadata": {},
   "source": [
    "Summarizing data over day and daytime via aggregation of the trip durations taken."
   ]
  },
  {
   "cell_type": "code",
   "execution_count": 104,
   "metadata": {},
   "outputs": [],
   "source": [
    "BRM_daytime_driven = BRM.groupby([\"day\",\"daytime\"]).agg({\"trip_duration\":\"sum\"})\n",
    "BRM_daytime_driven[\"trip_duration\"] = BRM_daytime_driven[\"trip_duration\"].astype(str).str.extract(\"days (.*?)\\.\")"
   ]
  },
  {
   "cell_type": "code",
   "execution_count": 105,
   "metadata": {},
   "outputs": [],
   "source": [
    "FRB_daytime_driven = FRB.groupby([\"day\",\"daytime\"]).agg({\"trip_duration\":\"sum\"})\n",
    "FRB_daytime_driven[\"trip_duration\"] = FRB_daytime_driven[\"trip_duration\"].astype(str).str.extract(\"days (.*?)\\.\")"
   ]
  },
  {
   "cell_type": "code",
   "execution_count": 106,
   "metadata": {},
   "outputs": [],
   "source": [
    "# Anzeige von dem ganzen gedöns das ich ausgerechnet hab und ein Auschnitt von einem Tag aus Freiburg zur Überprüfung:\n",
    "#print(BRM_daytime_driven)# falls jemand weiss wie man daytime als Spalten bekommt sagt bescheid 😄 (hab 1std versucht das hinzubekomme dann wars mir zu blöd 🤣)\n",
    "#print(FRB_daytime_driven)\n",
    "#print(FRB[FRB[\"day\"] == \"2019-05-07\"])"
   ]
  },
  {
   "cell_type": "code",
   "execution_count": 107,
   "metadata": {},
   "outputs": [],
   "source": [
    "BRM[\"hour\"] = BRM[\"time\"].str[:-6]"
   ]
  },
  {
   "cell_type": "code",
   "execution_count": 125,
   "metadata": {},
   "outputs": [],
   "source": [
    "BRM_hourly_driven = BRM.groupby([\"day\",\"hour\"]).agg({\"trip_duration\":\"sum\",\"precipitation\":\"mean\",\"temperature\":\"mean\"})"
   ]
  },
  {
   "cell_type": "code",
   "execution_count": 126,
   "metadata": {},
   "outputs": [
    {
     "data": {
      "text/html": [
       "<div>\n",
       "<style scoped>\n",
       "    .dataframe tbody tr th:only-of-type {\n",
       "        vertical-align: middle;\n",
       "    }\n",
       "\n",
       "    .dataframe tbody tr th {\n",
       "        vertical-align: top;\n",
       "    }\n",
       "\n",
       "    .dataframe thead th {\n",
       "        text-align: right;\n",
       "    }\n",
       "</style>\n",
       "<table border=\"1\" class=\"dataframe\">\n",
       "  <thead>\n",
       "    <tr style=\"text-align: right;\">\n",
       "      <th></th>\n",
       "      <th></th>\n",
       "      <th>trip_duration</th>\n",
       "      <th>precipitation</th>\n",
       "      <th>temperature</th>\n",
       "    </tr>\n",
       "    <tr>\n",
       "      <th>day</th>\n",
       "      <th>hour</th>\n",
       "      <th></th>\n",
       "      <th></th>\n",
       "      <th></th>\n",
       "    </tr>\n",
       "  </thead>\n",
       "  <tbody>\n",
       "    <tr>\n",
       "      <th rowspan=\"5\" valign=\"top\">2019-01-20</th>\n",
       "      <th>00</th>\n",
       "      <td>00:21:00</td>\n",
       "      <td>0.0</td>\n",
       "      <td>-3.8</td>\n",
       "    </tr>\n",
       "    <tr>\n",
       "      <th>01</th>\n",
       "      <td>00:34:00</td>\n",
       "      <td>0.0</td>\n",
       "      <td>-3.2</td>\n",
       "    </tr>\n",
       "    <tr>\n",
       "      <th>02</th>\n",
       "      <td>01:51:00</td>\n",
       "      <td>0.0</td>\n",
       "      <td>-3.6</td>\n",
       "    </tr>\n",
       "    <tr>\n",
       "      <th>03</th>\n",
       "      <td>00:18:00</td>\n",
       "      <td>0.0</td>\n",
       "      <td>-4.5</td>\n",
       "    </tr>\n",
       "    <tr>\n",
       "      <th>05</th>\n",
       "      <td>01:10:00</td>\n",
       "      <td>0.0</td>\n",
       "      <td>-4.9</td>\n",
       "    </tr>\n",
       "    <tr>\n",
       "      <th>...</th>\n",
       "      <th>...</th>\n",
       "      <td>...</td>\n",
       "      <td>...</td>\n",
       "      <td>...</td>\n",
       "    </tr>\n",
       "    <tr>\n",
       "      <th rowspan=\"5\" valign=\"top\">2020-01-20</th>\n",
       "      <th>19</th>\n",
       "      <td>06:24:00</td>\n",
       "      <td>0.0</td>\n",
       "      <td>4.4</td>\n",
       "    </tr>\n",
       "    <tr>\n",
       "      <th>20</th>\n",
       "      <td>05:20:00</td>\n",
       "      <td>0.0</td>\n",
       "      <td>4.7</td>\n",
       "    </tr>\n",
       "    <tr>\n",
       "      <th>21</th>\n",
       "      <td>01:47:00</td>\n",
       "      <td>0.0</td>\n",
       "      <td>4.7</td>\n",
       "    </tr>\n",
       "    <tr>\n",
       "      <th>22</th>\n",
       "      <td>02:28:00</td>\n",
       "      <td>0.0</td>\n",
       "      <td>4.7</td>\n",
       "    </tr>\n",
       "    <tr>\n",
       "      <th>23</th>\n",
       "      <td>00:23:00</td>\n",
       "      <td>0.0</td>\n",
       "      <td>4.5</td>\n",
       "    </tr>\n",
       "  </tbody>\n",
       "</table>\n",
       "<p>8409 rows × 3 columns</p>\n",
       "</div>"
      ],
      "text/plain": [
       "                trip_duration  precipitation  temperature\n",
       "day        hour                                          \n",
       "2019-01-20 00        00:21:00            0.0         -3.8\n",
       "           01        00:34:00            0.0         -3.2\n",
       "           02        01:51:00            0.0         -3.6\n",
       "           03        00:18:00            0.0         -4.5\n",
       "           05        01:10:00            0.0         -4.9\n",
       "...                       ...            ...          ...\n",
       "2020-01-20 19        06:24:00            0.0          4.4\n",
       "           20        05:20:00            0.0          4.7\n",
       "           21        01:47:00            0.0          4.7\n",
       "           22        02:28:00            0.0          4.7\n",
       "           23        00:23:00            0.0          4.5\n",
       "\n",
       "[8409 rows x 3 columns]"
      ]
     },
     "execution_count": 126,
     "metadata": {},
     "output_type": "execute_result"
    }
   ],
   "source": [
    "BRM_hourly_driven"
   ]
  },
  {
   "cell_type": "code",
   "execution_count": 127,
   "metadata": {},
   "outputs": [
    {
     "data": {
      "text/html": [
       "<div>\n",
       "<style scoped>\n",
       "    .dataframe tbody tr th:only-of-type {\n",
       "        vertical-align: middle;\n",
       "    }\n",
       "\n",
       "    .dataframe tbody tr th {\n",
       "        vertical-align: top;\n",
       "    }\n",
       "\n",
       "    .dataframe thead th {\n",
       "        text-align: right;\n",
       "    }\n",
       "</style>\n",
       "<table border=\"1\" class=\"dataframe\">\n",
       "  <thead>\n",
       "    <tr style=\"text-align: right;\">\n",
       "      <th></th>\n",
       "      <th>day</th>\n",
       "      <th>time</th>\n",
       "      <th>b_number</th>\n",
       "      <th>city</th>\n",
       "      <th>trip_duration</th>\n",
       "      <th>orig_lat</th>\n",
       "      <th>orig_lng</th>\n",
       "      <th>dest_lat</th>\n",
       "      <th>dest_lng</th>\n",
       "      <th>precipitation</th>\n",
       "      <th>temperature</th>\n",
       "      <th>daytime</th>\n",
       "      <th>hour</th>\n",
       "    </tr>\n",
       "  </thead>\n",
       "  <tbody>\n",
       "    <tr>\n",
       "      <th>0</th>\n",
       "      <td>2019-04-21</td>\n",
       "      <td>17:34:00</td>\n",
       "      <td>20507</td>\n",
       "      <td>bremen</td>\n",
       "      <td>00:13:00</td>\n",
       "      <td>53.078923</td>\n",
       "      <td>8.884911</td>\n",
       "      <td>53.078711</td>\n",
       "      <td>8.899906</td>\n",
       "      <td>0.0</td>\n",
       "      <td>21.2</td>\n",
       "      <td>2</td>\n",
       "      <td>17</td>\n",
       "    </tr>\n",
       "    <tr>\n",
       "      <th>1</th>\n",
       "      <td>2019-05-23</td>\n",
       "      <td>15:33:00</td>\n",
       "      <td>20507</td>\n",
       "      <td>bremen</td>\n",
       "      <td>00:07:00</td>\n",
       "      <td>53.078923</td>\n",
       "      <td>8.884911</td>\n",
       "      <td>53.078004</td>\n",
       "      <td>8.876828</td>\n",
       "      <td>0.0</td>\n",
       "      <td>20.4</td>\n",
       "      <td>1</td>\n",
       "      <td>15</td>\n",
       "    </tr>\n",
       "    <tr>\n",
       "      <th>2</th>\n",
       "      <td>2019-06-14</td>\n",
       "      <td>22:30:00</td>\n",
       "      <td>20507</td>\n",
       "      <td>bremen</td>\n",
       "      <td>00:08:00</td>\n",
       "      <td>53.078923</td>\n",
       "      <td>8.884911</td>\n",
       "      <td>53.074731</td>\n",
       "      <td>8.876003</td>\n",
       "      <td>0.0</td>\n",
       "      <td>19.6</td>\n",
       "      <td>3</td>\n",
       "      <td>22</td>\n",
       "    </tr>\n",
       "    <tr>\n",
       "      <th>3</th>\n",
       "      <td>2019-06-16</td>\n",
       "      <td>10:00:00</td>\n",
       "      <td>20507</td>\n",
       "      <td>bremen</td>\n",
       "      <td>02:02:00</td>\n",
       "      <td>53.074731</td>\n",
       "      <td>8.876003</td>\n",
       "      <td>53.078923</td>\n",
       "      <td>8.884911</td>\n",
       "      <td>0.0</td>\n",
       "      <td>21.6</td>\n",
       "      <td>0</td>\n",
       "      <td>10</td>\n",
       "    </tr>\n",
       "    <tr>\n",
       "      <th>4</th>\n",
       "      <td>2019-06-16</td>\n",
       "      <td>12:55:00</td>\n",
       "      <td>20507</td>\n",
       "      <td>bremen</td>\n",
       "      <td>02:23:00</td>\n",
       "      <td>53.078923</td>\n",
       "      <td>8.884911</td>\n",
       "      <td>53.076236</td>\n",
       "      <td>8.891322</td>\n",
       "      <td>0.0</td>\n",
       "      <td>22.5</td>\n",
       "      <td>1</td>\n",
       "      <td>12</td>\n",
       "    </tr>\n",
       "    <tr>\n",
       "      <th>...</th>\n",
       "      <td>...</td>\n",
       "      <td>...</td>\n",
       "      <td>...</td>\n",
       "      <td>...</td>\n",
       "      <td>...</td>\n",
       "      <td>...</td>\n",
       "      <td>...</td>\n",
       "      <td>...</td>\n",
       "      <td>...</td>\n",
       "      <td>...</td>\n",
       "      <td>...</td>\n",
       "      <td>...</td>\n",
       "      <td>...</td>\n",
       "    </tr>\n",
       "    <tr>\n",
       "      <th>157571</th>\n",
       "      <td>2019-11-17</td>\n",
       "      <td>16:37:00</td>\n",
       "      <td>20999</td>\n",
       "      <td>bremen</td>\n",
       "      <td>00:08:00</td>\n",
       "      <td>53.072835</td>\n",
       "      <td>8.814104</td>\n",
       "      <td>53.072084</td>\n",
       "      <td>8.828756</td>\n",
       "      <td>0.0</td>\n",
       "      <td>4.8</td>\n",
       "      <td>2</td>\n",
       "      <td>16</td>\n",
       "    </tr>\n",
       "    <tr>\n",
       "      <th>157572</th>\n",
       "      <td>2019-11-17</td>\n",
       "      <td>18:39:00</td>\n",
       "      <td>20999</td>\n",
       "      <td>bremen</td>\n",
       "      <td>00:05:00</td>\n",
       "      <td>53.072071</td>\n",
       "      <td>8.828776</td>\n",
       "      <td>53.070533</td>\n",
       "      <td>8.821335</td>\n",
       "      <td>0.0</td>\n",
       "      <td>4.9</td>\n",
       "      <td>2</td>\n",
       "      <td>18</td>\n",
       "    </tr>\n",
       "    <tr>\n",
       "      <th>157573</th>\n",
       "      <td>2019-11-18</td>\n",
       "      <td>09:23:00</td>\n",
       "      <td>20999</td>\n",
       "      <td>bremen</td>\n",
       "      <td>00:09:00</td>\n",
       "      <td>53.070369</td>\n",
       "      <td>8.821749</td>\n",
       "      <td>53.079360</td>\n",
       "      <td>8.813848</td>\n",
       "      <td>0.0</td>\n",
       "      <td>5.8</td>\n",
       "      <td>0</td>\n",
       "      <td>09</td>\n",
       "    </tr>\n",
       "    <tr>\n",
       "      <th>157574</th>\n",
       "      <td>2019-11-19</td>\n",
       "      <td>15:35:00</td>\n",
       "      <td>20999</td>\n",
       "      <td>bremen</td>\n",
       "      <td>00:43:00</td>\n",
       "      <td>53.079591</td>\n",
       "      <td>8.813925</td>\n",
       "      <td>53.145093</td>\n",
       "      <td>8.910599</td>\n",
       "      <td>0.0</td>\n",
       "      <td>7.0</td>\n",
       "      <td>1</td>\n",
       "      <td>15</td>\n",
       "    </tr>\n",
       "    <tr>\n",
       "      <th>157575</th>\n",
       "      <td>2019-11-21</td>\n",
       "      <td>17:45:00</td>\n",
       "      <td>20999</td>\n",
       "      <td>bremen</td>\n",
       "      <td>00:11:00</td>\n",
       "      <td>53.145798</td>\n",
       "      <td>8.909947</td>\n",
       "      <td>53.158160</td>\n",
       "      <td>8.945250</td>\n",
       "      <td>0.0</td>\n",
       "      <td>5.6</td>\n",
       "      <td>2</td>\n",
       "      <td>17</td>\n",
       "    </tr>\n",
       "  </tbody>\n",
       "</table>\n",
       "<p>157576 rows × 13 columns</p>\n",
       "</div>"
      ],
      "text/plain": [
       "               day      time  b_number    city trip_duration   orig_lat  \\\n",
       "0       2019-04-21  17:34:00     20507  bremen      00:13:00  53.078923   \n",
       "1       2019-05-23  15:33:00     20507  bremen      00:07:00  53.078923   \n",
       "2       2019-06-14  22:30:00     20507  bremen      00:08:00  53.078923   \n",
       "3       2019-06-16  10:00:00     20507  bremen      02:02:00  53.074731   \n",
       "4       2019-06-16  12:55:00     20507  bremen      02:23:00  53.078923   \n",
       "...            ...       ...       ...     ...           ...        ...   \n",
       "157571  2019-11-17  16:37:00     20999  bremen      00:08:00  53.072835   \n",
       "157572  2019-11-17  18:39:00     20999  bremen      00:05:00  53.072071   \n",
       "157573  2019-11-18  09:23:00     20999  bremen      00:09:00  53.070369   \n",
       "157574  2019-11-19  15:35:00     20999  bremen      00:43:00  53.079591   \n",
       "157575  2019-11-21  17:45:00     20999  bremen      00:11:00  53.145798   \n",
       "\n",
       "        orig_lng   dest_lat  dest_lng  precipitation  temperature daytime hour  \n",
       "0       8.884911  53.078711  8.899906            0.0         21.2       2   17  \n",
       "1       8.884911  53.078004  8.876828            0.0         20.4       1   15  \n",
       "2       8.884911  53.074731  8.876003            0.0         19.6       3   22  \n",
       "3       8.876003  53.078923  8.884911            0.0         21.6       0   10  \n",
       "4       8.884911  53.076236  8.891322            0.0         22.5       1   12  \n",
       "...          ...        ...       ...            ...          ...     ...  ...  \n",
       "157571  8.814104  53.072084  8.828756            0.0          4.8       2   16  \n",
       "157572  8.828776  53.070533  8.821335            0.0          4.9       2   18  \n",
       "157573  8.821749  53.079360  8.813848            0.0          5.8       0   09  \n",
       "157574  8.813925  53.145093  8.910599            0.0          7.0       1   15  \n",
       "157575  8.909947  53.158160  8.945250            0.0          5.6       2   17  \n",
       "\n",
       "[157576 rows x 13 columns]"
      ]
     },
     "execution_count": 127,
     "metadata": {},
     "output_type": "execute_result"
    }
   ],
   "source": [
    "BRM"
   ]
  },
  {
   "cell_type": "code",
   "execution_count": null,
   "metadata": {},
   "outputs": [],
   "source": []
  },
  {
   "cell_type": "code",
   "execution_count": null,
   "metadata": {},
   "outputs": [],
   "source": []
  }
 ],
 "metadata": {
  "kernelspec": {
   "display_name": "Python 3",
   "language": "python",
   "name": "python3"
  },
  "language_info": {
   "codemirror_mode": {
    "name": "ipython",
    "version": 3
   },
   "file_extension": ".py",
   "mimetype": "text/x-python",
   "name": "python",
   "nbconvert_exporter": "python",
   "pygments_lexer": "ipython3",
   "version": "3.7.7"
  }
 },
 "nbformat": 4,
 "nbformat_minor": 4
}
